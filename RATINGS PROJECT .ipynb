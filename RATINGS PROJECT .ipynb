{
 "cells": [
  {
   "cell_type": "markdown",
   "id": "3c908428",
   "metadata": {},
   "source": [
    "## RATINGS PROJECT "
   ]
  },
  {
   "cell_type": "code",
   "execution_count": 1,
   "id": "43af4d85",
   "metadata": {},
   "outputs": [],
   "source": [
    "import pandas as pd\n",
    "import numpy as np\n",
    "import warnings\n",
    "warnings.filterwarnings('ignore')\n",
    "import seaborn as sns\n",
    "import matplotlib.pyplot as plt"
   ]
  },
  {
   "cell_type": "code",
   "execution_count": 2,
   "id": "03576623",
   "metadata": {},
   "outputs": [],
   "source": [
    "df=pd.read_excel('/Users/natashapoddar/Desktop/RATINGS DATA.xlsx')"
   ]
  },
  {
   "cell_type": "code",
   "execution_count": 3,
   "id": "25e349e2",
   "metadata": {},
   "outputs": [
    {
     "data": {
      "text/html": [
       "<div>\n",
       "<style scoped>\n",
       "    .dataframe tbody tr th:only-of-type {\n",
       "        vertical-align: middle;\n",
       "    }\n",
       "\n",
       "    .dataframe tbody tr th {\n",
       "        vertical-align: top;\n",
       "    }\n",
       "\n",
       "    .dataframe thead th {\n",
       "        text-align: right;\n",
       "    }\n",
       "</style>\n",
       "<table border=\"1\" class=\"dataframe\">\n",
       "  <thead>\n",
       "    <tr style=\"text-align: right;\">\n",
       "      <th></th>\n",
       "      <th>TITLE</th>\n",
       "      <th>REVIEW</th>\n",
       "      <th>RATINGS</th>\n",
       "    </tr>\n",
       "  </thead>\n",
       "  <tbody>\n",
       "    <tr>\n",
       "      <th>0</th>\n",
       "      <td>HP SMART APP? HP DULL APP! HP TECH Support (IN...</td>\n",
       "      <td>I ordered this machine to copy, print, and sca...</td>\n",
       "      <td>2</td>\n",
       "    </tr>\n",
       "    <tr>\n",
       "      <th>1</th>\n",
       "      <td>Printer cost is low but catrege cost is very high</td>\n",
       "      <td>Printer cost is low but cartridge cost very hi...</td>\n",
       "      <td>2</td>\n",
       "    </tr>\n",
       "    <tr>\n",
       "      <th>2</th>\n",
       "      <td>Cartridge is the one to drill hole in pocket</td>\n",
       "      <td>Quality and installation very good and easy. C...</td>\n",
       "      <td>2</td>\n",
       "    </tr>\n",
       "    <tr>\n",
       "      <th>3</th>\n",
       "      <td>I made a mistake buying it</td>\n",
       "      <td>I bought it this year in Jan, and I am regrett...</td>\n",
       "      <td>2</td>\n",
       "    </tr>\n",
       "    <tr>\n",
       "      <th>4</th>\n",
       "      <td>Only looks and brand, Not worth it</td>\n",
       "      <td>Color cartage's red color was finished after 3...</td>\n",
       "      <td>2</td>\n",
       "    </tr>\n",
       "    <tr>\n",
       "      <th>...</th>\n",
       "      <td>...</td>\n",
       "      <td>...</td>\n",
       "      <td>...</td>\n",
       "    </tr>\n",
       "    <tr>\n",
       "      <th>20690</th>\n",
       "      <td>Terrific purchase</td>\n",
       "      <td>Nice phone.camera is excellent excellent.</td>\n",
       "      <td>5</td>\n",
       "    </tr>\n",
       "    <tr>\n",
       "      <th>20691</th>\n",
       "      <td>Great product</td>\n",
       "      <td>Night camera shot on vivo.</td>\n",
       "      <td>5</td>\n",
       "    </tr>\n",
       "    <tr>\n",
       "      <th>20692</th>\n",
       "      <td>Hated it!</td>\n",
       "      <td>Phone has heating problem</td>\n",
       "      <td>1</td>\n",
       "    </tr>\n",
       "    <tr>\n",
       "      <th>20693</th>\n",
       "      <td>Excellent</td>\n",
       "      <td>Nice Product.good Camera</td>\n",
       "      <td>5</td>\n",
       "    </tr>\n",
       "    <tr>\n",
       "      <th>20694</th>\n",
       "      <td>Fair</td>\n",
       "      <td>If u like vivo phones ..go for it.. Ok for the...</td>\n",
       "      <td>3</td>\n",
       "    </tr>\n",
       "  </tbody>\n",
       "</table>\n",
       "<p>20695 rows × 3 columns</p>\n",
       "</div>"
      ],
      "text/plain": [
       "                                                   TITLE  \\\n",
       "0      HP SMART APP? HP DULL APP! HP TECH Support (IN...   \n",
       "1      Printer cost is low but catrege cost is very high   \n",
       "2           Cartridge is the one to drill hole in pocket   \n",
       "3                             I made a mistake buying it   \n",
       "4                     Only looks and brand, Not worth it   \n",
       "...                                                  ...   \n",
       "20690                                  Terrific purchase   \n",
       "20691                                      Great product   \n",
       "20692                                          Hated it!   \n",
       "20693                                          Excellent   \n",
       "20694                                               Fair   \n",
       "\n",
       "                                                  REVIEW  RATINGS  \n",
       "0      I ordered this machine to copy, print, and sca...        2  \n",
       "1      Printer cost is low but cartridge cost very hi...        2  \n",
       "2      Quality and installation very good and easy. C...        2  \n",
       "3      I bought it this year in Jan, and I am regrett...        2  \n",
       "4      Color cartage's red color was finished after 3...        2  \n",
       "...                                                  ...      ...  \n",
       "20690          Nice phone.camera is excellent excellent.        5  \n",
       "20691                         Night camera shot on vivo.        5  \n",
       "20692                          Phone has heating problem        1  \n",
       "20693                           Nice Product.good Camera        5  \n",
       "20694  If u like vivo phones ..go for it.. Ok for the...        3  \n",
       "\n",
       "[20695 rows x 3 columns]"
      ]
     },
     "execution_count": 3,
     "metadata": {},
     "output_type": "execute_result"
    }
   ],
   "source": [
    "df"
   ]
  },
  {
   "cell_type": "markdown",
   "id": "c9740c79",
   "metadata": {},
   "source": [
    "## DUPLICATE VALUES CHECK "
   ]
  },
  {
   "cell_type": "code",
   "execution_count": 4,
   "id": "1e83905f",
   "metadata": {},
   "outputs": [],
   "source": [
    "df1=df.drop_duplicates()"
   ]
  },
  {
   "cell_type": "code",
   "execution_count": 5,
   "id": "924e93a0",
   "metadata": {},
   "outputs": [
    {
     "data": {
      "text/html": [
       "<div>\n",
       "<style scoped>\n",
       "    .dataframe tbody tr th:only-of-type {\n",
       "        vertical-align: middle;\n",
       "    }\n",
       "\n",
       "    .dataframe tbody tr th {\n",
       "        vertical-align: top;\n",
       "    }\n",
       "\n",
       "    .dataframe thead th {\n",
       "        text-align: right;\n",
       "    }\n",
       "</style>\n",
       "<table border=\"1\" class=\"dataframe\">\n",
       "  <thead>\n",
       "    <tr style=\"text-align: right;\">\n",
       "      <th></th>\n",
       "      <th>TITLE</th>\n",
       "      <th>REVIEW</th>\n",
       "      <th>RATINGS</th>\n",
       "    </tr>\n",
       "  </thead>\n",
       "  <tbody>\n",
       "    <tr>\n",
       "      <th>0</th>\n",
       "      <td>HP SMART APP? HP DULL APP! HP TECH Support (IN...</td>\n",
       "      <td>I ordered this machine to copy, print, and sca...</td>\n",
       "      <td>2</td>\n",
       "    </tr>\n",
       "    <tr>\n",
       "      <th>1</th>\n",
       "      <td>Printer cost is low but catrege cost is very high</td>\n",
       "      <td>Printer cost is low but cartridge cost very hi...</td>\n",
       "      <td>2</td>\n",
       "    </tr>\n",
       "    <tr>\n",
       "      <th>2</th>\n",
       "      <td>Cartridge is the one to drill hole in pocket</td>\n",
       "      <td>Quality and installation very good and easy. C...</td>\n",
       "      <td>2</td>\n",
       "    </tr>\n",
       "    <tr>\n",
       "      <th>3</th>\n",
       "      <td>I made a mistake buying it</td>\n",
       "      <td>I bought it this year in Jan, and I am regrett...</td>\n",
       "      <td>2</td>\n",
       "    </tr>\n",
       "    <tr>\n",
       "      <th>4</th>\n",
       "      <td>Only looks and brand, Not worth it</td>\n",
       "      <td>Color cartage's red color was finished after 3...</td>\n",
       "      <td>2</td>\n",
       "    </tr>\n",
       "    <tr>\n",
       "      <th>...</th>\n",
       "      <td>...</td>\n",
       "      <td>...</td>\n",
       "      <td>...</td>\n",
       "    </tr>\n",
       "    <tr>\n",
       "      <th>20690</th>\n",
       "      <td>Terrific purchase</td>\n",
       "      <td>Nice phone.camera is excellent excellent.</td>\n",
       "      <td>5</td>\n",
       "    </tr>\n",
       "    <tr>\n",
       "      <th>20691</th>\n",
       "      <td>Great product</td>\n",
       "      <td>Night camera shot on vivo.</td>\n",
       "      <td>5</td>\n",
       "    </tr>\n",
       "    <tr>\n",
       "      <th>20692</th>\n",
       "      <td>Hated it!</td>\n",
       "      <td>Phone has heating problem</td>\n",
       "      <td>1</td>\n",
       "    </tr>\n",
       "    <tr>\n",
       "      <th>20693</th>\n",
       "      <td>Excellent</td>\n",
       "      <td>Nice Product.good Camera</td>\n",
       "      <td>5</td>\n",
       "    </tr>\n",
       "    <tr>\n",
       "      <th>20694</th>\n",
       "      <td>Fair</td>\n",
       "      <td>If u like vivo phones ..go for it.. Ok for the...</td>\n",
       "      <td>3</td>\n",
       "    </tr>\n",
       "  </tbody>\n",
       "</table>\n",
       "<p>20695 rows × 3 columns</p>\n",
       "</div>"
      ],
      "text/plain": [
       "                                                   TITLE  \\\n",
       "0      HP SMART APP? HP DULL APP! HP TECH Support (IN...   \n",
       "1      Printer cost is low but catrege cost is very high   \n",
       "2           Cartridge is the one to drill hole in pocket   \n",
       "3                             I made a mistake buying it   \n",
       "4                     Only looks and brand, Not worth it   \n",
       "...                                                  ...   \n",
       "20690                                  Terrific purchase   \n",
       "20691                                      Great product   \n",
       "20692                                          Hated it!   \n",
       "20693                                          Excellent   \n",
       "20694                                               Fair   \n",
       "\n",
       "                                                  REVIEW  RATINGS  \n",
       "0      I ordered this machine to copy, print, and sca...        2  \n",
       "1      Printer cost is low but cartridge cost very hi...        2  \n",
       "2      Quality and installation very good and easy. C...        2  \n",
       "3      I bought it this year in Jan, and I am regrett...        2  \n",
       "4      Color cartage's red color was finished after 3...        2  \n",
       "...                                                  ...      ...  \n",
       "20690          Nice phone.camera is excellent excellent.        5  \n",
       "20691                         Night camera shot on vivo.        5  \n",
       "20692                          Phone has heating problem        1  \n",
       "20693                           Nice Product.good Camera        5  \n",
       "20694  If u like vivo phones ..go for it.. Ok for the...        3  \n",
       "\n",
       "[20695 rows x 3 columns]"
      ]
     },
     "execution_count": 5,
     "metadata": {},
     "output_type": "execute_result"
    }
   ],
   "source": [
    "df1"
   ]
  },
  {
   "cell_type": "markdown",
   "id": "cf584fb8",
   "metadata": {},
   "source": [
    "### NO DUPLICATE VALUES FOUND"
   ]
  },
  {
   "cell_type": "markdown",
   "id": "b24bfe4c",
   "metadata": {},
   "source": [
    "## IDENTIFICATION OF VARIABLES & DATA TYPES PRESENT IN THE DATA SET "
   ]
  },
  {
   "cell_type": "code",
   "execution_count": 6,
   "id": "ba726620",
   "metadata": {},
   "outputs": [
    {
     "name": "stdout",
     "output_type": "stream",
     "text": [
      "<class 'pandas.core.frame.DataFrame'>\n",
      "RangeIndex: 20695 entries, 0 to 20694\n",
      "Data columns (total 3 columns):\n",
      " #   Column   Non-Null Count  Dtype \n",
      "---  ------   --------------  ----- \n",
      " 0   TITLE    20693 non-null  object\n",
      " 1   REVIEW   20695 non-null  object\n",
      " 2   RATINGS  20695 non-null  int64 \n",
      "dtypes: int64(1), object(2)\n",
      "memory usage: 485.2+ KB\n"
     ]
    }
   ],
   "source": [
    "df.info()"
   ]
  },
  {
   "cell_type": "code",
   "execution_count": 7,
   "id": "05acdbbc",
   "metadata": {},
   "outputs": [
    {
     "data": {
      "text/plain": [
       "Index(['TITLE', 'REVIEW', 'RATINGS'], dtype='object')"
      ]
     },
     "execution_count": 7,
     "metadata": {},
     "output_type": "execute_result"
    }
   ],
   "source": [
    "df.columns"
   ]
  },
  {
   "cell_type": "code",
   "execution_count": 8,
   "id": "34952540",
   "metadata": {},
   "outputs": [
    {
     "data": {
      "text/plain": [
       "TITLE      object\n",
       "REVIEW     object\n",
       "RATINGS     int64\n",
       "dtype: object"
      ]
     },
     "execution_count": 8,
     "metadata": {},
     "output_type": "execute_result"
    }
   ],
   "source": [
    "df.dtypes"
   ]
  },
  {
   "cell_type": "markdown",
   "id": "412f938d",
   "metadata": {},
   "source": [
    "## UNIQUE & COUNT OF ALL COLUMNS"
   ]
  },
  {
   "cell_type": "code",
   "execution_count": 9,
   "id": "1c699bed",
   "metadata": {},
   "outputs": [
    {
     "data": {
      "text/plain": [
       "array(['HP SMART APP? HP DULL APP! HP TECH Support (INDIA) is of no help! Reaching God would been easier!',\n",
       "       'Printer cost is low but catrege cost is very high',\n",
       "       'Cartridge is the one to drill hole in pocket', ...,\n",
       "       'A solid apple product',\n",
       "       'best budget mobile 📱 in Samsung F series model',\n",
       "       'Terrific purchase.'], dtype=object)"
      ]
     },
     "execution_count": 9,
     "metadata": {},
     "output_type": "execute_result"
    }
   ],
   "source": [
    "df['TITLE'].unique()"
   ]
  },
  {
   "cell_type": "code",
   "execution_count": 10,
   "id": "1d7d8dd6",
   "metadata": {},
   "outputs": [
    {
     "data": {
      "text/plain": [
       "Wonderful                                                     366\n",
       "Great product                                                 255\n",
       "Good                                                          252\n",
       "Fabulous!                                                     252\n",
       "Mind-blowing purchase                                         252\n",
       "                                                             ... \n",
       "Home theatre not good and no home service                       1\n",
       "Baed                                                            1\n",
       "Speaker and woofer sound is crackling during medium volume      1\n",
       "Sound not satisfied                                             1\n",
       "Terrific purchase.                                              1\n",
       "Name: TITLE, Length: 11403, dtype: int64"
      ]
     },
     "execution_count": 10,
     "metadata": {},
     "output_type": "execute_result"
    }
   ],
   "source": [
    "df['TITLE'].value_counts()"
   ]
  },
  {
   "cell_type": "code",
   "execution_count": 12,
   "id": "5750344f",
   "metadata": {},
   "outputs": [
    {
     "data": {
      "text/plain": [
       "array([\"I ordered this machine to copy, print, and scan to save images on my PC. I wanted to help my 89-year mother during my three-week stay in India. Copy&amp; print? no problem! Scanning the document and saving the to PC using HP smart? It was a nightmare!  I could not get a single HP tech support person on the phone/Whatsapp /online chat to help. The directions on the brochure were ridiculous. I needed to turn in important financial documents before the deadline and I could not.  I called USA HP support and begged them to help me figure it out. Though the agent was sympathetic, he refused to intervene claiming it was 'HP India's responsibility. I was in tears. I couldn't help my poor mother who is living in a small town and c was counting on me to sort things out for her.<br> I just don't understand why to sell a product that you can't support esp. for a global conglomerate such as HP. Just disappointed!\",\n",
       "       'Printer cost is low but cartridge cost very high 60 page print out only Cartridge ink refiling not advisable from technician don t by this type printer pleas by ink refiling type printer don t wast your money and time',\n",
       "       'Quality and installation very good and easy. Cartridge finishes as u blink. Donot an economic buy in the long run.',\n",
       "       ..., 'Phone has heating problem', 'Nice Product.good Camera',\n",
       "       'If u like vivo phones ..go for it.. Ok for the price not bad\\n\\nOtherwise oneplus nord ce2 best..'],\n",
       "      dtype=object)"
      ]
     },
     "execution_count": 12,
     "metadata": {},
     "output_type": "execute_result"
    }
   ],
   "source": [
    "df['REVIEW'].unique()"
   ]
  },
  {
   "cell_type": "code",
   "execution_count": 13,
   "id": "d5df1dde",
   "metadata": {},
   "outputs": [
    {
     "data": {
      "text/plain": [
       "I ordered this machine to copy, print, and scan to save images on my PC. I wanted to help my 89-year mother during my three-week stay in India. Copy&amp; print? no problem! Scanning the document and saving the to PC using HP smart? It was a nightmare!  I could not get a single HP tech support person on the phone/Whatsapp /online chat to help. The directions on the brochure were ridiculous. I needed to turn in important financial documents before the deadline and I could not.  I called USA HP support and begged them to help me figure it out. Though the agent was sympathetic, he refused to intervene claiming it was 'HP India's responsibility. I was in tears. I couldn't help my poor mother who is living in a small town and c was counting on me to sort things out for her.<br> I just don't understand why to sell a product that you can't support esp. for a global conglomerate such as HP. Just disappointed!    1\n",
       "Worth the money\\nBuild Quality is good\\nBetter than asus tuf and acer nitro for sure\\nNo heating issue temp rise to 82 but the high speed fan feature makes it 75 in 10 secs\\nFps is good\\nGod of war 60fps on high\\ncsgo 250+ on high\\nApex legends 80+ on medium and 60 to 70 on high\\n\\nin short worth buying product just go for it!!!!!!!                                                                                                                                                                                                                                                                                                                                                                                                                                                                                                                                                                                                       1\n",
       "Pros\\n1. Processor Ryzen 5 5600H is beast processor with six cores combined with RX5500M Graphics card (better than 1650 in many cases) is a truly a gaming combo\\n2. Thermalbof this laptop are awesome due to more ventilated back panel of the laptop\\n3. Design of the laptop follows the theme of red and black colour combination and the pheniox logo cherry on the top\\n4. The screen to the body is very impressive\\n5. Display of the laptop is IPS level display with with top notch refresh rate of 144Hz ...\\nREAD MORE                                                                                                                                                                                                                                                                                                                                                                                                                 1\n",
       "New thermal design, so there was no Heating issues or thermal throttling. CPU temp was around 88C and GPU 75C when I did the stress test. Cinebench R23 Score 9144pts (Multi Core), 1366pts (Single Core). Good Build Quality. A clean install of windows is highly recommended to remove bloatware and also update to the latest BIOS to improve speed and stability. The display colors were on the warmer side, you can easily change it in the Radeon software, I've set it to 7400. The display has contrast...\\nREAD MORE                                                                                                                                                                                                                                                                                                                                                                                                                      1\n",
       "Laptops looks are amazing. Battery backup is decent for normal use, around 4 hours\\nThermals are up to the mark. MSI Centre works very good controlling the system.\\nFull sized keyboard is good for typing. It is very fast laptop.                                                                                                                                                                                                                                                                                                                                                                                                                                                                                                                                                                                                                                                                                                                 1\n",
       "                                                                                                                                                                                                                                                                                                                                                                                                                                                                                                                                                                                                                                                                                                                                                                                                                                                                                                                                                    ..\n",
       "I had ordered it two times first one stats heavy 'bur bur' noise a very next day after installation and second one  keeps continuous power on &amp; off a very first day.<br>Lastly I returned it and brought boat home theatre.                                                                                                                                                                                                                                                                                                                                                                                                                                                                                                                                                                                                                                                                                                                     1\n",
       "Due to bad audio output returned the product.                                                                                                                                                                                                                                                                                                                                                                                                                                                                                                                                                                                                                                                                                                                                                                                                                                                                                                        1\n",
       "Editing my review after use of less than 2 months. The sound system started giving some hussy sounds while playing. Eventually, treble sound got deteriorated and sound has become unclear now. Not expected from Akai, which once upon a time was a reputed music product brand. Besides, not received any warranty card alongwith the product. Whereas, the product is covered under warranty.                                                                                                                                                                                                                                                                                                                                                                                                                                                                                                                                                     1\n",
       "Very bad experience, it felt nice for a few weeks, post which radio static noise came up and it just doesn't go, speaker became useless, cant even use for normal usage                                                                                                                                                                                                                                                                                                                                                                                                                                                                                                                                                                                                                                                                                                                                                                              1\n",
       "If u like vivo phones ..go for it.. Ok for the price not bad\\n\\nOtherwise oneplus nord ce2 best..                                                                                                                                                                                                                                                                                                                                                                                                                                                                                                                                                                                                                                                                                                                                                                                                                                                    1\n",
       "Name: REVIEW, Length: 20695, dtype: int64"
      ]
     },
     "execution_count": 13,
     "metadata": {},
     "output_type": "execute_result"
    }
   ],
   "source": [
    "df['REVIEW'].value_counts()"
   ]
  },
  {
   "cell_type": "code",
   "execution_count": 14,
   "id": "c7ba23d5",
   "metadata": {},
   "outputs": [
    {
     "data": {
      "text/plain": [
       "array([2, 3, 1, 4, 5])"
      ]
     },
     "execution_count": 14,
     "metadata": {},
     "output_type": "execute_result"
    }
   ],
   "source": [
    "df['RATINGS'].unique()"
   ]
  },
  {
   "cell_type": "code",
   "execution_count": 15,
   "id": "7acb39c6",
   "metadata": {},
   "outputs": [
    {
     "data": {
      "text/plain": [
       "2    4139\n",
       "3    4139\n",
       "1    4139\n",
       "4    4139\n",
       "5    4139\n",
       "Name: RATINGS, dtype: int64"
      ]
     },
     "execution_count": 15,
     "metadata": {},
     "output_type": "execute_result"
    }
   ],
   "source": [
    "df['RATINGS'].value_counts()"
   ]
  },
  {
   "cell_type": "markdown",
   "id": "b446b96b",
   "metadata": {},
   "source": [
    "## MISSING VALUES CHECK "
   ]
  },
  {
   "cell_type": "code",
   "execution_count": 16,
   "id": "bcbb6ebe",
   "metadata": {},
   "outputs": [
    {
     "data": {
      "text/plain": [
       "TITLE      2\n",
       "REVIEW     0\n",
       "RATINGS    0\n",
       "dtype: int64"
      ]
     },
     "execution_count": 16,
     "metadata": {},
     "output_type": "execute_result"
    }
   ],
   "source": [
    "df.isnull().sum()"
   ]
  },
  {
   "cell_type": "markdown",
   "id": "52661820",
   "metadata": {},
   "source": [
    "## FIRST 5 ROWS CHECK "
   ]
  },
  {
   "cell_type": "code",
   "execution_count": 17,
   "id": "cc6835d2",
   "metadata": {},
   "outputs": [
    {
     "data": {
      "text/html": [
       "<div>\n",
       "<style scoped>\n",
       "    .dataframe tbody tr th:only-of-type {\n",
       "        vertical-align: middle;\n",
       "    }\n",
       "\n",
       "    .dataframe tbody tr th {\n",
       "        vertical-align: top;\n",
       "    }\n",
       "\n",
       "    .dataframe thead th {\n",
       "        text-align: right;\n",
       "    }\n",
       "</style>\n",
       "<table border=\"1\" class=\"dataframe\">\n",
       "  <thead>\n",
       "    <tr style=\"text-align: right;\">\n",
       "      <th></th>\n",
       "      <th>TITLE</th>\n",
       "      <th>REVIEW</th>\n",
       "      <th>RATINGS</th>\n",
       "    </tr>\n",
       "  </thead>\n",
       "  <tbody>\n",
       "    <tr>\n",
       "      <th>0</th>\n",
       "      <td>HP SMART APP? HP DULL APP! HP TECH Support (IN...</td>\n",
       "      <td>I ordered this machine to copy, print, and sca...</td>\n",
       "      <td>2</td>\n",
       "    </tr>\n",
       "    <tr>\n",
       "      <th>1</th>\n",
       "      <td>Printer cost is low but catrege cost is very high</td>\n",
       "      <td>Printer cost is low but cartridge cost very hi...</td>\n",
       "      <td>2</td>\n",
       "    </tr>\n",
       "    <tr>\n",
       "      <th>2</th>\n",
       "      <td>Cartridge is the one to drill hole in pocket</td>\n",
       "      <td>Quality and installation very good and easy. C...</td>\n",
       "      <td>2</td>\n",
       "    </tr>\n",
       "    <tr>\n",
       "      <th>3</th>\n",
       "      <td>I made a mistake buying it</td>\n",
       "      <td>I bought it this year in Jan, and I am regrett...</td>\n",
       "      <td>2</td>\n",
       "    </tr>\n",
       "    <tr>\n",
       "      <th>4</th>\n",
       "      <td>Only looks and brand, Not worth it</td>\n",
       "      <td>Color cartage's red color was finished after 3...</td>\n",
       "      <td>2</td>\n",
       "    </tr>\n",
       "  </tbody>\n",
       "</table>\n",
       "</div>"
      ],
      "text/plain": [
       "                                               TITLE  \\\n",
       "0  HP SMART APP? HP DULL APP! HP TECH Support (IN...   \n",
       "1  Printer cost is low but catrege cost is very high   \n",
       "2       Cartridge is the one to drill hole in pocket   \n",
       "3                         I made a mistake buying it   \n",
       "4                 Only looks and brand, Not worth it   \n",
       "\n",
       "                                              REVIEW  RATINGS  \n",
       "0  I ordered this machine to copy, print, and sca...        2  \n",
       "1  Printer cost is low but cartridge cost very hi...        2  \n",
       "2  Quality and installation very good and easy. C...        2  \n",
       "3  I bought it this year in Jan, and I am regrett...        2  \n",
       "4  Color cartage's red color was finished after 3...        2  "
      ]
     },
     "execution_count": 17,
     "metadata": {},
     "output_type": "execute_result"
    }
   ],
   "source": [
    "df.head()"
   ]
  },
  {
   "cell_type": "markdown",
   "id": "77efdd79",
   "metadata": {},
   "source": [
    "## LAST 5 ROWS CHECK "
   ]
  },
  {
   "cell_type": "code",
   "execution_count": 18,
   "id": "a2abc969",
   "metadata": {},
   "outputs": [
    {
     "data": {
      "text/html": [
       "<div>\n",
       "<style scoped>\n",
       "    .dataframe tbody tr th:only-of-type {\n",
       "        vertical-align: middle;\n",
       "    }\n",
       "\n",
       "    .dataframe tbody tr th {\n",
       "        vertical-align: top;\n",
       "    }\n",
       "\n",
       "    .dataframe thead th {\n",
       "        text-align: right;\n",
       "    }\n",
       "</style>\n",
       "<table border=\"1\" class=\"dataframe\">\n",
       "  <thead>\n",
       "    <tr style=\"text-align: right;\">\n",
       "      <th></th>\n",
       "      <th>TITLE</th>\n",
       "      <th>REVIEW</th>\n",
       "      <th>RATINGS</th>\n",
       "    </tr>\n",
       "  </thead>\n",
       "  <tbody>\n",
       "    <tr>\n",
       "      <th>20690</th>\n",
       "      <td>Terrific purchase</td>\n",
       "      <td>Nice phone.camera is excellent excellent.</td>\n",
       "      <td>5</td>\n",
       "    </tr>\n",
       "    <tr>\n",
       "      <th>20691</th>\n",
       "      <td>Great product</td>\n",
       "      <td>Night camera shot on vivo.</td>\n",
       "      <td>5</td>\n",
       "    </tr>\n",
       "    <tr>\n",
       "      <th>20692</th>\n",
       "      <td>Hated it!</td>\n",
       "      <td>Phone has heating problem</td>\n",
       "      <td>1</td>\n",
       "    </tr>\n",
       "    <tr>\n",
       "      <th>20693</th>\n",
       "      <td>Excellent</td>\n",
       "      <td>Nice Product.good Camera</td>\n",
       "      <td>5</td>\n",
       "    </tr>\n",
       "    <tr>\n",
       "      <th>20694</th>\n",
       "      <td>Fair</td>\n",
       "      <td>If u like vivo phones ..go for it.. Ok for the...</td>\n",
       "      <td>3</td>\n",
       "    </tr>\n",
       "  </tbody>\n",
       "</table>\n",
       "</div>"
      ],
      "text/plain": [
       "                   TITLE                                             REVIEW  \\\n",
       "20690  Terrific purchase          Nice phone.camera is excellent excellent.   \n",
       "20691      Great product                         Night camera shot on vivo.   \n",
       "20692          Hated it!                          Phone has heating problem   \n",
       "20693          Excellent                           Nice Product.good Camera   \n",
       "20694               Fair  If u like vivo phones ..go for it.. Ok for the...   \n",
       "\n",
       "       RATINGS  \n",
       "20690        5  \n",
       "20691        5  \n",
       "20692        1  \n",
       "20693        5  \n",
       "20694        3  "
      ]
     },
     "execution_count": 18,
     "metadata": {},
     "output_type": "execute_result"
    }
   ],
   "source": [
    "df.tail()"
   ]
  },
  {
   "cell_type": "markdown",
   "id": "d43e93df",
   "metadata": {},
   "source": [
    "## SAMPLE ROW CHECK "
   ]
  },
  {
   "cell_type": "code",
   "execution_count": 19,
   "id": "99df56c3",
   "metadata": {},
   "outputs": [
    {
     "data": {
      "text/html": [
       "<div>\n",
       "<style scoped>\n",
       "    .dataframe tbody tr th:only-of-type {\n",
       "        vertical-align: middle;\n",
       "    }\n",
       "\n",
       "    .dataframe tbody tr th {\n",
       "        vertical-align: top;\n",
       "    }\n",
       "\n",
       "    .dataframe thead th {\n",
       "        text-align: right;\n",
       "    }\n",
       "</style>\n",
       "<table border=\"1\" class=\"dataframe\">\n",
       "  <thead>\n",
       "    <tr style=\"text-align: right;\">\n",
       "      <th></th>\n",
       "      <th>TITLE</th>\n",
       "      <th>REVIEW</th>\n",
       "      <th>RATINGS</th>\n",
       "    </tr>\n",
       "  </thead>\n",
       "  <tbody>\n",
       "    <tr>\n",
       "      <th>2753</th>\n",
       "      <td>Backlight bleed will be there</td>\n",
       "      <td>The monitor i recieved have backlight bleed. M...</td>\n",
       "      <td>3</td>\n",
       "    </tr>\n",
       "  </tbody>\n",
       "</table>\n",
       "</div>"
      ],
      "text/plain": [
       "                              TITLE  \\\n",
       "2753  Backlight bleed will be there   \n",
       "\n",
       "                                                 REVIEW  RATINGS  \n",
       "2753  The monitor i recieved have backlight bleed. M...        3  "
      ]
     },
     "execution_count": 19,
     "metadata": {},
     "output_type": "execute_result"
    }
   ],
   "source": [
    "df.sample()"
   ]
  },
  {
   "cell_type": "markdown",
   "id": "8e5b82b3",
   "metadata": {},
   "source": [
    "## NON GRAPHICAL UNIVARIATE ANALYSIS"
   ]
  },
  {
   "cell_type": "code",
   "execution_count": 20,
   "id": "e33e5435",
   "metadata": {},
   "outputs": [
    {
     "data": {
      "text/html": [
       "<div>\n",
       "<style scoped>\n",
       "    .dataframe tbody tr th:only-of-type {\n",
       "        vertical-align: middle;\n",
       "    }\n",
       "\n",
       "    .dataframe tbody tr th {\n",
       "        vertical-align: top;\n",
       "    }\n",
       "\n",
       "    .dataframe thead th {\n",
       "        text-align: right;\n",
       "    }\n",
       "</style>\n",
       "<table border=\"1\" class=\"dataframe\">\n",
       "  <thead>\n",
       "    <tr style=\"text-align: right;\">\n",
       "      <th></th>\n",
       "      <th>RATINGS</th>\n",
       "    </tr>\n",
       "  </thead>\n",
       "  <tbody>\n",
       "    <tr>\n",
       "      <th>count</th>\n",
       "      <td>20695.000000</td>\n",
       "    </tr>\n",
       "    <tr>\n",
       "      <th>mean</th>\n",
       "      <td>3.000000</td>\n",
       "    </tr>\n",
       "    <tr>\n",
       "      <th>std</th>\n",
       "      <td>1.414248</td>\n",
       "    </tr>\n",
       "    <tr>\n",
       "      <th>min</th>\n",
       "      <td>1.000000</td>\n",
       "    </tr>\n",
       "    <tr>\n",
       "      <th>25%</th>\n",
       "      <td>2.000000</td>\n",
       "    </tr>\n",
       "    <tr>\n",
       "      <th>50%</th>\n",
       "      <td>3.000000</td>\n",
       "    </tr>\n",
       "    <tr>\n",
       "      <th>75%</th>\n",
       "      <td>4.000000</td>\n",
       "    </tr>\n",
       "    <tr>\n",
       "      <th>max</th>\n",
       "      <td>5.000000</td>\n",
       "    </tr>\n",
       "  </tbody>\n",
       "</table>\n",
       "</div>"
      ],
      "text/plain": [
       "            RATINGS\n",
       "count  20695.000000\n",
       "mean       3.000000\n",
       "std        1.414248\n",
       "min        1.000000\n",
       "25%        2.000000\n",
       "50%        3.000000\n",
       "75%        4.000000\n",
       "max        5.000000"
      ]
     },
     "execution_count": 20,
     "metadata": {},
     "output_type": "execute_result"
    }
   ],
   "source": [
    "df.describe()"
   ]
  },
  {
   "cell_type": "markdown",
   "id": "f624e297",
   "metadata": {},
   "source": [
    "## GRAPHICAL UNIVARIATE ANALYSIS"
   ]
  },
  {
   "cell_type": "code",
   "execution_count": 21,
   "id": "515b84dc",
   "metadata": {},
   "outputs": [
    {
     "data": {
      "text/plain": [
       "<AxesSubplot:xlabel='RATINGS', ylabel='count'>"
      ]
     },
     "execution_count": 21,
     "metadata": {},
     "output_type": "execute_result"
    },
    {
     "data": {
      "image/png": "[encoded data removed]",
      "text/plain": [
       "<Figure size 432x288 with 1 Axes>"
      ]
     },
     "metadata": {
      "needs_background": "light"
     },
     "output_type": "display_data"
    }
   ],
   "source": [
    "sns.countplot(df['RATINGS'])"
   ]
  },
  {
   "cell_type": "markdown",
   "id": "18f2774d",
   "metadata": {},
   "source": [
    "## ALL THE RATINGS ARE EQUALLY BALANCED"
   ]
  },
  {
   "cell_type": "markdown",
   "id": "826b002a",
   "metadata": {},
   "source": [
    "## CORRELATION CHECK "
   ]
  },
  {
   "cell_type": "code",
   "execution_count": 22,
   "id": "d505c454",
   "metadata": {},
   "outputs": [
    {
     "data": {
      "text/html": [
       "<div>\n",
       "<style scoped>\n",
       "    .dataframe tbody tr th:only-of-type {\n",
       "        vertical-align: middle;\n",
       "    }\n",
       "\n",
       "    .dataframe tbody tr th {\n",
       "        vertical-align: top;\n",
       "    }\n",
       "\n",
       "    .dataframe thead th {\n",
       "        text-align: right;\n",
       "    }\n",
       "</style>\n",
       "<table border=\"1\" class=\"dataframe\">\n",
       "  <thead>\n",
       "    <tr style=\"text-align: right;\">\n",
       "      <th></th>\n",
       "      <th>RATINGS</th>\n",
       "    </tr>\n",
       "  </thead>\n",
       "  <tbody>\n",
       "    <tr>\n",
       "      <th>RATINGS</th>\n",
       "      <td>1.0</td>\n",
       "    </tr>\n",
       "  </tbody>\n",
       "</table>\n",
       "</div>"
      ],
      "text/plain": [
       "         RATINGS\n",
       "RATINGS      1.0"
      ]
     },
     "execution_count": 22,
     "metadata": {},
     "output_type": "execute_result"
    }
   ],
   "source": [
    "df.corr()"
   ]
  },
  {
   "cell_type": "markdown",
   "id": "9d057464",
   "metadata": {},
   "source": [
    "## SKEWNESS CHECK "
   ]
  },
  {
   "cell_type": "code",
   "execution_count": 23,
   "id": "a19a2edb",
   "metadata": {},
   "outputs": [
    {
     "data": {
      "text/plain": [
       "RATINGS    0.0\n",
       "dtype: float64"
      ]
     },
     "execution_count": 23,
     "metadata": {},
     "output_type": "execute_result"
    }
   ],
   "source": [
    "df.skew()"
   ]
  },
  {
   "cell_type": "markdown",
   "id": "1324927c",
   "metadata": {},
   "source": [
    "## SEPARATING X & Y "
   ]
  },
  {
   "cell_type": "code",
   "execution_count": 24,
   "id": "ce050cbb",
   "metadata": {},
   "outputs": [],
   "source": [
    "x=df['REVIEW']"
   ]
  },
  {
   "cell_type": "code",
   "execution_count": 25,
   "id": "c36f6cab",
   "metadata": {},
   "outputs": [],
   "source": [
    "y=df['RATINGS']"
   ]
  },
  {
   "cell_type": "code",
   "execution_count": 26,
   "id": "e30d3872",
   "metadata": {},
   "outputs": [
    {
     "data": {
      "text/plain": [
       "2    4139\n",
       "3    4139\n",
       "1    4139\n",
       "4    4139\n",
       "5    4139\n",
       "Name: RATINGS, dtype: int64"
      ]
     },
     "execution_count": 26,
     "metadata": {},
     "output_type": "execute_result"
    }
   ],
   "source": [
    "y.value_counts()"
   ]
  },
  {
   "cell_type": "markdown",
   "id": "6d5ecb46",
   "metadata": {},
   "source": [
    "## FEATURE EXTRACTION"
   ]
  },
  {
   "cell_type": "code",
   "execution_count": 27,
   "id": "6bdb8192",
   "metadata": {},
   "outputs": [],
   "source": [
    "from sklearn.feature_extraction.text import CountVectorizer\n",
    "cv=CountVectorizer()"
   ]
  },
  {
   "cell_type": "code",
   "execution_count": 28,
   "id": "6ae93f42",
   "metadata": {},
   "outputs": [],
   "source": [
    "x1=cv.fit_transform(x)"
   ]
  },
  {
   "cell_type": "markdown",
   "id": "5b007318",
   "metadata": {},
   "source": [
    "## DATA SET x1 and y"
   ]
  },
  {
   "cell_type": "code",
   "execution_count": 29,
   "id": "e7114807",
   "metadata": {},
   "outputs": [],
   "source": [
    "from sklearn.model_selection import train_test_split\n",
    "from sklearn.metrics import r2_score\n",
    "from sklearn.metrics import accuracy_score,confusion_matrix,classification_report\n",
    "from sklearn.model_selection import GridSearchCV\n",
    "from sklearn.svm import SVC\n",
    "from sklearn.tree import DecisionTreeClassifier\n",
    "from sklearn.neighbors import KNeighborsClassifier\n",
    "from sklearn.ensemble import RandomForestClassifier\n",
    "from sklearn.model_selection import cross_val_score\n",
    "from sklearn.naive_bayes import MultinomialNB\n",
    "from sklearn.linear_model import LogisticRegression\n",
    "from sklearn.ensemble import GradientBoostingClassifier"
   ]
  },
  {
   "cell_type": "markdown",
   "id": "54cf13d5",
   "metadata": {},
   "source": [
    "## SVC"
   ]
  },
  {
   "cell_type": "code",
   "execution_count": 30,
   "id": "aca131cb",
   "metadata": {},
   "outputs": [],
   "source": [
    "svc=SVC()"
   ]
  },
  {
   "cell_type": "code",
   "execution_count": 31,
   "id": "846ff801",
   "metadata": {},
   "outputs": [
    {
     "name": "stdout",
     "output_type": "stream",
     "text": [
      "At random_state {0} the training accuracy test is 0.7278932109205122\n",
      "At random_state {0} the testing accuracy test is 0.5356366272046388\n",
      "\n",
      "\n",
      "At random_state {1} the training accuracy test is 0.7263227832809858\n",
      "At random_state {1} the testing accuracy test is 0.5474752355641459\n",
      "\n",
      "\n",
      "At random_state {2} the training accuracy test is 0.7239671418216961\n",
      "At random_state {2} the testing accuracy test is 0.5361198357091085\n",
      "\n",
      "\n",
      "At random_state {3} the training accuracy test is 0.7243899492631071\n",
      "At random_state {3} the testing accuracy test is 0.5527905291133124\n",
      "\n",
      "\n",
      "At random_state {4} the training accuracy test is 0.718349842957236\n",
      "At random_state {4} the testing accuracy test is 0.5378110654747523\n",
      "\n",
      "\n",
      "At random_state {5} the training accuracy test is 0.7258999758395748\n",
      "At random_state {5} the testing accuracy test is 0.5395022952403963\n",
      "\n",
      "\n",
      "At random_state {6} the training accuracy test is 0.7275912056052186\n",
      "At random_state {6} the testing accuracy test is 0.5196907465571394\n",
      "\n",
      "\n",
      "At random_state {7} the training accuracy test is 0.7263227832809858\n",
      "At random_state {7} the testing accuracy test is 0.5366030442135782\n",
      "\n",
      "\n",
      "At random_state {8} the training accuracy test is 0.7240275428847548\n",
      "At random_state {8} the testing accuracy test is 0.5363614399613433\n",
      "\n",
      "\n",
      "At random_state {9} the training accuracy test is 0.7230007248127567\n",
      "At random_state {9} the testing accuracy test is 0.5358782314568736\n",
      "\n",
      "\n",
      "At random_state {10} the training accuracy test is 0.7264435854071032\n",
      "At random_state {10} the testing accuracy test is 0.5455424015462672\n",
      "\n",
      "\n",
      "At random_state {11} the training accuracy test is 0.7252959652089876\n",
      "At random_state {11} the testing accuracy test is 0.5465088185552066\n",
      "\n",
      "\n",
      "At random_state {12} the training accuracy test is 0.7252959652089876\n",
      "At random_state {12} the testing accuracy test is 0.5366030442135782\n",
      "\n",
      "\n",
      "At random_state {13} the training accuracy test is 0.7208866876057018\n",
      "At random_state {13} the testing accuracy test is 0.538294273979222\n",
      "\n",
      "\n",
      "At random_state {14} the training accuracy test is 0.7281952162358057\n",
      "At random_state {14} the testing accuracy test is 0.5474752355641459\n",
      "\n",
      "\n",
      "At random_state {15} the training accuracy test is 0.7234839333172264\n",
      "At random_state {15} the testing accuracy test is 0.542884754771684\n",
      "\n",
      "\n",
      "At random_state {16} the training accuracy test is 0.7264435854071032\n",
      "At random_state {16} the testing accuracy test is 0.5498912780864943\n",
      "\n",
      "\n",
      "At random_state {17} the training accuracy test is 0.7233027301280502\n",
      "At random_state {17} the testing accuracy test is 0.5457840057985021\n",
      "\n",
      "\n",
      "At random_state {18} the training accuracy test is 0.7274100024160425\n",
      "At random_state {18} the testing accuracy test is 0.5310461464121768\n",
      "\n",
      "\n",
      "At random_state {19} the training accuracy test is 0.7220947088668761\n",
      "At random_state {19} the testing accuracy test is 0.5438511717806234\n",
      "\n",
      "\n",
      "At random_state {20} the training accuracy test is 0.7246315535153419\n",
      "At random_state {20} the testing accuracy test is 0.5484416525730853\n",
      "\n",
      "\n",
      "At random_state {21} the training accuracy test is 0.7231819280019328\n",
      "At random_state {21} the testing accuracy test is 0.5537569461222518\n",
      "\n",
      "\n",
      "At random_state {22} the training accuracy test is 0.7226383184344044\n",
      "At random_state {22} the testing accuracy test is 0.5566561971490698\n",
      "\n",
      "\n",
      "At random_state {23} the training accuracy test is 0.7267455907223968\n",
      "At random_state {23} the testing accuracy test is 0.5349118144479342\n",
      "\n",
      "\n",
      "At random_state {24} the training accuracy test is 0.7256583715873399\n",
      "At random_state {24} the testing accuracy test is 0.5416767335105098\n",
      "\n",
      "\n",
      "At random_state {25} the training accuracy test is 0.728557622614158\n",
      "At random_state {25} the testing accuracy test is 0.536844648465813\n",
      "\n",
      "\n",
      "At random_state {26} the training accuracy test is 0.7242691471369896\n",
      "At random_state {26} the testing accuracy test is 0.5482000483208505\n",
      "\n",
      "\n",
      "At random_state {27} the training accuracy test is 0.7258999758395748\n",
      "At random_state {27} the testing accuracy test is 0.5438511717806234\n",
      "\n",
      "\n",
      "At random_state {28} the training accuracy test is 0.723363131191109\n",
      "At random_state {28} the testing accuracy test is 0.5585890311669486\n",
      "\n",
      "\n",
      "At random_state {29} the training accuracy test is 0.726685189659338\n",
      "At random_state {29} the testing accuracy test is 0.5455424015462672\n",
      "\n",
      "\n",
      "At random_state {30} the training accuracy test is 0.722517516308287\n",
      "At random_state {30} the testing accuracy test is 0.5510992993476685\n",
      "\n",
      "\n",
      "At random_state {31} the training accuracy test is 0.7254167673351051\n",
      "At random_state {31} the testing accuracy test is 0.5479584440686156\n",
      "\n",
      "\n",
      "At random_state {32} the training accuracy test is 0.7254167673351051\n",
      "At random_state {32} the testing accuracy test is 0.5450591930417975\n",
      "\n",
      "\n",
      "At random_state {33} the training accuracy test is 0.7249939598936941\n",
      "At random_state {33} the testing accuracy test is 0.547233631311911\n",
      "\n",
      "\n",
      "At random_state {34} the training accuracy test is 0.7245107513892245\n",
      "At random_state {34} the testing accuracy test is 0.5346702101956995\n",
      "\n",
      "\n",
      "At random_state {35} the training accuracy test is 0.7249335588306354\n",
      "At random_state {35} the testing accuracy test is 0.5271804783764195\n",
      "\n",
      "\n",
      "At random_state {36} the training accuracy test is 0.7269871949746316\n",
      "At random_state {36} the testing accuracy test is 0.5358782314568736\n",
      "\n",
      "\n",
      "At random_state {37} the training accuracy test is 0.7234839333172264\n",
      "At random_state {37} the testing accuracy test is 0.5445759845373278\n",
      "\n",
      "\n",
      "At random_state {38} the training accuracy test is 0.7232423290649915\n",
      "At random_state {38} the testing accuracy test is 0.5474752355641459\n",
      "\n",
      "\n",
      "At random_state {39} the training accuracy test is 0.7246315535153419\n",
      "At random_state {39} the testing accuracy test is 0.5510992993476685\n",
      "\n",
      "\n",
      "At random_state {40} the training accuracy test is 0.7256583715873399\n",
      "At random_state {40} the testing accuracy test is 0.5482000483208505\n",
      "\n",
      "\n",
      "At random_state {41} the training accuracy test is 0.7237859386325199\n",
      "At random_state {41} the testing accuracy test is 0.5419183377627447\n",
      "\n",
      "\n",
      "At random_state {42} the training accuracy test is 0.7249335588306354\n",
      "At random_state {42} the testing accuracy test is 0.5370862527180479\n",
      "\n",
      "\n",
      "At random_state {43} the training accuracy test is 0.7260811790287509\n",
      "At random_state {43} the testing accuracy test is 0.5404687122493356\n",
      "\n",
      "\n",
      "At random_state {44} the training accuracy test is 0.7270475960376903\n",
      "At random_state {44} the testing accuracy test is 0.5349118144479342\n",
      "\n",
      "\n",
      "At random_state {45} the training accuracy test is 0.7241483450108722\n",
      "At random_state {45} the testing accuracy test is 0.542884754771684\n",
      "\n",
      "\n",
      "At random_state {46} the training accuracy test is 0.7252959652089876\n",
      "At random_state {46} the testing accuracy test is 0.5402271079971007\n",
      "\n",
      "\n",
      "At random_state {47} the training accuracy test is 0.7276516066682773\n",
      "At random_state {47} the testing accuracy test is 0.5440927760328582\n",
      "\n",
      "\n",
      "At random_state {48} the training accuracy test is 0.7264435854071032\n",
      "At random_state {48} the testing accuracy test is 0.529354916646533\n",
      "\n",
      "\n",
      "At random_state {49} the training accuracy test is 0.7253563662720464\n",
      "At random_state {49} the testing accuracy test is 0.5411935250060401\n",
      "\n",
      "\n",
      "At random_state {50} the training accuracy test is 0.7263227832809858\n",
      "At random_state {50} the testing accuracy test is 0.5469920270596762\n",
      "\n",
      "\n",
      "At random_state {51} the training accuracy test is 0.7257187726503986\n",
      "At random_state {51} the testing accuracy test is 0.541435129258275\n",
      "\n",
      "\n",
      "At random_state {52} the training accuracy test is 0.7230611258758154\n",
      "At random_state {52} the testing accuracy test is 0.5544817588789562\n",
      "\n",
      "\n",
      "At random_state {53} the training accuracy test is 0.7205846822904083\n",
      "At random_state {53} the testing accuracy test is 0.5315293549166465\n",
      "\n",
      "\n",
      "At random_state {54} the training accuracy test is 0.7239671418216961\n",
      "At random_state {54} the testing accuracy test is 0.5380526697269872\n",
      "\n",
      "\n",
      "At random_state {55} the training accuracy test is 0.7217927035515825\n",
      "At random_state {55} the testing accuracy test is 0.542884754771684\n",
      "\n",
      "\n",
      "At random_state {56} the training accuracy test is 0.7240275428847548\n",
      "At random_state {56} the testing accuracy test is 0.5332205846822904\n",
      "\n",
      "\n",
      "At random_state {57} the training accuracy test is 0.7246919545784006\n",
      "At random_state {57} the testing accuracy test is 0.5409519207538053\n",
      "\n",
      "\n",
      "At random_state {58} the training accuracy test is 0.7231819280019328\n",
      "At random_state {58} the testing accuracy test is 0.5370862527180479\n",
      "\n",
      "\n",
      "At random_state {59} the training accuracy test is 0.7226987194974631\n",
      "At random_state {59} the testing accuracy test is 0.5349118144479342\n",
      "\n",
      "\n",
      "At random_state {60} the training accuracy test is 0.7235443343802851\n",
      "At random_state {60} the testing accuracy test is 0.5665619714906982\n",
      "\n",
      "\n",
      "At random_state {61} the training accuracy test is 0.7264435854071032\n",
      "At random_state {61} the testing accuracy test is 0.5445759845373278\n",
      "\n",
      "\n",
      "At random_state {62} the training accuracy test is 0.7245711524522832\n",
      "At random_state {62} the testing accuracy test is 0.5426431505194491\n",
      "\n",
      "\n",
      "At random_state {63} the training accuracy test is 0.7254771683981638\n",
      "At random_state {63} the testing accuracy test is 0.5378110654747523\n",
      "\n",
      "\n",
      "At random_state {64} the training accuracy test is 0.7239671418216961\n",
      "At random_state {64} the testing accuracy test is 0.5409519207538053\n",
      "\n",
      "\n",
      "At random_state {65} the training accuracy test is 0.7252355641459289\n",
      "At random_state {65} the testing accuracy test is 0.5494080695820246\n",
      "\n",
      "\n",
      "At random_state {66} the training accuracy test is 0.7256583715873399\n",
      "At random_state {66} the testing accuracy test is 0.550374486590964\n",
      "\n",
      "\n",
      "At random_state {67} the training accuracy test is 0.7253563662720464\n",
      "At random_state {67} the testing accuracy test is 0.5494080695820246\n",
      "\n",
      "\n",
      "At random_state {68} the training accuracy test is 0.7258395747765161\n",
      "At random_state {68} the testing accuracy test is 0.5187243295482\n",
      "\n",
      "\n",
      "At random_state {69} the training accuracy test is 0.7237859386325199\n",
      "At random_state {69} the testing accuracy test is 0.5460256100507369\n",
      "\n",
      "\n",
      "At random_state {70} the training accuracy test is 0.7241483450108722\n",
      "At random_state {70} the testing accuracy test is 0.5421599420149794\n",
      "\n",
      "\n",
      "At random_state {71} the training accuracy test is 0.7246919545784006\n",
      "At random_state {71} the testing accuracy test is 0.5358782314568736\n",
      "\n",
      "\n",
      "At random_state {72} the training accuracy test is 0.7264435854071032\n",
      "At random_state {72} the testing accuracy test is 0.5402271079971007\n",
      "\n",
      "\n",
      "At random_state {73} the training accuracy test is 0.7267455907223968\n",
      "At random_state {73} the testing accuracy test is 0.539743899492631\n",
      "\n",
      "\n",
      "At random_state {74} the training accuracy test is 0.7220947088668761\n",
      "At random_state {74} the testing accuracy test is 0.5436095675283885\n",
      "\n",
      "\n",
      "At random_state {75} the training accuracy test is 0.722517516308287\n",
      "At random_state {75} the testing accuracy test is 0.5547233631311911\n",
      "\n",
      "\n",
      "At random_state {76} the training accuracy test is 0.7207658854795844\n",
      "At random_state {76} the testing accuracy test is 0.5535153418700169\n",
      "\n",
      "\n",
      "At random_state {77} the training accuracy test is 0.7255979705242812\n",
      "At random_state {77} the testing accuracy test is 0.5390190867359266\n",
      "\n",
      "\n",
      "At random_state {78} the training accuracy test is 0.7245107513892245\n",
      "At random_state {78} the testing accuracy test is 0.5568978014013046\n",
      "\n",
      "\n",
      "At random_state {79} the training accuracy test is 0.7253563662720464\n",
      "At random_state {79} the testing accuracy test is 0.5506160908431988\n",
      "\n",
      "\n",
      "At random_state {80} the training accuracy test is 0.7249335588306354\n",
      "At random_state {80} the testing accuracy test is 0.5402271079971007\n",
      "\n",
      "\n",
      "At random_state {81} the training accuracy test is 0.7236651365064025\n",
      "At random_state {81} the testing accuracy test is 0.5448175887895627\n",
      "\n",
      "\n",
      "At random_state {82} the training accuracy test is 0.7272287992268663\n",
      "At random_state {82} the testing accuracy test is 0.5416767335105098\n",
      "\n",
      "\n",
      "At random_state {83} the training accuracy test is 0.7193766610292341\n",
      "At random_state {83} the testing accuracy test is 0.550374486590964\n",
      "\n",
      "\n",
      "At random_state {84} the training accuracy test is 0.7254771683981638\n",
      "At random_state {84} the testing accuracy test is 0.5433679632761537\n",
      "\n",
      "\n",
      "At random_state {85} the training accuracy test is 0.727107997100749\n",
      "At random_state {85} the testing accuracy test is 0.5416767335105098\n",
      "\n",
      "\n",
      "At random_state {86} the training accuracy test is 0.7255375694612225\n",
      "At random_state {86} the testing accuracy test is 0.5482000483208505\n",
      "\n",
      "\n",
      "At random_state {87} the training accuracy test is 0.7220343078038174\n",
      "At random_state {87} the testing accuracy test is 0.5409519207538053\n",
      "\n",
      "\n",
      "At random_state {88} the training accuracy test is 0.7246315535153419\n",
      "At random_state {88} the testing accuracy test is 0.5453007972940324\n",
      "\n",
      "\n",
      "At random_state {89} the training accuracy test is 0.7240879439478135\n",
      "At random_state {89} the testing accuracy test is 0.5317709591688814\n",
      "\n",
      "\n",
      "At random_state {90} the training accuracy test is 0.7269267939115729\n",
      "At random_state {90} the testing accuracy test is 0.5460256100507369\n",
      "\n",
      "\n",
      "At random_state {91} the training accuracy test is 0.7249939598936941\n",
      "At random_state {91} the testing accuracy test is 0.5349118144479342\n",
      "\n",
      "\n",
      "At random_state {92} the training accuracy test is 0.7246315535153419\n",
      "At random_state {92} the testing accuracy test is 0.5332205846822904\n",
      "\n",
      "\n",
      "At random_state {93} the training accuracy test is 0.7258999758395748\n",
      "At random_state {93} the testing accuracy test is 0.5378110654747523\n",
      "\n",
      "\n",
      "At random_state {94} the training accuracy test is 0.7238463396955787\n",
      "At random_state {94} the testing accuracy test is 0.547233631311911\n",
      "\n",
      "\n",
      "At random_state {95} the training accuracy test is 0.7232423290649915\n",
      "At random_state {95} the testing accuracy test is 0.5448175887895627\n",
      "\n",
      "\n",
      "At random_state {96} the training accuracy test is 0.7278932109205122\n",
      "At random_state {96} the testing accuracy test is 0.5424015462672143\n",
      "\n",
      "\n",
      "At random_state {97} the training accuracy test is 0.727289200289925\n",
      "At random_state {97} the testing accuracy test is 0.5315293549166465\n",
      "\n",
      "\n",
      "At random_state {98} the training accuracy test is 0.7242087460739309\n",
      "At random_state {98} the testing accuracy test is 0.5556897801401305\n",
      "\n",
      "\n",
      "At random_state {99} the training accuracy test is 0.7242087460739309\n",
      "At random_state {99} the testing accuracy test is 0.5484416525730853\n",
      "\n",
      "\n"
     ]
    }
   ],
   "source": [
    "for i in range(0,100):\n",
    "    x_train,x_test,y_train,y_test=train_test_split(x1,y,test_size=0.20,random_state=i)\n",
    "    svc.fit(x_train,y_train)\n",
    "    predsvc=svc.predict(x_train)\n",
    "    predsvc1=svc.predict(x_test)\n",
    "    print('At random_state' ,{i}, 'the training accuracy test is', accuracy_score(y_train,predsvc))\n",
    "    print('At random_state' ,{i}, 'the testing accuracy test is', accuracy_score(y_test,predsvc1))\n",
    "    print('\\n')"
   ]
  },
  {
   "cell_type": "markdown",
   "id": "8ec80e05",
   "metadata": {},
   "source": [
    "## AT RANDOM STATE 60 , WE HAVE THE HIGHEST ACCURACY  of 56.65%"
   ]
  },
  {
   "cell_type": "code",
   "execution_count": 44,
   "id": "2dbe0a42",
   "metadata": {},
   "outputs": [],
   "source": [
    "svc=SVC(probability=True)"
   ]
  },
  {
   "cell_type": "code",
   "execution_count": 45,
   "id": "e20a8d1a",
   "metadata": {},
   "outputs": [],
   "source": [
    "x_train,x_test,y_train,y_test=train_test_split(x1,y,test_size=0.20,random_state=60)"
   ]
  },
  {
   "cell_type": "code",
   "execution_count": 46,
   "id": "190c6e32",
   "metadata": {},
   "outputs": [
    {
     "data": {
      "text/html": [
       "<style>#sk-container-id-2 {color: black;background-color: white;}#sk-container-id-2 pre{padding: 0;}#sk-container-id-2 div.sk-toggleable {background-color: white;}#sk-container-id-2 label.sk-toggleable__label {cursor: pointer;display: block;width: 100%;margin-bottom: 0;padding: 0.3em;box-sizing: border-box;text-align: center;}#sk-container-id-2 label.sk-toggleable__label-arrow:before {content: \"▸\";float: left;margin-right: 0.25em;color: #696969;}#sk-container-id-2 label.sk-toggleable__label-arrow:hover:before {color: black;}#sk-container-id-2 div.sk-estimator:hover label.sk-toggleable__label-arrow:before {color: black;}#sk-container-id-2 div.sk-toggleable__content {max-height: 0;max-width: 0;overflow: hidden;text-align: left;background-color: #f0f8ff;}#sk-container-id-2 div.sk-toggleable__content pre {margin: 0.2em;color: black;border-radius: 0.25em;background-color: #f0f8ff;}#sk-container-id-2 input.sk-toggleable__control:checked~div.sk-toggleable__content {max-height: 200px;max-width: 100%;overflow: auto;}#sk-container-id-2 input.sk-toggleable__control:checked~label.sk-toggleable__label-arrow:before {content: \"▾\";}#sk-container-id-2 div.sk-estimator input.sk-toggleable__control:checked~label.sk-toggleable__label {background-color: #d4ebff;}#sk-container-id-2 div.sk-label input.sk-toggleable__control:checked~label.sk-toggleable__label {background-color: #d4ebff;}#sk-container-id-2 input.sk-hidden--visually {border: 0;clip: rect(1px 1px 1px 1px);clip: rect(1px, 1px, 1px, 1px);height: 1px;margin: -1px;overflow: hidden;padding: 0;position: absolute;width: 1px;}#sk-container-id-2 div.sk-estimator {font-family: monospace;background-color: #f0f8ff;border: 1px dotted black;border-radius: 0.25em;box-sizing: border-box;margin-bottom: 0.5em;}#sk-container-id-2 div.sk-estimator:hover {background-color: #d4ebff;}#sk-container-id-2 div.sk-parallel-item::after {content: \"\";width: 100%;border-bottom: 1px solid gray;flex-grow: 1;}#sk-container-id-2 div.sk-label:hover label.sk-toggleable__label {background-color: #d4ebff;}#sk-container-id-2 div.sk-serial::before {content: \"\";position: absolute;border-left: 1px solid gray;box-sizing: border-box;top: 0;bottom: 0;left: 50%;z-index: 0;}#sk-container-id-2 div.sk-serial {display: flex;flex-direction: column;align-items: center;background-color: white;padding-right: 0.2em;padding-left: 0.2em;position: relative;}#sk-container-id-2 div.sk-item {position: relative;z-index: 1;}#sk-container-id-2 div.sk-parallel {display: flex;align-items: stretch;justify-content: center;background-color: white;position: relative;}#sk-container-id-2 div.sk-item::before, #sk-container-id-2 div.sk-parallel-item::before {content: \"\";position: absolute;border-left: 1px solid gray;box-sizing: border-box;top: 0;bottom: 0;left: 50%;z-index: -1;}#sk-container-id-2 div.sk-parallel-item {display: flex;flex-direction: column;z-index: 1;position: relative;background-color: white;}#sk-container-id-2 div.sk-parallel-item:first-child::after {align-self: flex-end;width: 50%;}#sk-container-id-2 div.sk-parallel-item:last-child::after {align-self: flex-start;width: 50%;}#sk-container-id-2 div.sk-parallel-item:only-child::after {width: 0;}#sk-container-id-2 div.sk-dashed-wrapped {border: 1px dashed gray;margin: 0 0.4em 0.5em 0.4em;box-sizing: border-box;padding-bottom: 0.4em;background-color: white;}#sk-container-id-2 div.sk-label label {font-family: monospace;font-weight: bold;display: inline-block;line-height: 1.2em;}#sk-container-id-2 div.sk-label-container {text-align: center;}#sk-container-id-2 div.sk-container {/* jupyter's `normalize.less` sets `[hidden] { display: none; }` but bootstrap.min.css set `[hidden] { display: none !important; }` so we also need the `!important` here to be able to override the default hidden behavior on the sphinx rendered scikit-learn.org. See: https://github.com/scikit-learn/scikit-learn/issues/21755 */display: inline-block !important;position: relative;}#sk-container-id-2 div.sk-text-repr-fallback {display: none;}</style><div id=\"sk-container-id-2\" class=\"sk-top-container\"><div class=\"sk-text-repr-fallback\"><pre>SVC(probability=True)</pre><b>In a Jupyter environment, please rerun this cell to show the HTML representation or trust the notebook. <br />On GitHub, the HTML representation is unable to render, please try loading this page with nbviewer.org.</b></div><div class=\"sk-container\" hidden><div class=\"sk-item\"><div class=\"sk-estimator sk-toggleable\"><input class=\"sk-toggleable__control sk-hidden--visually\" id=\"sk-estimator-id-2\" type=\"checkbox\" checked><label for=\"sk-estimator-id-2\" class=\"sk-toggleable__label sk-toggleable__label-arrow\">SVC</label><div class=\"sk-toggleable__content\"><pre>SVC(probability=True)</pre></div></div></div></div></div>"
      ],
      "text/plain": [
       "SVC(probability=True)"
      ]
     },
     "execution_count": 46,
     "metadata": {},
     "output_type": "execute_result"
    }
   ],
   "source": [
    "svc.fit(x_train,y_train)"
   ]
  },
  {
   "cell_type": "code",
   "execution_count": 47,
   "id": "64a9afb1",
   "metadata": {},
   "outputs": [],
   "source": [
    "PRESVC=svc.predict(x_test)"
   ]
  },
  {
   "cell_type": "code",
   "execution_count": 48,
   "id": "33ecede1",
   "metadata": {},
   "outputs": [
    {
     "name": "stdout",
     "output_type": "stream",
     "text": [
      "0.5665619714906982\n"
     ]
    }
   ],
   "source": [
    "print(accuracy_score(y_test,PRESVC))"
   ]
  },
  {
   "cell_type": "code",
   "execution_count": 49,
   "id": "9faeae57",
   "metadata": {},
   "outputs": [
    {
     "name": "stdout",
     "output_type": "stream",
     "text": [
      "[[543 175 110  20   8]\n",
      " [167 407 192  32  13]\n",
      " [ 87 215 353 122  37]\n",
      " [ 46  50 122 364 257]\n",
      " [  5  16  24  96 678]]\n"
     ]
    }
   ],
   "source": [
    "print(confusion_matrix(y_test,PRESVC))"
   ]
  },
  {
   "cell_type": "code",
   "execution_count": 50,
   "id": "58c2070a",
   "metadata": {},
   "outputs": [
    {
     "name": "stdout",
     "output_type": "stream",
     "text": [
      "              precision    recall  f1-score   support\n",
      "\n",
      "           1       0.64      0.63      0.64       856\n",
      "           2       0.47      0.50      0.49       811\n",
      "           3       0.44      0.43      0.44       814\n",
      "           4       0.57      0.43      0.49       839\n",
      "           5       0.68      0.83      0.75       819\n",
      "\n",
      "    accuracy                           0.57      4139\n",
      "   macro avg       0.56      0.57      0.56      4139\n",
      "weighted avg       0.56      0.57      0.56      4139\n",
      "\n"
     ]
    }
   ],
   "source": [
    "print(classification_report(y_test,PRESVC))"
   ]
  },
  {
   "cell_type": "markdown",
   "id": "156ba2fd",
   "metadata": {},
   "source": [
    "## AUC ROC CURVE "
   ]
  },
  {
   "cell_type": "code",
   "execution_count": 51,
   "id": "e2f6fade",
   "metadata": {},
   "outputs": [],
   "source": [
    "from sklearn.metrics import roc_curve\n",
    "from sklearn.metrics import roc_auc_score"
   ]
  },
  {
   "cell_type": "code",
   "execution_count": 52,
   "id": "648c875d",
   "metadata": {},
   "outputs": [],
   "source": [
    "y_prob_pred1=svc.predict_proba(x_test)"
   ]
  },
  {
   "cell_type": "code",
   "execution_count": 53,
   "id": "65147043",
   "metadata": {},
   "outputs": [
    {
     "data": {
      "text/plain": [
       "Text(0, 0.5, 'True Positive rate')"
      ]
     },
     "execution_count": 53,
     "metadata": {},
     "output_type": "execute_result"
    },
    {
     "data": {
      "image/png": "[encoded data removed]",
      "text/plain": [
       "<Figure size 432x288 with 1 Axes>"
      ]
     },
     "metadata": {
      "needs_background": "light"
     },
     "output_type": "display_data"
    }
   ],
   "source": [
    "fpr={}\n",
    "tpr={}\n",
    "thresh={}\n",
    "\n",
    "n_class = 5\n",
    "for i in range(n_class):    \n",
    "    fpr[i],tpr[i],thresh[i]=roc_curve(y_test, y_prob_pred1[:,i], pos_label=i)\n",
    "    \n",
    "plt.plot(fpr[0],tpr[0],label='Class 0 vs Rest')\n",
    "plt.plot(fpr[1],tpr[1],label='Class 1 vs Rest')\n",
    "plt.plot(fpr[2],tpr[2],label='Class 2 vs Rest')\n",
    "plt.plot(fpr[3],tpr[3],label='Class 3 vs Rest')\n",
    "plt.plot(fpr[4],tpr[4],label='Class 4 vs Rest')\n",
    "plt.title('Multiclass ROC curve')\n",
    "plt.xlabel('False Positive Rate')\n",
    "plt.ylabel('True Positive rate')  "
   ]
  },
  {
   "cell_type": "markdown",
   "id": "8431748c",
   "metadata": {},
   "source": [
    "## KNN CLASSIFIER "
   ]
  },
  {
   "cell_type": "code",
   "execution_count": 32,
   "id": "418ed15a",
   "metadata": {},
   "outputs": [],
   "source": [
    "knn=KNeighborsClassifier()"
   ]
  },
  {
   "cell_type": "code",
   "execution_count": 33,
   "id": "2377931d",
   "metadata": {},
   "outputs": [
    {
     "name": "stdout",
     "output_type": "stream",
     "text": [
      "At random_state {0} the training accuracy test is 0.608661512442619\n",
      "At random_state {0} the testing accuracy test is 0.4020294757187727\n",
      "\n",
      "\n",
      "At random_state {1} the training accuracy test is 0.6089635177579126\n",
      "At random_state {1} the testing accuracy test is 0.4049287267455907\n",
      "\n",
      "\n",
      "At random_state {2} the training accuracy test is 0.6006281710558106\n",
      "At random_state {2} the testing accuracy test is 0.4042039139888862\n",
      "\n",
      "\n",
      "At random_state {3} the training accuracy test is 0.6052790529113312\n",
      "At random_state {3} the testing accuracy test is 0.4138680840782798\n",
      "\n",
      "\n",
      "At random_state {4} the training accuracy test is 0.6060038656680358\n",
      "At random_state {4} the testing accuracy test is 0.4027542884754772\n",
      "\n",
      "\n",
      "At random_state {5} the training accuracy test is 0.6041314327132158\n",
      "At random_state {5} the testing accuracy test is 0.401546267214303\n",
      "\n",
      "\n",
      "At random_state {6} the training accuracy test is 0.6028026093259241\n",
      "At random_state {6} the testing accuracy test is 0.39284851413384875\n",
      "\n",
      "\n",
      "At random_state {7} the training accuracy test is 0.6053998550374486\n",
      "At random_state {7} the testing accuracy test is 0.4010630587098333\n",
      "\n",
      "\n",
      "At random_state {8} the training accuracy test is 0.6095071273254409\n",
      "At random_state {8} the testing accuracy test is 0.4020294757187727\n",
      "\n",
      "\n",
      "At random_state {9} the training accuracy test is 0.6058830635419183\n",
      "At random_state {9} the testing accuracy test is 0.40710316501570426\n",
      "\n",
      "\n",
      "At random_state {10} the training accuracy test is 0.6082991060642667\n",
      "At random_state {10} the testing accuracy test is 0.3947813481517275\n",
      "\n",
      "\n",
      "At random_state {11} the training accuracy test is 0.6035274220826287\n",
      "At random_state {11} the testing accuracy test is 0.39574776516066684\n",
      "\n",
      "\n",
      "At random_state {12} the training accuracy test is 0.6011113795602803\n",
      "At random_state {12} the testing accuracy test is 0.4215994201497946\n",
      "\n",
      "\n",
      "At random_state {13} the training accuracy test is 0.6070910848030925\n",
      "At random_state {13} the testing accuracy test is 0.3887412418458565\n",
      "\n",
      "\n",
      "At random_state {14} the training accuracy test is 0.6059434646049771\n",
      "At random_state {14} the testing accuracy test is 0.409035999033583\n",
      "\n",
      "\n",
      "At random_state {15} the training accuracy test is 0.6008093742449867\n",
      "At random_state {15} the testing accuracy test is 0.41241845856487075\n",
      "\n",
      "\n",
      "At random_state {16} the training accuracy test is 0.6040710316501571\n",
      "At random_state {16} the testing accuracy test is 0.40879439478134816\n",
      "\n",
      "\n",
      "At random_state {17} the training accuracy test is 0.5971853104614642\n",
      "At random_state {17} the testing accuracy test is 0.409035999033583\n",
      "\n",
      "\n",
      "At random_state {18} the training accuracy test is 0.6053998550374486\n",
      "At random_state {18} the testing accuracy test is 0.39937182894418943\n",
      "\n",
      "\n",
      "At random_state {19} the training accuracy test is 0.5971853104614642\n",
      "At random_state {19} the testing accuracy test is 0.40396230973665137\n",
      "\n",
      "\n",
      "At random_state {20} the training accuracy test is 0.6014133848755738\n",
      "At random_state {20} the testing accuracy test is 0.4187001691229766\n",
      "\n",
      "\n",
      "At random_state {21} the training accuracy test is 0.6032858178303938\n",
      "At random_state {21} the testing accuracy test is 0.40879439478134816\n",
      "\n",
      "\n",
      "At random_state {22} the training accuracy test is 0.5986953370379319\n",
      "At random_state {22} the testing accuracy test is 0.4068615607634694\n",
      "\n",
      "\n",
      "At random_state {23} the training accuracy test is 0.6055206571635661\n",
      "At random_state {23} the testing accuracy test is 0.4010630587098333\n",
      "\n",
      "\n",
      "At random_state {24} the training accuracy test is 0.6028630103889828\n",
      "At random_state {24} the testing accuracy test is 0.409035999033583\n",
      "\n",
      "\n",
      "At random_state {25} the training accuracy test is 0.6029838125151002\n",
      "At random_state {25} the testing accuracy test is 0.4097608117902875\n",
      "\n",
      "\n",
      "At random_state {26} the training accuracy test is 0.5957356849480551\n",
      "At random_state {26} the testing accuracy test is 0.410485624546992\n",
      "\n",
      "\n",
      "At random_state {27} the training accuracy test is 0.5981517274704035\n",
      "At random_state {27} the testing accuracy test is 0.39816380768301524\n",
      "\n",
      "\n",
      "At random_state {28} the training accuracy test is 0.6075138922445035\n",
      "At random_state {28} the testing accuracy test is 0.4153177095916888\n",
      "\n",
      "\n",
      "At random_state {29} the training accuracy test is 0.6029234114520415\n",
      "At random_state {29} the testing accuracy test is 0.40879439478134816\n",
      "\n",
      "\n",
      "At random_state {30} the training accuracy test is 0.600748973181928\n",
      "At random_state {30} the testing accuracy test is 0.39888862043971973\n",
      "\n",
      "\n",
      "At random_state {31} the training accuracy test is 0.6016549891278087\n",
      "At random_state {31} the testing accuracy test is 0.4102440202947572\n",
      "\n",
      "\n",
      "At random_state {32} the training accuracy test is 0.6035274220826287\n",
      "At random_state {32} the testing accuracy test is 0.39453974389949265\n",
      "\n",
      "\n",
      "At random_state {33} the training accuracy test is 0.6006885721188693\n",
      "At random_state {33} the testing accuracy test is 0.41966658613191593\n",
      "\n",
      "\n",
      "At random_state {34} the training accuracy test is 0.6003865668035757\n",
      "At random_state {34} the testing accuracy test is 0.3998550374486591\n",
      "\n",
      "\n",
      "At random_state {35} the training accuracy test is 0.6074534911814448\n",
      "At random_state {35} the testing accuracy test is 0.39526455665619714\n",
      "\n",
      "\n",
      "At random_state {36} the training accuracy test is 0.6043730369654506\n",
      "At random_state {36} the testing accuracy test is 0.40396230973665137\n",
      "\n",
      "\n",
      "At random_state {37} the training accuracy test is 0.6087823145687364\n",
      "At random_state {37} the testing accuracy test is 0.3986470161874849\n",
      "\n",
      "\n",
      "At random_state {38} the training accuracy test is 0.6040106305870984\n",
      "At random_state {38} the testing accuracy test is 0.40057985020536363\n",
      "\n",
      "\n",
      "At random_state {39} the training accuracy test is 0.6076950954336796\n",
      "At random_state {39} the testing accuracy test is 0.4054119352500604\n",
      "\n",
      "\n",
      "At random_state {40} the training accuracy test is 0.6013529838125151\n",
      "At random_state {40} the testing accuracy test is 0.4114520415559314\n",
      "\n",
      "\n",
      "At random_state {41} the training accuracy test is 0.6038294273979222\n",
      "At random_state {41} the testing accuracy test is 0.4010630587098333\n",
      "\n",
      "\n",
      "At random_state {42} the training accuracy test is 0.60346702101957\n",
      "At random_state {42} the testing accuracy test is 0.4073447692679391\n",
      "\n",
      "\n",
      "At random_state {43} the training accuracy test is 0.6014737859386325\n",
      "At random_state {43} the testing accuracy test is 0.40951920753805265\n",
      "\n",
      "\n",
      "At random_state {44} the training accuracy test is 0.600748973181928\n",
      "At random_state {44} the testing accuracy test is 0.4027542884754772\n",
      "\n",
      "\n",
      "At random_state {45} the training accuracy test is 0.6012321816863977\n",
      "At random_state {45} the testing accuracy test is 0.40758637352017396\n",
      "\n",
      "\n",
      "At random_state {46} the training accuracy test is 0.6064870741725055\n",
      "At random_state {46} the testing accuracy test is 0.40758637352017396\n",
      "\n",
      "\n",
      "At random_state {47} the training accuracy test is 0.5979705242812273\n",
      "At random_state {47} the testing accuracy test is 0.41555931384392364\n",
      "\n",
      "\n",
      "At random_state {48} the training accuracy test is 0.6032858178303938\n",
      "At random_state {48} the testing accuracy test is 0.40347910123218167\n",
      "\n",
      "\n",
      "At random_state {49} the training accuracy test is 0.5959168881372312\n",
      "At random_state {49} the testing accuracy test is 0.4162841266006282\n",
      "\n",
      "\n",
      "At random_state {50} the training accuracy test is 0.6021381976322784\n",
      "At random_state {50} the testing accuracy test is 0.4066199565112346\n",
      "\n",
      "\n",
      "At random_state {51} the training accuracy test is 0.6032858178303938\n",
      "At random_state {51} the testing accuracy test is 0.40396230973665137\n",
      "\n",
      "\n",
      "At random_state {52} the training accuracy test is 0.6054602561005074\n",
      "At random_state {52} the testing accuracy test is 0.4116936458081662\n",
      "\n",
      "\n",
      "At random_state {53} the training accuracy test is 0.6003865668035757\n",
      "At random_state {53} the testing accuracy test is 0.39768059917854554\n",
      "\n",
      "\n",
      "At random_state {54} the training accuracy test is 0.6028026093259241\n",
      "At random_state {54} the testing accuracy test is 0.4010630587098333\n",
      "\n",
      "\n",
      "At random_state {55} the training accuracy test is 0.599299347668519\n",
      "At random_state {55} the testing accuracy test is 0.4054119352500604\n",
      "\n",
      "\n",
      "At random_state {56} the training accuracy test is 0.6039502295240397\n",
      "At random_state {56} the testing accuracy test is 0.3959893694129017\n",
      "\n",
      "\n",
      "At random_state {57} the training accuracy test is 0.6032254167673351\n",
      "At random_state {57} the testing accuracy test is 0.4162841266006282\n",
      "\n",
      "\n",
      "At random_state {58} the training accuracy test is 0.6057622614158009\n",
      "At random_state {58} the testing accuracy test is 0.39695578642184104\n",
      "\n",
      "\n",
      "At random_state {59} the training accuracy test is 0.6049166465329789\n",
      "At random_state {59} the testing accuracy test is 0.4116936458081662\n",
      "\n",
      "\n",
      "At random_state {60} the training accuracy test is 0.6005677699927519\n",
      "At random_state {60} the testing accuracy test is 0.40879439478134816\n",
      "\n",
      "\n",
      "At random_state {61} the training accuracy test is 0.5991181444793429\n",
      "At random_state {61} the testing accuracy test is 0.40758637352017396\n",
      "\n",
      "\n",
      "At random_state {62} the training accuracy test is 0.6013529838125151\n",
      "At random_state {62} the testing accuracy test is 0.4020294757187727\n",
      "\n",
      "\n",
      "At random_state {63} the training accuracy test is 0.6031046146412177\n",
      "At random_state {63} the testing accuracy test is 0.42474027542884757\n",
      "\n",
      "\n",
      "At random_state {64} the training accuracy test is 0.5995409519207539\n",
      "At random_state {64} the testing accuracy test is 0.40879439478134816\n",
      "\n",
      "\n",
      "At random_state {65} the training accuracy test is 0.603044213578159\n",
      "At random_state {65} the testing accuracy test is 0.41966658613191593\n",
      "\n",
      "\n",
      "At random_state {66} the training accuracy test is 0.6072118869292099\n",
      "At random_state {66} the testing accuracy test is 0.4025126842232423\n",
      "\n",
      "\n",
      "At random_state {67} the training accuracy test is 0.6017757912539261\n",
      "At random_state {67} the testing accuracy test is 0.4008214544575985\n",
      "\n",
      "\n",
      "At random_state {68} the training accuracy test is 0.608238705001208\n",
      "At random_state {68} the testing accuracy test is 0.39526455665619714\n",
      "\n",
      "\n",
      "At random_state {69} the training accuracy test is 0.6048562454699202\n",
      "At random_state {69} the testing accuracy test is 0.3979222034307804\n",
      "\n",
      "\n",
      "At random_state {70} the training accuracy test is 0.60159458806475\n",
      "At random_state {70} the testing accuracy test is 0.4049287267455907\n",
      "\n",
      "\n",
      "At random_state {71} the training accuracy test is 0.6110171539019087\n",
      "At random_state {71} the testing accuracy test is 0.40396230973665137\n",
      "\n",
      "\n",
      "At random_state {72} the training accuracy test is 0.6031650157042764\n",
      "At random_state {72} the testing accuracy test is 0.40951920753805265\n",
      "\n",
      "\n",
      "At random_state {73} the training accuracy test is 0.6086011113795603\n",
      "At random_state {73} the testing accuracy test is 0.4037207054844165\n",
      "\n",
      "\n",
      "At random_state {74} the training accuracy test is 0.5995409519207539\n",
      "At random_state {74} the testing accuracy test is 0.39768059917854554\n",
      "\n",
      "\n",
      "At random_state {75} the training accuracy test is 0.6048562454699202\n",
      "At random_state {75} the testing accuracy test is 0.4162841266006282\n",
      "\n",
      "\n",
      "At random_state {76} the training accuracy test is 0.5982725295965209\n",
      "At random_state {76} the testing accuracy test is 0.40879439478134816\n",
      "\n",
      "\n",
      "At random_state {77} the training accuracy test is 0.6061850688572119\n",
      "At random_state {77} the testing accuracy test is 0.40831118627687846\n",
      "\n",
      "\n",
      "At random_state {78} the training accuracy test is 0.6052790529113312\n",
      "At random_state {78} the testing accuracy test is 0.41845856487074173\n",
      "\n",
      "\n",
      "At random_state {79} the training accuracy test is 0.6027422082628654\n",
      "At random_state {79} the testing accuracy test is 0.41072722879922685\n",
      "\n",
      "\n",
      "At random_state {80} the training accuracy test is 0.6023194008214544\n",
      "At random_state {80} the testing accuracy test is 0.40637835225899976\n",
      "\n",
      "\n",
      "At random_state {81} the training accuracy test is 0.600326165740517\n",
      "At random_state {81} the testing accuracy test is 0.4020294757187727\n",
      "\n",
      "\n",
      "At random_state {82} the training accuracy test is 0.6043730369654506\n",
      "At random_state {82} the testing accuracy test is 0.41000241604252236\n",
      "\n",
      "\n",
      "At random_state {83} the training accuracy test is 0.6017757912539261\n",
      "At random_state {83} the testing accuracy test is 0.41604252234839334\n",
      "\n",
      "\n",
      "At random_state {84} the training accuracy test is 0.5988161391640493\n",
      "At random_state {84} the testing accuracy test is 0.40831118627687846\n",
      "\n",
      "\n",
      "At random_state {85} the training accuracy test is 0.599903358299106\n",
      "At random_state {85} the testing accuracy test is 0.4013046629620681\n",
      "\n",
      "\n",
      "At random_state {86} the training accuracy test is 0.5994805508576951\n",
      "At random_state {86} the testing accuracy test is 0.4049287267455907\n",
      "\n",
      "\n",
      "At random_state {87} the training accuracy test is 0.6049770475960377\n",
      "At random_state {87} the testing accuracy test is 0.3967141821696062\n",
      "\n",
      "\n",
      "At random_state {88} the training accuracy test is 0.6028630103889828\n",
      "At random_state {88} the testing accuracy test is 0.4025126842232423\n",
      "\n",
      "\n",
      "At random_state {89} the training accuracy test is 0.6039502295240397\n",
      "At random_state {89} the testing accuracy test is 0.40444551824112107\n",
      "\n",
      "\n",
      "At random_state {90} the training accuracy test is 0.602198598695337\n",
      "At random_state {90} the testing accuracy test is 0.4013046629620681\n",
      "\n",
      "\n",
      "At random_state {91} the training accuracy test is 0.6084199081903842\n",
      "At random_state {91} the testing accuracy test is 0.3942981396472578\n",
      "\n",
      "\n",
      "At random_state {92} the training accuracy test is 0.6047354433438028\n",
      "At random_state {92} the testing accuracy test is 0.3950229524039623\n",
      "\n",
      "\n",
      "At random_state {93} the training accuracy test is 0.6089635177579126\n",
      "At random_state {93} the testing accuracy test is 0.3962309736651365\n",
      "\n",
      "\n",
      "At random_state {94} the training accuracy test is 0.6020777965692197\n",
      "At random_state {94} the testing accuracy test is 0.410485624546992\n",
      "\n",
      "\n",
      "At random_state {95} the training accuracy test is 0.6011113795602803\n",
      "At random_state {95} the testing accuracy test is 0.4085527905291133\n",
      "\n",
      "\n",
      "At random_state {96} the training accuracy test is 0.6033462188934525\n",
      "At random_state {96} the testing accuracy test is 0.40444551824112107\n",
      "\n",
      "\n",
      "At random_state {97} the training accuracy test is 0.6024402029475718\n",
      "At random_state {97} the testing accuracy test is 0.409035999033583\n",
      "\n",
      "\n",
      "At random_state {98} the training accuracy test is 0.6031650157042764\n",
      "At random_state {98} the testing accuracy test is 0.41483450108721914\n",
      "\n",
      "\n",
      "At random_state {99} the training accuracy test is 0.598876540227108\n",
      "At random_state {99} the testing accuracy test is 0.4114520415559314\n",
      "\n",
      "\n"
     ]
    }
   ],
   "source": [
    "for i in range(0,100):\n",
    "    x_train,x_test,y_train,y_test=train_test_split(x1,y,test_size=0.20,random_state=i)\n",
    "    knn.fit(x_train,y_train)\n",
    "    predknn=knn.predict(x_train)\n",
    "    predknn1=knn.predict(x_test)\n",
    "    print('At random_state' ,{i}, 'the training accuracy test is', accuracy_score(y_train,predknn))\n",
    "    print('At random_state' ,{i}, 'the testing accuracy test is', accuracy_score(y_test,predknn1))\n",
    "    print('\\n')"
   ]
  },
  {
   "cell_type": "markdown",
   "id": "c135357a",
   "metadata": {},
   "source": [
    "## AT RANDOM STATE 12, WE HAVE THE HIGHEST ACCURACY 42.15%"
   ]
  },
  {
   "cell_type": "code",
   "execution_count": 54,
   "id": "f817691d",
   "metadata": {},
   "outputs": [],
   "source": [
    "x_train,x_test,y_train,y_test=train_test_split(x1,y,test_size=0.20,random_state=12)"
   ]
  },
  {
   "cell_type": "code",
   "execution_count": 55,
   "id": "65508e4a",
   "metadata": {},
   "outputs": [
    {
     "data": {
      "text/html": [
       "<style>#sk-container-id-3 {color: black;background-color: white;}#sk-container-id-3 pre{padding: 0;}#sk-container-id-3 div.sk-toggleable {background-color: white;}#sk-container-id-3 label.sk-toggleable__label {cursor: pointer;display: block;width: 100%;margin-bottom: 0;padding: 0.3em;box-sizing: border-box;text-align: center;}#sk-container-id-3 label.sk-toggleable__label-arrow:before {content: \"▸\";float: left;margin-right: 0.25em;color: #696969;}#sk-container-id-3 label.sk-toggleable__label-arrow:hover:before {color: black;}#sk-container-id-3 div.sk-estimator:hover label.sk-toggleable__label-arrow:before {color: black;}#sk-container-id-3 div.sk-toggleable__content {max-height: 0;max-width: 0;overflow: hidden;text-align: left;background-color: #f0f8ff;}#sk-container-id-3 div.sk-toggleable__content pre {margin: 0.2em;color: black;border-radius: 0.25em;background-color: #f0f8ff;}#sk-container-id-3 input.sk-toggleable__control:checked~div.sk-toggleable__content {max-height: 200px;max-width: 100%;overflow: auto;}#sk-container-id-3 input.sk-toggleable__control:checked~label.sk-toggleable__label-arrow:before {content: \"▾\";}#sk-container-id-3 div.sk-estimator input.sk-toggleable__control:checked~label.sk-toggleable__label {background-color: #d4ebff;}#sk-container-id-3 div.sk-label input.sk-toggleable__control:checked~label.sk-toggleable__label {background-color: #d4ebff;}#sk-container-id-3 input.sk-hidden--visually {border: 0;clip: rect(1px 1px 1px 1px);clip: rect(1px, 1px, 1px, 1px);height: 1px;margin: -1px;overflow: hidden;padding: 0;position: absolute;width: 1px;}#sk-container-id-3 div.sk-estimator {font-family: monospace;background-color: #f0f8ff;border: 1px dotted black;border-radius: 0.25em;box-sizing: border-box;margin-bottom: 0.5em;}#sk-container-id-3 div.sk-estimator:hover {background-color: #d4ebff;}#sk-container-id-3 div.sk-parallel-item::after {content: \"\";width: 100%;border-bottom: 1px solid gray;flex-grow: 1;}#sk-container-id-3 div.sk-label:hover label.sk-toggleable__label {background-color: #d4ebff;}#sk-container-id-3 div.sk-serial::before {content: \"\";position: absolute;border-left: 1px solid gray;box-sizing: border-box;top: 0;bottom: 0;left: 50%;z-index: 0;}#sk-container-id-3 div.sk-serial {display: flex;flex-direction: column;align-items: center;background-color: white;padding-right: 0.2em;padding-left: 0.2em;position: relative;}#sk-container-id-3 div.sk-item {position: relative;z-index: 1;}#sk-container-id-3 div.sk-parallel {display: flex;align-items: stretch;justify-content: center;background-color: white;position: relative;}#sk-container-id-3 div.sk-item::before, #sk-container-id-3 div.sk-parallel-item::before {content: \"\";position: absolute;border-left: 1px solid gray;box-sizing: border-box;top: 0;bottom: 0;left: 50%;z-index: -1;}#sk-container-id-3 div.sk-parallel-item {display: flex;flex-direction: column;z-index: 1;position: relative;background-color: white;}#sk-container-id-3 div.sk-parallel-item:first-child::after {align-self: flex-end;width: 50%;}#sk-container-id-3 div.sk-parallel-item:last-child::after {align-self: flex-start;width: 50%;}#sk-container-id-3 div.sk-parallel-item:only-child::after {width: 0;}#sk-container-id-3 div.sk-dashed-wrapped {border: 1px dashed gray;margin: 0 0.4em 0.5em 0.4em;box-sizing: border-box;padding-bottom: 0.4em;background-color: white;}#sk-container-id-3 div.sk-label label {font-family: monospace;font-weight: bold;display: inline-block;line-height: 1.2em;}#sk-container-id-3 div.sk-label-container {text-align: center;}#sk-container-id-3 div.sk-container {/* jupyter's `normalize.less` sets `[hidden] { display: none; }` but bootstrap.min.css set `[hidden] { display: none !important; }` so we also need the `!important` here to be able to override the default hidden behavior on the sphinx rendered scikit-learn.org. See: https://github.com/scikit-learn/scikit-learn/issues/21755 */display: inline-block !important;position: relative;}#sk-container-id-3 div.sk-text-repr-fallback {display: none;}</style><div id=\"sk-container-id-3\" class=\"sk-top-container\"><div class=\"sk-text-repr-fallback\"><pre>KNeighborsClassifier()</pre><b>In a Jupyter environment, please rerun this cell to show the HTML representation or trust the notebook. <br />On GitHub, the HTML representation is unable to render, please try loading this page with nbviewer.org.</b></div><div class=\"sk-container\" hidden><div class=\"sk-item\"><div class=\"sk-estimator sk-toggleable\"><input class=\"sk-toggleable__control sk-hidden--visually\" id=\"sk-estimator-id-3\" type=\"checkbox\" checked><label for=\"sk-estimator-id-3\" class=\"sk-toggleable__label sk-toggleable__label-arrow\">KNeighborsClassifier</label><div class=\"sk-toggleable__content\"><pre>KNeighborsClassifier()</pre></div></div></div></div></div>"
      ],
      "text/plain": [
       "KNeighborsClassifier()"
      ]
     },
     "execution_count": 55,
     "metadata": {},
     "output_type": "execute_result"
    }
   ],
   "source": [
    "knn.fit(x_train,y_train)"
   ]
  },
  {
   "cell_type": "code",
   "execution_count": 56,
   "id": "01569ea8",
   "metadata": {},
   "outputs": [],
   "source": [
    "PREKNN=knn.predict(x_test)"
   ]
  },
  {
   "cell_type": "code",
   "execution_count": 57,
   "id": "44201e2b",
   "metadata": {},
   "outputs": [
    {
     "name": "stdout",
     "output_type": "stream",
     "text": [
      "0.4215994201497946\n"
     ]
    }
   ],
   "source": [
    "print(accuracy_score(y_test,PREKNN))"
   ]
  },
  {
   "cell_type": "code",
   "execution_count": 58,
   "id": "84844195",
   "metadata": {},
   "outputs": [
    {
     "name": "stdout",
     "output_type": "stream",
     "text": [
      "[[368 235  88  99  30]\n",
      " [218 357 146  83  46]\n",
      " [123 256 174 166  77]\n",
      " [ 65 132 106 312 208]\n",
      " [ 16  53  44 203 534]]\n"
     ]
    }
   ],
   "source": [
    "print(confusion_matrix(y_test,PREKNN))"
   ]
  },
  {
   "cell_type": "code",
   "execution_count": 59,
   "id": "552e1fb2",
   "metadata": {},
   "outputs": [
    {
     "name": "stdout",
     "output_type": "stream",
     "text": [
      "              precision    recall  f1-score   support\n",
      "\n",
      "           1       0.47      0.45      0.46       820\n",
      "           2       0.35      0.42      0.38       850\n",
      "           3       0.31      0.22      0.26       796\n",
      "           4       0.36      0.38      0.37       823\n",
      "           5       0.60      0.63      0.61       850\n",
      "\n",
      "    accuracy                           0.42      4139\n",
      "   macro avg       0.42      0.42      0.42      4139\n",
      "weighted avg       0.42      0.42      0.42      4139\n",
      "\n"
     ]
    }
   ],
   "source": [
    "print(classification_report(y_test,PREKNN))"
   ]
  },
  {
   "cell_type": "markdown",
   "id": "9ea3b5d9",
   "metadata": {},
   "source": [
    "## AUC ROC CURVE "
   ]
  },
  {
   "cell_type": "code",
   "execution_count": 60,
   "id": "564b9a00",
   "metadata": {},
   "outputs": [],
   "source": [
    "y_prob_pred3=knn.predict_proba(x_test)"
   ]
  },
  {
   "cell_type": "code",
   "execution_count": 61,
   "id": "88b1386e",
   "metadata": {},
   "outputs": [
    {
     "data": {
      "text/plain": [
       "Text(0, 0.5, 'True Positive rate')"
      ]
     },
     "execution_count": 61,
     "metadata": {},
     "output_type": "execute_result"
    },
    {
     "data": {
      "image/png": "[encoded data removed]",
      "text/plain": [
       "<Figure size 432x288 with 1 Axes>"
      ]
     },
     "metadata": {
      "needs_background": "light"
     },
     "output_type": "display_data"
    }
   ],
   "source": [
    "fpr={}\n",
    "tpr={}\n",
    "thresh={}\n",
    "\n",
    "n_class = 5\n",
    "for i in range(n_class):    \n",
    "    fpr[i],tpr[i],thresh[i]=roc_curve(y_test, y_prob_pred3[:,i], pos_label=i)\n",
    "    \n",
    "plt.plot(fpr[0],tpr[0],label='Class 0 vs Rest')\n",
    "plt.plot(fpr[1],tpr[1],label='Class 1 vs Rest')\n",
    "plt.plot(fpr[2],tpr[2],label='Class 2 vs Rest')\n",
    "plt.plot(fpr[3],tpr[3],label='Class 3 vs Rest')\n",
    "plt.plot(fpr[4],tpr[4],label='Class 4 vs Rest')\n",
    "plt.title('Multiclass ROC curve')\n",
    "plt.xlabel('False Positive Rate')\n",
    "plt.ylabel('True Positive rate')    "
   ]
  },
  {
   "cell_type": "markdown",
   "id": "b81f5b98",
   "metadata": {},
   "source": [
    "## DECISION TREE CLASSIFIER "
   ]
  },
  {
   "cell_type": "code",
   "execution_count": 34,
   "id": "4a50f82d",
   "metadata": {},
   "outputs": [],
   "source": [
    "dtc=DecisionTreeClassifier()"
   ]
  },
  {
   "cell_type": "code",
   "execution_count": 35,
   "id": "19fab3d8",
   "metadata": {},
   "outputs": [
    {
     "name": "stdout",
     "output_type": "stream",
     "text": [
      "At random_state {0} the training accuracy test is 0.9928122734960135\n",
      "At random_state {0} the testing accuracy test is 0.415076105339454\n",
      "\n",
      "\n",
      "At random_state {1} the training accuracy test is 0.9924498671176613\n",
      "At random_state {1} the testing accuracy test is 0.41845856487074173\n",
      "\n",
      "\n",
      "At random_state {2} the training accuracy test is 0.9923290649915438\n",
      "At random_state {2} the testing accuracy test is 0.4220826286542643\n",
      "\n",
      "\n",
      "At random_state {3} the training accuracy test is 0.9930538777482484\n",
      "At random_state {3} the testing accuracy test is 0.4232906499154385\n",
      "\n",
      "\n",
      "At random_state {4} the training accuracy test is 0.99251026818072\n",
      "At random_state {4} the testing accuracy test is 0.4126600628171056\n",
      "\n",
      "\n",
      "At random_state {5} the training accuracy test is 0.9922686639284851\n",
      "At random_state {5} the testing accuracy test is 0.42304904566320367\n",
      "\n",
      "\n",
      "At random_state {6} the training accuracy test is 0.9920270596762503\n",
      "At random_state {6} the testing accuracy test is 0.41193525006040105\n",
      "\n",
      "\n",
      "At random_state {7} the training accuracy test is 0.9924498671176613\n",
      "At random_state {7} the testing accuracy test is 0.4206330031408553\n",
      "\n",
      "\n",
      "At random_state {8} the training accuracy test is 0.9924498671176613\n",
      "At random_state {8} the testing accuracy test is 0.4153177095916888\n",
      "\n",
      "\n",
      "At random_state {9} the training accuracy test is 0.9925706692437787\n",
      "At random_state {9} the testing accuracy test is 0.42594829669002177\n",
      "\n",
      "\n",
      "At random_state {10} the training accuracy test is 0.992933075622131\n",
      "At random_state {10} the testing accuracy test is 0.430055568978014\n",
      "\n",
      "\n",
      "At random_state {11} the training accuracy test is 0.99251026818072\n",
      "At random_state {11} the testing accuracy test is 0.42425706692437787\n",
      "\n",
      "\n",
      "At random_state {12} the training accuracy test is 0.992087460739309\n",
      "At random_state {12} the testing accuracy test is 0.41845856487074173\n",
      "\n",
      "\n",
      "At random_state {13} the training accuracy test is 0.9929934766851897\n",
      "At random_state {13} the testing accuracy test is 0.41555931384392364\n",
      "\n",
      "\n",
      "At random_state {14} the training accuracy test is 0.9928122734960135\n",
      "At random_state {14} the testing accuracy test is 0.42594829669002177\n",
      "\n",
      "\n",
      "At random_state {15} the training accuracy test is 0.9926310703068374\n",
      "At random_state {15} the testing accuracy test is 0.4293307562213095\n",
      "\n",
      "\n",
      "At random_state {16} the training accuracy test is 0.9929934766851897\n",
      "At random_state {16} the testing accuracy test is 0.4281227349601353\n",
      "\n",
      "\n",
      "At random_state {17} the training accuracy test is 0.99251026818072\n",
      "At random_state {17} the testing accuracy test is 0.421116211645325\n",
      "\n",
      "\n",
      "At random_state {18} the training accuracy test is 0.9919062575501328\n",
      "At random_state {18} the testing accuracy test is 0.4182169606185069\n",
      "\n",
      "\n",
      "At random_state {19} the training accuracy test is 0.9926310703068374\n",
      "At random_state {19} the testing accuracy test is 0.4336796327615366\n",
      "\n",
      "\n",
      "At random_state {20} the training accuracy test is 0.9923894660546025\n",
      "At random_state {20} the testing accuracy test is 0.430055568978014\n",
      "\n",
      "\n",
      "At random_state {21} the training accuracy test is 0.99251026818072\n",
      "At random_state {21} the testing accuracy test is 0.42788113070790046\n",
      "\n",
      "\n",
      "At random_state {22} the training accuracy test is 0.992933075622131\n",
      "At random_state {22} the testing accuracy test is 0.4317467987436579\n",
      "\n",
      "\n",
      "At random_state {23} the training accuracy test is 0.992933075622131\n",
      "At random_state {23} the testing accuracy test is 0.4218410244020295\n",
      "\n",
      "\n",
      "At random_state {24} the training accuracy test is 0.9926914713698961\n",
      "At random_state {24} the testing accuracy test is 0.4177337521140372\n",
      "\n",
      "\n",
      "At random_state {25} the training accuracy test is 0.9920270596762503\n",
      "At random_state {25} the testing accuracy test is 0.42836433921237016\n",
      "\n",
      "\n",
      "At random_state {26} the training accuracy test is 0.99251026818072\n",
      "At random_state {26} the testing accuracy test is 0.42474027542884757\n",
      "\n",
      "\n",
      "At random_state {27} the training accuracy test is 0.992087460739309\n",
      "At random_state {27} the testing accuracy test is 0.424015462672143\n",
      "\n",
      "\n",
      "At random_state {28} the training accuracy test is 0.9934162841266007\n",
      "At random_state {28} the testing accuracy test is 0.42425706692437787\n",
      "\n",
      "\n",
      "At random_state {29} the training accuracy test is 0.9928726745590722\n",
      "At random_state {29} the testing accuracy test is 0.40831118627687846\n",
      "\n",
      "\n",
      "At random_state {30} the training accuracy test is 0.9925706692437787\n",
      "At random_state {30} the testing accuracy test is 0.42353225416767337\n",
      "\n",
      "\n",
      "At random_state {31} the training accuracy test is 0.9935370862527181\n",
      "At random_state {31} the testing accuracy test is 0.41676733510509784\n",
      "\n",
      "\n",
      "At random_state {32} the training accuracy test is 0.9929934766851897\n",
      "At random_state {32} the testing accuracy test is 0.4189417733752114\n",
      "\n",
      "\n",
      "At random_state {33} the training accuracy test is 0.9927518724329548\n",
      "At random_state {33} the testing accuracy test is 0.40879439478134816\n",
      "\n",
      "\n",
      "At random_state {34} the training accuracy test is 0.9929934766851897\n",
      "At random_state {34} the testing accuracy test is 0.4215994201497946\n",
      "\n",
      "\n",
      "At random_state {35} the training accuracy test is 0.992933075622131\n",
      "At random_state {35} the testing accuracy test is 0.4027542884754772\n",
      "\n",
      "\n",
      "At random_state {36} the training accuracy test is 0.9922082628654264\n",
      "At random_state {36} the testing accuracy test is 0.41483450108721914\n",
      "\n",
      "\n",
      "At random_state {37} the training accuracy test is 0.9925706692437787\n",
      "At random_state {37} the testing accuracy test is 0.4153177095916888\n",
      "\n",
      "\n",
      "At random_state {38} the training accuracy test is 0.9923894660546025\n",
      "At random_state {38} the testing accuracy test is 0.4220826286542643\n",
      "\n",
      "\n",
      "At random_state {39} the training accuracy test is 0.9931142788113071\n",
      "At random_state {39} the testing accuracy test is 0.42739792220343076\n",
      "\n",
      "\n",
      "At random_state {40} the training accuracy test is 0.9925706692437787\n",
      "At random_state {40} the testing accuracy test is 0.4373036965450592\n",
      "\n",
      "\n",
      "At random_state {41} the training accuracy test is 0.9929934766851897\n",
      "At random_state {41} the testing accuracy test is 0.424015462672143\n",
      "\n",
      "\n",
      "At random_state {42} the training accuracy test is 0.9922686639284851\n",
      "At random_state {42} the testing accuracy test is 0.41555931384392364\n",
      "\n",
      "\n",
      "At random_state {43} the training accuracy test is 0.9929934766851897\n",
      "At random_state {43} the testing accuracy test is 0.42788113070790046\n",
      "\n",
      "\n",
      "At random_state {44} the training accuracy test is 0.9921478618023677\n",
      "At random_state {44} the testing accuracy test is 0.4312635902391882\n",
      "\n",
      "\n",
      "At random_state {45} the training accuracy test is 0.9928726745590722\n",
      "At random_state {45} the testing accuracy test is 0.416525730852863\n",
      "\n",
      "\n",
      "At random_state {46} the training accuracy test is 0.9925706692437787\n",
      "At random_state {46} the testing accuracy test is 0.4177337521140372\n",
      "\n",
      "\n",
      "At random_state {47} the training accuracy test is 0.9923894660546025\n",
      "At random_state {47} the testing accuracy test is 0.41555931384392364\n",
      "\n",
      "\n",
      "At random_state {48} the training accuracy test is 0.9932350809374245\n",
      "At random_state {48} the testing accuracy test is 0.4228074414109688\n",
      "\n",
      "\n",
      "At random_state {49} the training accuracy test is 0.9932350809374245\n",
      "At random_state {49} the testing accuracy test is 0.42957236047354436\n",
      "\n",
      "\n",
      "At random_state {50} the training accuracy test is 0.99251026818072\n",
      "At random_state {50} the testing accuracy test is 0.4201497946363856\n",
      "\n",
      "\n",
      "At random_state {51} the training accuracy test is 0.9922686639284851\n",
      "At random_state {51} the testing accuracy test is 0.4264315051944914\n",
      "\n",
      "\n",
      "At random_state {52} the training accuracy test is 0.9925706692437787\n",
      "At random_state {52} the testing accuracy test is 0.43150519449142305\n",
      "\n",
      "\n",
      "At random_state {53} the training accuracy test is 0.9924498671176613\n",
      "At random_state {53} the testing accuracy test is 0.4223242329064992\n",
      "\n",
      "\n",
      "At random_state {54} the training accuracy test is 0.9923290649915438\n",
      "At random_state {54} the testing accuracy test is 0.43150519449142305\n",
      "\n",
      "\n",
      "At random_state {55} the training accuracy test is 0.9927518724329548\n",
      "At random_state {55} the testing accuracy test is 0.4213578158975598\n",
      "\n",
      "\n",
      "At random_state {56} the training accuracy test is 0.9928726745590722\n",
      "At random_state {56} the testing accuracy test is 0.40710316501570426\n",
      "\n",
      "\n",
      "At random_state {57} the training accuracy test is 0.9926914713698961\n",
      "At random_state {57} the testing accuracy test is 0.4215994201497946\n",
      "\n",
      "\n",
      "At random_state {58} the training accuracy test is 0.9928726745590722\n",
      "At random_state {58} the testing accuracy test is 0.4145928968349843\n",
      "\n",
      "\n",
      "At random_state {59} the training accuracy test is 0.9929934766851897\n",
      "At random_state {59} the testing accuracy test is 0.4208746073930901\n",
      "\n",
      "\n",
      "At random_state {60} the training accuracy test is 0.9921478618023677\n",
      "At random_state {60} the testing accuracy test is 0.4228074414109688\n",
      "\n",
      "\n",
      "At random_state {61} the training accuracy test is 0.99251026818072\n",
      "At random_state {61} the testing accuracy test is 0.4201497946363856\n",
      "\n",
      "\n",
      "At random_state {62} the training accuracy test is 0.9928726745590722\n",
      "At random_state {62} the testing accuracy test is 0.4199081903841508\n",
      "\n",
      "\n",
      "At random_state {63} the training accuracy test is 0.9923290649915438\n",
      "At random_state {63} the testing accuracy test is 0.43319642425706695\n",
      "\n",
      "\n",
      "At random_state {64} the training accuracy test is 0.9925706692437787\n",
      "At random_state {64} the testing accuracy test is 0.43102198598695335\n",
      "\n",
      "\n",
      "At random_state {65} the training accuracy test is 0.9926914713698961\n",
      "At random_state {65} the testing accuracy test is 0.41676733510509784\n",
      "\n",
      "\n",
      "At random_state {66} the training accuracy test is 0.9931746798743658\n",
      "At random_state {66} the testing accuracy test is 0.42715631795119596\n",
      "\n",
      "\n",
      "At random_state {67} the training accuracy test is 0.9930538777482484\n",
      "At random_state {67} the testing accuracy test is 0.4431021985986953\n",
      "\n",
      "\n",
      "At random_state {68} the training accuracy test is 0.9930538777482484\n",
      "At random_state {68} the testing accuracy test is 0.4174921478618024\n",
      "\n",
      "\n",
      "At random_state {69} the training accuracy test is 0.9929934766851897\n",
      "At random_state {69} the testing accuracy test is 0.42739792220343076\n",
      "\n",
      "\n",
      "At random_state {70} the training accuracy test is 0.992087460739309\n",
      "At random_state {70} the testing accuracy test is 0.41000241604252236\n",
      "\n",
      "\n",
      "At random_state {71} the training accuracy test is 0.992933075622131\n",
      "At random_state {71} the testing accuracy test is 0.4215994201497946\n",
      "\n",
      "\n",
      "At random_state {72} the training accuracy test is 0.992933075622131\n",
      "At random_state {72} the testing accuracy test is 0.4348876540227108\n",
      "\n",
      "\n",
      "At random_state {73} the training accuracy test is 0.9928122734960135\n",
      "At random_state {73} the testing accuracy test is 0.4201497946363856\n",
      "\n",
      "\n",
      "At random_state {74} the training accuracy test is 0.9930538777482484\n",
      "At random_state {74} the testing accuracy test is 0.41435129258274944\n",
      "\n",
      "\n",
      "At random_state {75} the training accuracy test is 0.9926310703068374\n",
      "At random_state {75} the testing accuracy test is 0.43392123701377144\n",
      "\n",
      "\n",
      "At random_state {76} the training accuracy test is 0.9928726745590722\n",
      "At random_state {76} the testing accuracy test is 0.4244986711766127\n",
      "\n",
      "\n",
      "At random_state {77} the training accuracy test is 0.9928726745590722\n",
      "At random_state {77} the testing accuracy test is 0.4353708625271805\n",
      "\n",
      "\n",
      "At random_state {78} the training accuracy test is 0.9930538777482484\n",
      "At random_state {78} the testing accuracy test is 0.4293307562213095\n",
      "\n",
      "\n",
      "At random_state {79} the training accuracy test is 0.992933075622131\n",
      "At random_state {79} the testing accuracy test is 0.43875332205846823\n",
      "\n",
      "\n",
      "At random_state {80} the training accuracy test is 0.992933075622131\n",
      "At random_state {80} the testing accuracy test is 0.4252234839333172\n",
      "\n",
      "\n",
      "At random_state {81} the training accuracy test is 0.9923290649915438\n",
      "At random_state {81} the testing accuracy test is 0.42860594346460495\n",
      "\n",
      "\n",
      "At random_state {82} the training accuracy test is 0.9924498671176613\n",
      "At random_state {82} the testing accuracy test is 0.4264315051944914\n",
      "\n",
      "\n",
      "At random_state {83} the training accuracy test is 0.9931746798743658\n",
      "At random_state {83} the testing accuracy test is 0.42788113070790046\n",
      "\n",
      "\n",
      "At random_state {84} the training accuracy test is 0.9928122734960135\n",
      "At random_state {84} the testing accuracy test is 0.4213578158975598\n",
      "\n",
      "\n",
      "At random_state {85} the training accuracy test is 0.9925706692437787\n",
      "At random_state {85} the testing accuracy test is 0.4158009180961585\n",
      "\n",
      "\n",
      "At random_state {86} the training accuracy test is 0.9922686639284851\n",
      "At random_state {86} the testing accuracy test is 0.42836433921237016\n",
      "\n",
      "\n",
      "At random_state {87} the training accuracy test is 0.9928122734960135\n",
      "At random_state {87} the testing accuracy test is 0.4312635902391882\n",
      "\n",
      "\n",
      "At random_state {88} the training accuracy test is 0.9922082628654264\n",
      "At random_state {88} the testing accuracy test is 0.42739792220343076\n",
      "\n",
      "\n",
      "At random_state {89} the training accuracy test is 0.9920270596762503\n",
      "At random_state {89} the testing accuracy test is 0.4252234839333172\n",
      "\n",
      "\n",
      "At random_state {90} the training accuracy test is 0.9923290649915438\n",
      "At random_state {90} the testing accuracy test is 0.42981396472577915\n",
      "\n",
      "\n",
      "At random_state {91} the training accuracy test is 0.99251026818072\n",
      "At random_state {91} the testing accuracy test is 0.40637835225899976\n",
      "\n",
      "\n",
      "At random_state {92} the training accuracy test is 0.9926310703068374\n",
      "At random_state {92} the testing accuracy test is 0.4220826286542643\n",
      "\n",
      "\n",
      "At random_state {93} the training accuracy test is 0.9927518724329548\n",
      "At random_state {93} the testing accuracy test is 0.4153177095916888\n",
      "\n",
      "\n",
      "At random_state {94} the training accuracy test is 0.9931746798743658\n",
      "At random_state {94} the testing accuracy test is 0.4264315051944914\n",
      "\n",
      "\n",
      "At random_state {95} the training accuracy test is 0.9918458564870741\n",
      "At random_state {95} the testing accuracy test is 0.43343802850930174\n",
      "\n",
      "\n",
      "At random_state {96} the training accuracy test is 0.992933075622131\n",
      "At random_state {96} the testing accuracy test is 0.4269147136989611\n",
      "\n",
      "\n",
      "At random_state {97} the training accuracy test is 0.9931142788113071\n",
      "At random_state {97} the testing accuracy test is 0.4373036965450592\n",
      "\n",
      "\n",
      "At random_state {98} the training accuracy test is 0.9929934766851897\n",
      "At random_state {98} the testing accuracy test is 0.42860594346460495\n",
      "\n",
      "\n",
      "At random_state {99} the training accuracy test is 0.9922686639284851\n",
      "At random_state {99} the testing accuracy test is 0.4264315051944914\n",
      "\n",
      "\n"
     ]
    }
   ],
   "source": [
    "for i in range(0,100):\n",
    "    x_train,x_test,y_train,y_test=train_test_split(x1,y,test_size=0.20,random_state=i)\n",
    "    dtc.fit(x_train,y_train)\n",
    "    preddtc=dtc.predict(x_train)\n",
    "    preddtc1=dtc.predict(x_test)\n",
    "    print('At random_state' ,{i}, 'the training accuracy test is', accuracy_score(y_train,preddtc))\n",
    "    print('At random_state' ,{i}, 'the testing accuracy test is', accuracy_score(y_test,preddtc1))\n",
    "    print('\\n')"
   ]
  },
  {
   "cell_type": "markdown",
   "id": "6650b3b5",
   "metadata": {},
   "source": [
    "## AT RANDOM STATE 67, WE HAVE THE HIGHEST ACCURACY OF 44.31%, HENCE WE WILL PROCEED WITH THAT "
   ]
  },
  {
   "cell_type": "code",
   "execution_count": 36,
   "id": "a8f3edb4",
   "metadata": {},
   "outputs": [],
   "source": [
    "x_train,x_test,y_train,y_test=train_test_split(x1,y,test_size=0.20,random_state=67)"
   ]
  },
  {
   "cell_type": "code",
   "execution_count": 37,
   "id": "36b65edf",
   "metadata": {},
   "outputs": [
    {
     "data": {
      "text/html": [
       "<style>#sk-container-id-1 {color: black;background-color: white;}#sk-container-id-1 pre{padding: 0;}#sk-container-id-1 div.sk-toggleable {background-color: white;}#sk-container-id-1 label.sk-toggleable__label {cursor: pointer;display: block;width: 100%;margin-bottom: 0;padding: 0.3em;box-sizing: border-box;text-align: center;}#sk-container-id-1 label.sk-toggleable__label-arrow:before {content: \"▸\";float: left;margin-right: 0.25em;color: #696969;}#sk-container-id-1 label.sk-toggleable__label-arrow:hover:before {color: black;}#sk-container-id-1 div.sk-estimator:hover label.sk-toggleable__label-arrow:before {color: black;}#sk-container-id-1 div.sk-toggleable__content {max-height: 0;max-width: 0;overflow: hidden;text-align: left;background-color: #f0f8ff;}#sk-container-id-1 div.sk-toggleable__content pre {margin: 0.2em;color: black;border-radius: 0.25em;background-color: #f0f8ff;}#sk-container-id-1 input.sk-toggleable__control:checked~div.sk-toggleable__content {max-height: 200px;max-width: 100%;overflow: auto;}#sk-container-id-1 input.sk-toggleable__control:checked~label.sk-toggleable__label-arrow:before {content: \"▾\";}#sk-container-id-1 div.sk-estimator input.sk-toggleable__control:checked~label.sk-toggleable__label {background-color: #d4ebff;}#sk-container-id-1 div.sk-label input.sk-toggleable__control:checked~label.sk-toggleable__label {background-color: #d4ebff;}#sk-container-id-1 input.sk-hidden--visually {border: 0;clip: rect(1px 1px 1px 1px);clip: rect(1px, 1px, 1px, 1px);height: 1px;margin: -1px;overflow: hidden;padding: 0;position: absolute;width: 1px;}#sk-container-id-1 div.sk-estimator {font-family: monospace;background-color: #f0f8ff;border: 1px dotted black;border-radius: 0.25em;box-sizing: border-box;margin-bottom: 0.5em;}#sk-container-id-1 div.sk-estimator:hover {background-color: #d4ebff;}#sk-container-id-1 div.sk-parallel-item::after {content: \"\";width: 100%;border-bottom: 1px solid gray;flex-grow: 1;}#sk-container-id-1 div.sk-label:hover label.sk-toggleable__label {background-color: #d4ebff;}#sk-container-id-1 div.sk-serial::before {content: \"\";position: absolute;border-left: 1px solid gray;box-sizing: border-box;top: 0;bottom: 0;left: 50%;z-index: 0;}#sk-container-id-1 div.sk-serial {display: flex;flex-direction: column;align-items: center;background-color: white;padding-right: 0.2em;padding-left: 0.2em;position: relative;}#sk-container-id-1 div.sk-item {position: relative;z-index: 1;}#sk-container-id-1 div.sk-parallel {display: flex;align-items: stretch;justify-content: center;background-color: white;position: relative;}#sk-container-id-1 div.sk-item::before, #sk-container-id-1 div.sk-parallel-item::before {content: \"\";position: absolute;border-left: 1px solid gray;box-sizing: border-box;top: 0;bottom: 0;left: 50%;z-index: -1;}#sk-container-id-1 div.sk-parallel-item {display: flex;flex-direction: column;z-index: 1;position: relative;background-color: white;}#sk-container-id-1 div.sk-parallel-item:first-child::after {align-self: flex-end;width: 50%;}#sk-container-id-1 div.sk-parallel-item:last-child::after {align-self: flex-start;width: 50%;}#sk-container-id-1 div.sk-parallel-item:only-child::after {width: 0;}#sk-container-id-1 div.sk-dashed-wrapped {border: 1px dashed gray;margin: 0 0.4em 0.5em 0.4em;box-sizing: border-box;padding-bottom: 0.4em;background-color: white;}#sk-container-id-1 div.sk-label label {font-family: monospace;font-weight: bold;display: inline-block;line-height: 1.2em;}#sk-container-id-1 div.sk-label-container {text-align: center;}#sk-container-id-1 div.sk-container {/* jupyter's `normalize.less` sets `[hidden] { display: none; }` but bootstrap.min.css set `[hidden] { display: none !important; }` so we also need the `!important` here to be able to override the default hidden behavior on the sphinx rendered scikit-learn.org. See: https://github.com/scikit-learn/scikit-learn/issues/21755 */display: inline-block !important;position: relative;}#sk-container-id-1 div.sk-text-repr-fallback {display: none;}</style><div id=\"sk-container-id-1\" class=\"sk-top-container\"><div class=\"sk-text-repr-fallback\"><pre>DecisionTreeClassifier()</pre><b>In a Jupyter environment, please rerun this cell to show the HTML representation or trust the notebook. <br />On GitHub, the HTML representation is unable to render, please try loading this page with nbviewer.org.</b></div><div class=\"sk-container\" hidden><div class=\"sk-item\"><div class=\"sk-estimator sk-toggleable\"><input class=\"sk-toggleable__control sk-hidden--visually\" id=\"sk-estimator-id-1\" type=\"checkbox\" checked><label for=\"sk-estimator-id-1\" class=\"sk-toggleable__label sk-toggleable__label-arrow\">DecisionTreeClassifier</label><div class=\"sk-toggleable__content\"><pre>DecisionTreeClassifier()</pre></div></div></div></div></div>"
      ],
      "text/plain": [
       "DecisionTreeClassifier()"
      ]
     },
     "execution_count": 37,
     "metadata": {},
     "output_type": "execute_result"
    }
   ],
   "source": [
    "dtc.fit(x_train,y_train)"
   ]
  },
  {
   "cell_type": "code",
   "execution_count": 38,
   "id": "4c38accd",
   "metadata": {},
   "outputs": [],
   "source": [
    "PREDTC=dtc.predict(x_test)"
   ]
  },
  {
   "cell_type": "code",
   "execution_count": 39,
   "id": "8fb96951",
   "metadata": {},
   "outputs": [
    {
     "name": "stdout",
     "output_type": "stream",
     "text": [
      "0.4402029475718773\n"
     ]
    }
   ],
   "source": [
    "print(accuracy_score(y_test,PREDTC))"
   ]
  },
  {
   "cell_type": "code",
   "execution_count": 40,
   "id": "74aaf090",
   "metadata": {},
   "outputs": [
    {
     "name": "stdout",
     "output_type": "stream",
     "text": [
      "[[434 169 124  55  23]\n",
      " [229 316 195  82  22]\n",
      " [131 220 232 146  54]\n",
      " [ 77  97 142 318 213]\n",
      " [ 37  35  58 208 522]]\n"
     ]
    }
   ],
   "source": [
    "print(confusion_matrix(y_test,PREDTC))"
   ]
  },
  {
   "cell_type": "code",
   "execution_count": 41,
   "id": "d102cb19",
   "metadata": {},
   "outputs": [
    {
     "name": "stdout",
     "output_type": "stream",
     "text": [
      "              precision    recall  f1-score   support\n",
      "\n",
      "           1       0.48      0.54      0.51       805\n",
      "           2       0.38      0.37      0.38       844\n",
      "           3       0.31      0.30      0.30       783\n",
      "           4       0.39      0.38      0.38       847\n",
      "           5       0.63      0.61      0.62       860\n",
      "\n",
      "    accuracy                           0.44      4139\n",
      "   macro avg       0.44      0.44      0.44      4139\n",
      "weighted avg       0.44      0.44      0.44      4139\n",
      "\n"
     ]
    }
   ],
   "source": [
    "print(classification_report(y_test,PREDTC))"
   ]
  },
  {
   "cell_type": "markdown",
   "id": "3e5b1af9",
   "metadata": {},
   "source": [
    "## AUC ROC CURVE"
   ]
  },
  {
   "cell_type": "code",
   "execution_count": 42,
   "id": "bae6e807",
   "metadata": {},
   "outputs": [],
   "source": [
    "y_prob_pred4=dtc.predict_proba(x_test)"
   ]
  },
  {
   "cell_type": "code",
   "execution_count": 62,
   "id": "e7946236",
   "metadata": {},
   "outputs": [
    {
     "data": {
      "text/plain": [
       "Text(0, 0.5, 'True Positive rate')"
      ]
     },
     "execution_count": 62,
     "metadata": {},
     "output_type": "execute_result"
    },
    {
     "data": {
      "image/png": "[encoded data removed]",
      "text/plain": [
       "<Figure size 432x288 with 1 Axes>"
      ]
     },
     "metadata": {
      "needs_background": "light"
     },
     "output_type": "display_data"
    }
   ],
   "source": [
    "fpr={}\n",
    "tpr={}\n",
    "thresh={}\n",
    "\n",
    "n_class = 5\n",
    "for i in range(n_class):    \n",
    "    fpr[i],tpr[i],thresh[i]=roc_curve(y_test, y_prob_pred4[:,i], pos_label=i)\n",
    "    \n",
    "plt.plot(fpr[0],tpr[0],label='Class 0 vs Rest')\n",
    "plt.plot(fpr[1],tpr[1],label='Class 1 vs Rest')\n",
    "plt.plot(fpr[2],tpr[2],label='Class 2 vs Rest')\n",
    "plt.plot(fpr[3],tpr[3],label='Class 3 vs Rest')\n",
    "plt.plot(fpr[4],tpr[4],label='Class 4 vs Rest')\n",
    "plt.title('Multiclass ROC curve')\n",
    "plt.xlabel('False Positive Rate')\n",
    "plt.ylabel('True Positive rate')   "
   ]
  },
  {
   "cell_type": "markdown",
   "id": "1d6d79e8",
   "metadata": {},
   "source": [
    "## RANDOM FOREST CLASSIFIER "
   ]
  },
  {
   "cell_type": "code",
   "execution_count": 63,
   "id": "3e4ba031",
   "metadata": {},
   "outputs": [],
   "source": [
    "rm=RandomForestClassifier()"
   ]
  },
  {
   "cell_type": "code",
   "execution_count": 64,
   "id": "2e81c31e",
   "metadata": {},
   "outputs": [
    {
     "name": "stdout",
     "output_type": "stream",
     "text": [
      "At random_state {0} the training accuracy test is 0.9927518724329548\n",
      "At random_state {0} the testing accuracy test is 0.5155834742691472\n",
      "\n",
      "\n",
      "At random_state {1} the training accuracy test is 0.9924498671176613\n",
      "At random_state {1} the testing accuracy test is 0.5187243295482\n",
      "\n",
      "\n",
      "At random_state {2} the training accuracy test is 0.9922686639284851\n",
      "At random_state {2} the testing accuracy test is 0.5230732060884271\n",
      "\n",
      "\n",
      "At random_state {3} the training accuracy test is 0.9930538777482484\n",
      "At random_state {3} the testing accuracy test is 0.5257308528630104\n",
      "\n",
      "\n",
      "At random_state {4} the training accuracy test is 0.99251026818072\n",
      "At random_state {4} the testing accuracy test is 0.5170330997825562\n",
      "\n",
      "\n",
      "At random_state {5} the training accuracy test is 0.9922686639284851\n",
      "At random_state {5} the testing accuracy test is 0.5341870016912298\n",
      "\n",
      "\n",
      "At random_state {6} the training accuracy test is 0.9920270596762503\n",
      "At random_state {6} the testing accuracy test is 0.5175163082870259\n",
      "\n",
      "\n",
      "At random_state {7} the training accuracy test is 0.9924498671176613\n",
      "At random_state {7} the testing accuracy test is 0.5122010147378594\n",
      "\n",
      "\n",
      "At random_state {8} the training accuracy test is 0.9924498671176613\n",
      "At random_state {8} the testing accuracy test is 0.5298381251510027\n",
      "\n",
      "\n",
      "At random_state {9} the training accuracy test is 0.9925706692437787\n",
      "At random_state {9} the testing accuracy test is 0.5266972698719498\n",
      "\n",
      "\n",
      "At random_state {10} the training accuracy test is 0.9928726745590722\n",
      "At random_state {10} the testing accuracy test is 0.5237980188451317\n",
      "\n",
      "\n",
      "At random_state {11} the training accuracy test is 0.99251026818072\n",
      "At random_state {11} the testing accuracy test is 0.5344286059434646\n",
      "\n",
      "\n",
      "At random_state {12} the training accuracy test is 0.992087460739309\n",
      "At random_state {12} the testing accuracy test is 0.536844648465813\n",
      "\n",
      "\n",
      "At random_state {13} the training accuracy test is 0.9929934766851897\n",
      "At random_state {13} the testing accuracy test is 0.5175163082870259\n",
      "\n",
      "\n",
      "At random_state {14} the training accuracy test is 0.9928122734960135\n",
      "At random_state {14} the testing accuracy test is 0.5189659338004349\n",
      "\n",
      "\n",
      "At random_state {15} the training accuracy test is 0.9926310703068374\n",
      "At random_state {15} the testing accuracy test is 0.5324957719255858\n",
      "\n",
      "\n",
      "At random_state {16} the training accuracy test is 0.9929934766851897\n",
      "At random_state {16} the testing accuracy test is 0.5208987678183136\n",
      "\n",
      "\n",
      "At random_state {17} the training accuracy test is 0.99251026818072\n",
      "At random_state {17} the testing accuracy test is 0.5259724571152452\n",
      "\n",
      "\n",
      "At random_state {18} the training accuracy test is 0.9919062575501328\n",
      "At random_state {18} the testing accuracy test is 0.5206571635660787\n",
      "\n",
      "\n",
      "At random_state {19} the training accuracy test is 0.9926310703068374\n",
      "At random_state {19} the testing accuracy test is 0.527663686880889\n",
      "\n",
      "\n",
      "At random_state {20} the training accuracy test is 0.9923894660546025\n",
      "At random_state {20} the testing accuracy test is 0.5317709591688814\n",
      "\n",
      "\n",
      "At random_state {21} the training accuracy test is 0.99251026818072\n",
      "At random_state {21} the testing accuracy test is 0.5225899975839575\n",
      "\n",
      "\n",
      "At random_state {22} the training accuracy test is 0.992933075622131\n",
      "At random_state {22} the testing accuracy test is 0.5351534187001691\n",
      "\n",
      "\n",
      "At random_state {23} the training accuracy test is 0.992933075622131\n",
      "At random_state {23} the testing accuracy test is 0.5141338487557381\n",
      "\n",
      "\n",
      "At random_state {24} the training accuracy test is 0.9926914713698961\n",
      "At random_state {24} the testing accuracy test is 0.5288717081420633\n",
      "\n",
      "\n",
      "At random_state {25} the training accuracy test is 0.9920270596762503\n",
      "At random_state {25} the testing accuracy test is 0.5201739550616091\n",
      "\n",
      "\n",
      "At random_state {26} the training accuracy test is 0.99251026818072\n",
      "At random_state {26} the testing accuracy test is 0.5286301038898285\n",
      "\n",
      "\n",
      "At random_state {27} the training accuracy test is 0.992087460739309\n",
      "At random_state {27} the testing accuracy test is 0.5279052911331239\n",
      "\n",
      "\n",
      "At random_state {28} the training accuracy test is 0.9934162841266007\n",
      "At random_state {28} the testing accuracy test is 0.5419183377627447\n",
      "\n",
      "\n",
      "At random_state {29} the training accuracy test is 0.9928726745590722\n",
      "At random_state {29} the testing accuracy test is 0.523314810340662\n",
      "\n",
      "\n",
      "At random_state {30} the training accuracy test is 0.9925706692437787\n",
      "At random_state {30} the testing accuracy test is 0.5322541676733511\n",
      "\n",
      "\n",
      "At random_state {31} the training accuracy test is 0.9935370862527181\n",
      "At random_state {31} the testing accuracy test is 0.5329789804300555\n",
      "\n",
      "\n",
      "At random_state {32} the training accuracy test is 0.9929934766851897\n",
      "At random_state {32} the testing accuracy test is 0.523314810340662\n",
      "\n",
      "\n",
      "At random_state {33} the training accuracy test is 0.9927518724329548\n",
      "At random_state {33} the testing accuracy test is 0.5208987678183136\n",
      "\n",
      "\n",
      "At random_state {34} the training accuracy test is 0.9929934766851897\n",
      "At random_state {34} the testing accuracy test is 0.5192075380526697\n",
      "\n",
      "\n",
      "At random_state {35} the training accuracy test is 0.992933075622131\n",
      "At random_state {35} the testing accuracy test is 0.4998791978738826\n",
      "\n",
      "\n",
      "At random_state {36} the training accuracy test is 0.9922082628654264\n",
      "At random_state {36} the testing accuracy test is 0.5068857211886929\n",
      "\n",
      "\n",
      "At random_state {37} the training accuracy test is 0.9925706692437787\n",
      "At random_state {37} the testing accuracy test is 0.5221067890794878\n",
      "\n",
      "\n",
      "At random_state {38} the training accuracy test is 0.9923894660546025\n",
      "At random_state {38} the testing accuracy test is 0.5225899975839575\n",
      "\n",
      "\n",
      "At random_state {39} the training accuracy test is 0.9931142788113071\n",
      "At random_state {39} the testing accuracy test is 0.529354916646533\n",
      "\n",
      "\n",
      "At random_state {40} the training accuracy test is 0.9925706692437787\n",
      "At random_state {40} the testing accuracy test is 0.5453007972940324\n",
      "\n",
      "\n",
      "At random_state {41} the training accuracy test is 0.9929934766851897\n",
      "At random_state {41} the testing accuracy test is 0.5223483933317227\n",
      "\n",
      "\n",
      "At random_state {42} the training accuracy test is 0.9922686639284851\n",
      "At random_state {42} the testing accuracy test is 0.5093017637110413\n",
      "\n",
      "\n",
      "At random_state {43} the training accuracy test is 0.9929934766851897\n",
      "At random_state {43} the testing accuracy test is 0.5300797294032374\n",
      "\n",
      "\n",
      "At random_state {44} the training accuracy test is 0.9921478618023677\n",
      "At random_state {44} the testing accuracy test is 0.5264556656197149\n",
      "\n",
      "\n",
      "At random_state {45} the training accuracy test is 0.9928726745590722\n",
      "At random_state {45} the testing accuracy test is 0.5257308528630104\n",
      "\n",
      "\n",
      "At random_state {46} the training accuracy test is 0.9925706692437787\n",
      "At random_state {46} the testing accuracy test is 0.5117178062333897\n",
      "\n",
      "\n",
      "At random_state {47} the training accuracy test is 0.9923894660546025\n",
      "At random_state {47} the testing accuracy test is 0.5242812273496014\n",
      "\n",
      "\n",
      "At random_state {48} the training accuracy test is 0.9932350809374245\n",
      "At random_state {48} the testing accuracy test is 0.5151002657646775\n",
      "\n",
      "\n",
      "At random_state {49} the training accuracy test is 0.9932350809374245\n",
      "At random_state {49} the testing accuracy test is 0.5288717081420633\n",
      "\n",
      "\n",
      "At random_state {50} the training accuracy test is 0.99251026818072\n",
      "At random_state {50} the testing accuracy test is 0.5266972698719498\n",
      "\n",
      "\n",
      "At random_state {51} the training accuracy test is 0.9922686639284851\n",
      "At random_state {51} the testing accuracy test is 0.5179995167914956\n",
      "\n",
      "\n",
      "At random_state {52} the training accuracy test is 0.9925706692437787\n",
      "At random_state {52} the testing accuracy test is 0.538294273979222\n",
      "\n",
      "\n",
      "At random_state {53} the training accuracy test is 0.9924498671176613\n",
      "At random_state {53} the testing accuracy test is 0.5230732060884271\n",
      "\n",
      "\n",
      "At random_state {54} the training accuracy test is 0.9923290649915438\n",
      "At random_state {54} the testing accuracy test is 0.5223483933317227\n",
      "\n",
      "\n",
      "At random_state {55} the training accuracy test is 0.9927518724329548\n",
      "At random_state {55} the testing accuracy test is 0.5337037931867601\n",
      "\n",
      "\n",
      "At random_state {56} the training accuracy test is 0.9928726745590722\n",
      "At random_state {56} the testing accuracy test is 0.5151002657646775\n",
      "\n",
      "\n",
      "At random_state {57} the training accuracy test is 0.9926914713698961\n",
      "At random_state {57} the testing accuracy test is 0.5271804783764195\n",
      "\n",
      "\n",
      "At random_state {58} the training accuracy test is 0.9928726745590722\n",
      "At random_state {58} the testing accuracy test is 0.5199323508093743\n",
      "\n",
      "\n",
      "At random_state {59} the training accuracy test is 0.9929934766851897\n",
      "At random_state {59} the testing accuracy test is 0.5245228316018362\n",
      "\n",
      "\n",
      "At random_state {60} the training accuracy test is 0.9921478618023677\n",
      "At random_state {60} the testing accuracy test is 0.5298381251510027\n",
      "\n",
      "\n",
      "At random_state {61} the training accuracy test is 0.99251026818072\n",
      "At random_state {61} the testing accuracy test is 0.5332205846822904\n",
      "\n",
      "\n",
      "At random_state {62} the training accuracy test is 0.9928122734960135\n",
      "At random_state {62} the testing accuracy test is 0.5305629379077071\n",
      "\n",
      "\n",
      "At random_state {63} the training accuracy test is 0.9923290649915438\n",
      "At random_state {63} the testing accuracy test is 0.5317709591688814\n",
      "\n",
      "\n",
      "At random_state {64} the training accuracy test is 0.9925706692437787\n",
      "At random_state {64} the testing accuracy test is 0.5221067890794878\n",
      "\n",
      "\n",
      "At random_state {65} the training accuracy test is 0.9926914713698961\n",
      "At random_state {65} the testing accuracy test is 0.5320125634211162\n",
      "\n",
      "\n",
      "At random_state {66} the training accuracy test is 0.9931746798743658\n",
      "At random_state {66} the testing accuracy test is 0.5295965208987679\n",
      "\n",
      "\n",
      "At random_state {67} the training accuracy test is 0.9930538777482484\n",
      "At random_state {67} the testing accuracy test is 0.5322541676733511\n",
      "\n",
      "\n",
      "At random_state {68} the training accuracy test is 0.9930538777482484\n",
      "At random_state {68} the testing accuracy test is 0.5078521381976323\n",
      "\n",
      "\n",
      "At random_state {69} the training accuracy test is 0.9929934766851897\n",
      "At random_state {69} the testing accuracy test is 0.5274220826286543\n",
      "\n",
      "\n",
      "At random_state {70} the training accuracy test is 0.992087460739309\n",
      "At random_state {70} the testing accuracy test is 0.5184827252959652\n",
      "\n",
      "\n",
      "At random_state {71} the training accuracy test is 0.992933075622131\n",
      "At random_state {71} the testing accuracy test is 0.5167914955303213\n",
      "\n",
      "\n",
      "At random_state {72} the training accuracy test is 0.992933075622131\n",
      "At random_state {72} the testing accuracy test is 0.5146170572602078\n",
      "\n",
      "\n",
      "At random_state {73} the training accuracy test is 0.9928122734960135\n",
      "At random_state {73} the testing accuracy test is 0.5230732060884271\n",
      "\n",
      "\n",
      "At random_state {74} the training accuracy test is 0.9930538777482484\n",
      "At random_state {74} the testing accuracy test is 0.5148586615124426\n",
      "\n",
      "\n",
      "At random_state {75} the training accuracy test is 0.9926310703068374\n",
      "At random_state {75} the testing accuracy test is 0.5356366272046388\n",
      "\n",
      "\n",
      "At random_state {76} the training accuracy test is 0.9928726745590722\n",
      "At random_state {76} the testing accuracy test is 0.5460256100507369\n",
      "\n",
      "\n",
      "At random_state {77} the training accuracy test is 0.9928726745590722\n",
      "At random_state {77} the testing accuracy test is 0.5380526697269872\n",
      "\n",
      "\n",
      "At random_state {78} the training accuracy test is 0.9930538777482484\n",
      "At random_state {78} the testing accuracy test is 0.5349118144479342\n",
      "\n",
      "\n",
      "At random_state {79} the training accuracy test is 0.992933075622131\n",
      "At random_state {79} the testing accuracy test is 0.5266972698719498\n",
      "\n",
      "\n",
      "At random_state {80} the training accuracy test is 0.992933075622131\n",
      "At random_state {80} the testing accuracy test is 0.5228316018361924\n",
      "\n",
      "\n",
      "At random_state {81} the training accuracy test is 0.9923290649915438\n",
      "At random_state {81} the testing accuracy test is 0.5235564145928968\n",
      "\n",
      "\n",
      "At random_state {82} the training accuracy test is 0.9924498671176613\n",
      "At random_state {82} the testing accuracy test is 0.5179995167914956\n",
      "\n",
      "\n",
      "At random_state {83} the training accuracy test is 0.9931746798743658\n",
      "At random_state {83} the testing accuracy test is 0.5358782314568736\n",
      "\n",
      "\n",
      "At random_state {84} the training accuracy test is 0.9928122734960135\n",
      "At random_state {84} the testing accuracy test is 0.5136506402512684\n",
      "\n",
      "\n",
      "At random_state {85} the training accuracy test is 0.9925706692437787\n",
      "At random_state {85} the testing accuracy test is 0.5225899975839575\n",
      "\n",
      "\n",
      "At random_state {86} the training accuracy test is 0.9922686639284851\n",
      "At random_state {86} the testing accuracy test is 0.5199323508093743\n",
      "\n",
      "\n",
      "At random_state {87} the training accuracy test is 0.9928122734960135\n",
      "At random_state {87} the testing accuracy test is 0.5252476443585407\n",
      "\n",
      "\n",
      "At random_state {88} the training accuracy test is 0.9922082628654264\n",
      "At random_state {88} the testing accuracy test is 0.5322541676733511\n",
      "\n",
      "\n",
      "At random_state {89} the training accuracy test is 0.9920270596762503\n",
      "At random_state {89} the testing accuracy test is 0.5184827252959652\n",
      "\n",
      "\n",
      "At random_state {90} the training accuracy test is 0.9923290649915438\n",
      "At random_state {90} the testing accuracy test is 0.508335346702102\n",
      "\n",
      "\n",
      "At random_state {91} the training accuracy test is 0.99251026818072\n",
      "At random_state {91} the testing accuracy test is 0.5109929934766851\n",
      "\n",
      "\n",
      "At random_state {92} the training accuracy test is 0.9926310703068374\n",
      "At random_state {92} the testing accuracy test is 0.51123459772892\n",
      "\n",
      "\n",
      "At random_state {93} the training accuracy test is 0.9927518724329548\n",
      "At random_state {93} the testing accuracy test is 0.5240396230973665\n",
      "\n",
      "\n",
      "At random_state {94} the training accuracy test is 0.9931746798743658\n",
      "At random_state {94} the testing accuracy test is 0.5349118144479342\n",
      "\n",
      "\n",
      "At random_state {95} the training accuracy test is 0.9918458564870741\n",
      "At random_state {95} the testing accuracy test is 0.5317709591688814\n",
      "\n",
      "\n",
      "At random_state {96} the training accuracy test is 0.992933075622131\n",
      "At random_state {96} the testing accuracy test is 0.5221067890794878\n",
      "\n",
      "\n",
      "At random_state {97} the training accuracy test is 0.9931142788113071\n",
      "At random_state {97} the testing accuracy test is 0.517274704034791\n",
      "\n",
      "\n",
      "At random_state {98} the training accuracy test is 0.9929934766851897\n",
      "At random_state {98} the testing accuracy test is 0.527663686880889\n",
      "\n",
      "\n",
      "At random_state {99} the training accuracy test is 0.9922686639284851\n",
      "At random_state {99} the testing accuracy test is 0.5262140613674801\n",
      "\n",
      "\n"
     ]
    }
   ],
   "source": [
    "for i in range(0,100):\n",
    "    x_train,x_test,y_train,y_test=train_test_split(x1,y,test_size=0.20,random_state=i)\n",
    "    rm.fit(x_train,y_train)\n",
    "    predrm=rm.predict(x_train)\n",
    "    predrm1=rm.predict(x_test)\n",
    "    print('At random_state' ,{i}, 'the training accuracy test is', accuracy_score(y_train,predrm))\n",
    "    print('At random_state' ,{i}, 'the testing accuracy test is', accuracy_score(y_test,predrm1))\n",
    "    print('\\n')"
   ]
  },
  {
   "cell_type": "markdown",
   "id": "484beda5",
   "metadata": {},
   "source": [
    "## AT RANDOM STATE 40  WE HAVE THE HIGHEST ACCURACY OF  54.53%"
   ]
  },
  {
   "cell_type": "code",
   "execution_count": 65,
   "id": "a900b058",
   "metadata": {},
   "outputs": [],
   "source": [
    "x_train,x_test,y_train,y_test=train_test_split(x1,y,test_size=0.20,random_state=40)"
   ]
  },
  {
   "cell_type": "code",
   "execution_count": 66,
   "id": "461772c6",
   "metadata": {},
   "outputs": [
    {
     "data": {
      "text/html": [
       "<style>#sk-container-id-4 {color: black;background-color: white;}#sk-container-id-4 pre{padding: 0;}#sk-container-id-4 div.sk-toggleable {background-color: white;}#sk-container-id-4 label.sk-toggleable__label {cursor: pointer;display: block;width: 100%;margin-bottom: 0;padding: 0.3em;box-sizing: border-box;text-align: center;}#sk-container-id-4 label.sk-toggleable__label-arrow:before {content: \"▸\";float: left;margin-right: 0.25em;color: #696969;}#sk-container-id-4 label.sk-toggleable__label-arrow:hover:before {color: black;}#sk-container-id-4 div.sk-estimator:hover label.sk-toggleable__label-arrow:before {color: black;}#sk-container-id-4 div.sk-toggleable__content {max-height: 0;max-width: 0;overflow: hidden;text-align: left;background-color: #f0f8ff;}#sk-container-id-4 div.sk-toggleable__content pre {margin: 0.2em;color: black;border-radius: 0.25em;background-color: #f0f8ff;}#sk-container-id-4 input.sk-toggleable__control:checked~div.sk-toggleable__content {max-height: 200px;max-width: 100%;overflow: auto;}#sk-container-id-4 input.sk-toggleable__control:checked~label.sk-toggleable__label-arrow:before {content: \"▾\";}#sk-container-id-4 div.sk-estimator input.sk-toggleable__control:checked~label.sk-toggleable__label {background-color: #d4ebff;}#sk-container-id-4 div.sk-label input.sk-toggleable__control:checked~label.sk-toggleable__label {background-color: #d4ebff;}#sk-container-id-4 input.sk-hidden--visually {border: 0;clip: rect(1px 1px 1px 1px);clip: rect(1px, 1px, 1px, 1px);height: 1px;margin: -1px;overflow: hidden;padding: 0;position: absolute;width: 1px;}#sk-container-id-4 div.sk-estimator {font-family: monospace;background-color: #f0f8ff;border: 1px dotted black;border-radius: 0.25em;box-sizing: border-box;margin-bottom: 0.5em;}#sk-container-id-4 div.sk-estimator:hover {background-color: #d4ebff;}#sk-container-id-4 div.sk-parallel-item::after {content: \"\";width: 100%;border-bottom: 1px solid gray;flex-grow: 1;}#sk-container-id-4 div.sk-label:hover label.sk-toggleable__label {background-color: #d4ebff;}#sk-container-id-4 div.sk-serial::before {content: \"\";position: absolute;border-left: 1px solid gray;box-sizing: border-box;top: 0;bottom: 0;left: 50%;z-index: 0;}#sk-container-id-4 div.sk-serial {display: flex;flex-direction: column;align-items: center;background-color: white;padding-right: 0.2em;padding-left: 0.2em;position: relative;}#sk-container-id-4 div.sk-item {position: relative;z-index: 1;}#sk-container-id-4 div.sk-parallel {display: flex;align-items: stretch;justify-content: center;background-color: white;position: relative;}#sk-container-id-4 div.sk-item::before, #sk-container-id-4 div.sk-parallel-item::before {content: \"\";position: absolute;border-left: 1px solid gray;box-sizing: border-box;top: 0;bottom: 0;left: 50%;z-index: -1;}#sk-container-id-4 div.sk-parallel-item {display: flex;flex-direction: column;z-index: 1;position: relative;background-color: white;}#sk-container-id-4 div.sk-parallel-item:first-child::after {align-self: flex-end;width: 50%;}#sk-container-id-4 div.sk-parallel-item:last-child::after {align-self: flex-start;width: 50%;}#sk-container-id-4 div.sk-parallel-item:only-child::after {width: 0;}#sk-container-id-4 div.sk-dashed-wrapped {border: 1px dashed gray;margin: 0 0.4em 0.5em 0.4em;box-sizing: border-box;padding-bottom: 0.4em;background-color: white;}#sk-container-id-4 div.sk-label label {font-family: monospace;font-weight: bold;display: inline-block;line-height: 1.2em;}#sk-container-id-4 div.sk-label-container {text-align: center;}#sk-container-id-4 div.sk-container {/* jupyter's `normalize.less` sets `[hidden] { display: none; }` but bootstrap.min.css set `[hidden] { display: none !important; }` so we also need the `!important` here to be able to override the default hidden behavior on the sphinx rendered scikit-learn.org. See: https://github.com/scikit-learn/scikit-learn/issues/21755 */display: inline-block !important;position: relative;}#sk-container-id-4 div.sk-text-repr-fallback {display: none;}</style><div id=\"sk-container-id-4\" class=\"sk-top-container\"><div class=\"sk-text-repr-fallback\"><pre>RandomForestClassifier()</pre><b>In a Jupyter environment, please rerun this cell to show the HTML representation or trust the notebook. <br />On GitHub, the HTML representation is unable to render, please try loading this page with nbviewer.org.</b></div><div class=\"sk-container\" hidden><div class=\"sk-item\"><div class=\"sk-estimator sk-toggleable\"><input class=\"sk-toggleable__control sk-hidden--visually\" id=\"sk-estimator-id-4\" type=\"checkbox\" checked><label for=\"sk-estimator-id-4\" class=\"sk-toggleable__label sk-toggleable__label-arrow\">RandomForestClassifier</label><div class=\"sk-toggleable__content\"><pre>RandomForestClassifier()</pre></div></div></div></div></div>"
      ],
      "text/plain": [
       "RandomForestClassifier()"
      ]
     },
     "execution_count": 66,
     "metadata": {},
     "output_type": "execute_result"
    }
   ],
   "source": [
    "rm.fit(x_train,y_train)"
   ]
  },
  {
   "cell_type": "code",
   "execution_count": 67,
   "id": "892d6eaa",
   "metadata": {},
   "outputs": [],
   "source": [
    "PRERM=rm.predict(x_test)"
   ]
  },
  {
   "cell_type": "code",
   "execution_count": 68,
   "id": "364a6f4e",
   "metadata": {},
   "outputs": [
    {
     "name": "stdout",
     "output_type": "stream",
     "text": [
      "0.5322541676733511\n"
     ]
    }
   ],
   "source": [
    "print(accuracy_score(y_test,PRERM))"
   ]
  },
  {
   "cell_type": "code",
   "execution_count": 69,
   "id": "ab72f219",
   "metadata": {},
   "outputs": [
    {
     "name": "stdout",
     "output_type": "stream",
     "text": [
      "[[588 131  90  27  16]\n",
      " [215 341 180  71  19]\n",
      " [141 215 244 136  77]\n",
      " [ 58  53 134 317 249]\n",
      " [  6  12  11  95 713]]\n"
     ]
    }
   ],
   "source": [
    "print(confusion_matrix(y_test,PRERM))"
   ]
  },
  {
   "cell_type": "code",
   "execution_count": 70,
   "id": "5779112a",
   "metadata": {},
   "outputs": [
    {
     "name": "stdout",
     "output_type": "stream",
     "text": [
      "              precision    recall  f1-score   support\n",
      "\n",
      "           1       0.58      0.69      0.63       852\n",
      "           2       0.45      0.41      0.43       826\n",
      "           3       0.37      0.30      0.33       813\n",
      "           4       0.49      0.39      0.44       811\n",
      "           5       0.66      0.85      0.75       837\n",
      "\n",
      "    accuracy                           0.53      4139\n",
      "   macro avg       0.51      0.53      0.52      4139\n",
      "weighted avg       0.51      0.53      0.52      4139\n",
      "\n"
     ]
    }
   ],
   "source": [
    "print(classification_report(y_test,PRERM))"
   ]
  },
  {
   "cell_type": "markdown",
   "id": "1cc2e0f6",
   "metadata": {},
   "source": [
    "## AUC ROC CURVE"
   ]
  },
  {
   "cell_type": "code",
   "execution_count": 71,
   "id": "299b2102",
   "metadata": {},
   "outputs": [],
   "source": [
    "y_prob_pred5=rm.predict_proba(x_test)"
   ]
  },
  {
   "cell_type": "code",
   "execution_count": 72,
   "id": "080be12b",
   "metadata": {},
   "outputs": [
    {
     "data": {
      "text/plain": [
       "Text(0, 0.5, 'True Positive rate')"
      ]
     },
     "execution_count": 72,
     "metadata": {},
     "output_type": "execute_result"
    },
    {
     "data": {
      "image/png": "[encoded data removed]",
      "text/plain": [
       "<Figure size 432x288 with 1 Axes>"
      ]
     },
     "metadata": {
      "needs_background": "light"
     },
     "output_type": "display_data"
    }
   ],
   "source": [
    "fpr={}\n",
    "tpr={}\n",
    "thresh={}\n",
    "\n",
    "n_class = 5\n",
    "for i in range(n_class):    \n",
    "    fpr[i],tpr[i],thresh[i]=roc_curve(y_test, y_prob_pred5[:,i], pos_label=i)\n",
    "    \n",
    "plt.plot(fpr[0],tpr[0],label='Class 0 vs Rest')\n",
    "plt.plot(fpr[1],tpr[1],label='Class 1 vs Rest')\n",
    "plt.plot(fpr[2],tpr[2],label='Class 2 vs Rest')\n",
    "plt.plot(fpr[3],tpr[3],label='Class 3 vs Rest')\n",
    "plt.plot(fpr[4],tpr[4],label='Class 4 vs Rest')\n",
    "plt.title('Multiclass ROC curve')\n",
    "plt.xlabel('False Positive Rate')\n",
    "plt.ylabel('True Positive rate')    "
   ]
  },
  {
   "cell_type": "markdown",
   "id": "b22fa8c1",
   "metadata": {},
   "source": [
    "## GRADIENT BOOSTING CLASSIFIER"
   ]
  },
  {
   "cell_type": "code",
   "execution_count": 73,
   "id": "7cb0316c",
   "metadata": {},
   "outputs": [],
   "source": [
    "xgb=GradientBoostingClassifier()"
   ]
  },
  {
   "cell_type": "code",
   "execution_count": 77,
   "id": "042ad0f1",
   "metadata": {},
   "outputs": [
    {
     "name": "stdout",
     "output_type": "stream",
     "text": [
      "At random_state {0} the training accuracy test is 0.5799106064266731\n",
      "At random_state {0} the testing accuracy test is 0.512925827494564\n",
      "\n",
      "\n",
      "At random_state {1} the training accuracy test is 0.5822662478859628\n",
      "At random_state {1} the testing accuracy test is 0.5163082870258516\n",
      "\n",
      "\n",
      "At random_state {2} the training accuracy test is 0.5826890553273738\n",
      "At random_state {2} the testing accuracy test is 0.517274704034791\n",
      "\n",
      "\n",
      "At random_state {3} the training accuracy test is 0.5812394298139647\n",
      "At random_state {3} the testing accuracy test is 0.5274220826286543\n",
      "\n",
      "\n",
      "At random_state {4} the training accuracy test is 0.5776757670935009\n",
      "At random_state {4} the testing accuracy test is 0.5254892486107755\n",
      "\n",
      "\n",
      "At random_state {5} the training accuracy test is 0.5754409277603286\n",
      "At random_state {5} the testing accuracy test is 0.5332205846822904\n",
      "\n",
      "\n",
      "At random_state {6} the training accuracy test is 0.581601836192317\n",
      "At random_state {6} the testing accuracy test is 0.5138922445035032\n",
      "\n",
      "\n",
      "At random_state {7} the training accuracy test is 0.5808770234356124\n",
      "At random_state {7} the testing accuracy test is 0.5102681807199807\n",
      "\n",
      "\n",
      "At random_state {8} the training accuracy test is 0.5849842957236048\n",
      "At random_state {8} the testing accuracy test is 0.5213819763227833\n",
      "\n",
      "\n",
      "At random_state {9} the training accuracy test is 0.5785213819763227\n",
      "At random_state {9} the testing accuracy test is 0.5216235805750181\n",
      "\n",
      "\n",
      "At random_state {10} the training accuracy test is 0.5832326648949021\n",
      "At random_state {10} the testing accuracy test is 0.5247644358540711\n",
      "\n",
      "\n",
      "At random_state {11} the training accuracy test is 0.581601836192317\n",
      "At random_state {11} the testing accuracy test is 0.521865184827253\n",
      "\n",
      "\n",
      "At random_state {12} the training accuracy test is 0.5773737617782073\n",
      "At random_state {12} the testing accuracy test is 0.5250060401063059\n",
      "\n",
      "\n",
      "At random_state {13} the training accuracy test is 0.5792461947330273\n",
      "At random_state {13} the testing accuracy test is 0.5175163082870259\n",
      "\n",
      "\n",
      "At random_state {14} the training accuracy test is 0.583897076588548\n",
      "At random_state {14} the testing accuracy test is 0.5213819763227833\n",
      "\n",
      "\n",
      "At random_state {15} the training accuracy test is 0.5812394298139647\n",
      "At random_state {15} the testing accuracy test is 0.5257308528630104\n",
      "\n",
      "\n",
      "At random_state {16} the training accuracy test is 0.5779777724087944\n",
      "At random_state {16} the testing accuracy test is 0.5269388741241846\n",
      "\n",
      "\n",
      "At random_state {17} the training accuracy test is 0.5814810340661996\n",
      "At random_state {17} the testing accuracy test is 0.5264556656197149\n",
      "\n",
      "\n",
      "At random_state {18} the training accuracy test is 0.5826286542643151\n",
      "At random_state {18} the testing accuracy test is 0.5182411210437303\n",
      "\n",
      "\n",
      "At random_state {19} the training accuracy test is 0.5798502053636144\n",
      "At random_state {19} the testing accuracy test is 0.5199323508093743\n",
      "\n",
      "\n",
      "At random_state {20} the training accuracy test is 0.5803334138680841\n",
      "At random_state {20} the testing accuracy test is 0.5279052911331239\n",
      "\n",
      "\n",
      "At random_state {21} the training accuracy test is 0.577856970282677\n",
      "At random_state {21} the testing accuracy test is 0.5242812273496014\n",
      "\n",
      "\n",
      "At random_state {22} the training accuracy test is 0.5759241362647982\n",
      "At random_state {22} the testing accuracy test is 0.5264556656197149\n",
      "\n",
      "\n",
      "At random_state {23} the training accuracy test is 0.5814810340661996\n",
      "At random_state {23} the testing accuracy test is 0.5240396230973665\n",
      "\n",
      "\n",
      "At random_state {24} the training accuracy test is 0.5762865426431505\n",
      "At random_state {24} the testing accuracy test is 0.5119594104856245\n",
      "\n",
      "\n",
      "At random_state {25} the training accuracy test is 0.5782193766610292\n",
      "At random_state {25} the testing accuracy test is 0.5163082870258516\n",
      "\n",
      "\n",
      "At random_state {26} the training accuracy test is 0.5787629862285576\n",
      "At random_state {26} the testing accuracy test is 0.5312877506644117\n",
      "\n",
      "\n",
      "At random_state {27} the training accuracy test is 0.5805146170572603\n",
      "At random_state {27} the testing accuracy test is 0.5266972698719498\n",
      "\n",
      "\n",
      "At random_state {28} the training accuracy test is 0.5776757670935009\n",
      "At random_state {28} the testing accuracy test is 0.5387774824836917\n",
      "\n",
      "\n",
      "At random_state {29} the training accuracy test is 0.580756221309495\n",
      "At random_state {29} the testing accuracy test is 0.5274220826286543\n",
      "\n",
      "\n",
      "At random_state {30} the training accuracy test is 0.5768905532737376\n",
      "At random_state {30} the testing accuracy test is 0.520415559313844\n",
      "\n",
      "\n",
      "At random_state {31} the training accuracy test is 0.5781589755979705\n",
      "At random_state {31} the testing accuracy test is 0.5230732060884271\n",
      "\n",
      "\n",
      "At random_state {32} the training accuracy test is 0.5804542159942016\n",
      "At random_state {32} the testing accuracy test is 0.5196907465571394\n",
      "\n",
      "\n",
      "At random_state {33} the training accuracy test is 0.5774945639043247\n",
      "At random_state {33} the testing accuracy test is 0.5259724571152452\n",
      "\n",
      "\n",
      "At random_state {34} the training accuracy test is 0.5810582266247886\n",
      "At random_state {34} the testing accuracy test is 0.5179995167914956\n",
      "\n",
      "\n",
      "At random_state {35} the training accuracy test is 0.5841386808407828\n",
      "At random_state {35} the testing accuracy test is 0.5078521381976323\n",
      "\n",
      "\n",
      "At random_state {36} the training accuracy test is 0.5783401787871466\n",
      "At random_state {36} the testing accuracy test is 0.5211403720705484\n",
      "\n",
      "\n",
      "At random_state {37} the training accuracy test is 0.5796086011113796\n",
      "At random_state {37} the testing accuracy test is 0.5160666827736168\n",
      "\n",
      "\n",
      "At random_state {38} the training accuracy test is 0.5772529596520899\n",
      "At random_state {38} the testing accuracy test is 0.5295965208987679\n",
      "\n",
      "\n",
      "At random_state {39} the training accuracy test is 0.5777361681565596\n",
      "At random_state {39} the testing accuracy test is 0.520415559313844\n",
      "\n",
      "\n",
      "At random_state {40} the training accuracy test is 0.5771321575259725\n",
      "At random_state {40} the testing accuracy test is 0.5341870016912298\n",
      "\n",
      "\n",
      "At random_state {41} the training accuracy test is 0.580152210678908\n",
      "At random_state {41} the testing accuracy test is 0.5213819763227833\n",
      "\n",
      "\n",
      "At random_state {42} the training accuracy test is 0.5794877989852621\n",
      "At random_state {42} the testing accuracy test is 0.5358782314568736\n",
      "\n",
      "\n",
      "At random_state {43} the training accuracy test is 0.5797898043005557\n",
      "At random_state {43} the testing accuracy test is 0.5211403720705484\n",
      "\n",
      "\n",
      "At random_state {44} the training accuracy test is 0.5809374244986711\n",
      "At random_state {44} the testing accuracy test is 0.5184827252959652\n",
      "\n",
      "\n",
      "At random_state {45} the training accuracy test is 0.5795482000483209\n",
      "At random_state {45} the testing accuracy test is 0.5250060401063059\n",
      "\n",
      "\n",
      "At random_state {46} the training accuracy test is 0.5814810340661996\n",
      "At random_state {46} the testing accuracy test is 0.5136506402512684\n",
      "\n",
      "\n",
      "At random_state {47} the training accuracy test is 0.5794877989852621\n",
      "At random_state {47} the testing accuracy test is 0.5221067890794878\n",
      "\n",
      "\n",
      "At random_state {48} the training accuracy test is 0.5816622372553757\n",
      "At random_state {48} the testing accuracy test is 0.5146170572602078\n",
      "\n",
      "\n",
      "At random_state {49} the training accuracy test is 0.5776153660304422\n",
      "At random_state {49} the testing accuracy test is 0.530804542159942\n",
      "\n",
      "\n",
      "At random_state {50} the training accuracy test is 0.5811186276878473\n",
      "At random_state {50} the testing accuracy test is 0.5324957719255858\n",
      "\n",
      "\n",
      "At random_state {51} the training accuracy test is 0.5808166223725537\n",
      "At random_state {51} the testing accuracy test is 0.5141338487557381\n",
      "\n",
      "\n",
      "At random_state {52} the training accuracy test is 0.5815414351292583\n",
      "At random_state {52} the testing accuracy test is 0.5247644358540711\n",
      "\n",
      "\n",
      "At random_state {53} the training accuracy test is 0.5810582266247886\n",
      "At random_state {53} the testing accuracy test is 0.5177579125392607\n",
      "\n",
      "\n",
      "At random_state {54} the training accuracy test is 0.5835950712732544\n",
      "At random_state {54} the testing accuracy test is 0.5146170572602078\n",
      "\n",
      "\n",
      "At random_state {55} the training accuracy test is 0.5798502053636144\n",
      "At random_state {55} the testing accuracy test is 0.5262140613674801\n",
      "\n",
      "\n",
      "At random_state {56} the training accuracy test is 0.5806354191833776\n",
      "At random_state {56} the testing accuracy test is 0.5160666827736168\n",
      "\n",
      "\n",
      "At random_state {57} the training accuracy test is 0.5823266489490215\n",
      "At random_state {57} the testing accuracy test is 0.5240396230973665\n",
      "\n",
      "\n",
      "At random_state {58} the training accuracy test is 0.5798502053636144\n",
      "At random_state {58} the testing accuracy test is 0.5151002657646775\n",
      "\n",
      "\n",
      "At random_state {59} the training accuracy test is 0.5814206330031408\n",
      "At random_state {59} the testing accuracy test is 0.5194491423049046\n",
      "\n",
      "\n",
      "At random_state {60} the training accuracy test is 0.5764677458323266\n",
      "At random_state {60} the testing accuracy test is 0.5298381251510027\n",
      "\n",
      "\n",
      "At random_state {61} the training accuracy test is 0.581601836192317\n",
      "At random_state {61} the testing accuracy test is 0.5286301038898285\n",
      "\n",
      "\n",
      "At random_state {62} the training accuracy test is 0.580756221309495\n",
      "At random_state {62} the testing accuracy test is 0.5196907465571394\n",
      "\n",
      "\n",
      "At random_state {63} the training accuracy test is 0.5814810340661996\n",
      "At random_state {63} the testing accuracy test is 0.5320125634211162\n",
      "\n",
      "\n",
      "At random_state {64} the training accuracy test is 0.5844406861560764\n",
      "At random_state {64} the testing accuracy test is 0.5165498912780865\n",
      "\n",
      "\n",
      "At random_state {65} the training accuracy test is 0.5780985745349119\n",
      "At random_state {65} the testing accuracy test is 0.5250060401063059\n",
      "\n",
      "\n",
      "At random_state {66} the training accuracy test is 0.5806354191833776\n",
      "At random_state {66} the testing accuracy test is 0.5240396230973665\n",
      "\n",
      "\n",
      "At random_state {67} the training accuracy test is 0.581601836192317\n",
      "At random_state {67} the testing accuracy test is 0.5346702101956995\n",
      "\n",
      "\n",
      "At random_state {68} the training accuracy test is 0.5839574776516067\n",
      "At random_state {68} the testing accuracy test is 0.5044696786663445\n",
      "\n",
      "\n",
      "At random_state {69} the training accuracy test is 0.5861923169847789\n",
      "At random_state {69} the testing accuracy test is 0.5201739550616091\n",
      "\n",
      "\n",
      "At random_state {70} the training accuracy test is 0.5817226383184344\n",
      "At random_state {70} the testing accuracy test is 0.5158250785213819\n",
      "\n",
      "\n",
      "At random_state {71} the training accuracy test is 0.5806958202464363\n",
      "At random_state {71} the testing accuracy test is 0.5163082870258516\n",
      "\n",
      "\n",
      "At random_state {72} the training accuracy test is 0.5829910606426673\n",
      "At random_state {72} the testing accuracy test is 0.5184827252959652\n",
      "\n",
      "\n",
      "At random_state {73} the training accuracy test is 0.5823266489490215\n",
      "At random_state {73} the testing accuracy test is 0.5109929934766851\n",
      "\n",
      "\n",
      "At random_state {74} the training accuracy test is 0.5780381734718532\n",
      "At random_state {74} the testing accuracy test is 0.5240396230973665\n",
      "\n",
      "\n",
      "At random_state {75} the training accuracy test is 0.5786421841024402\n",
      "At random_state {75} the testing accuracy test is 0.5351534187001691\n",
      "\n",
      "\n",
      "At random_state {76} the training accuracy test is 0.5785213819763227\n",
      "At random_state {76} the testing accuracy test is 0.5322541676733511\n",
      "\n",
      "\n",
      "At random_state {77} the training accuracy test is 0.5773133607151486\n",
      "At random_state {77} the testing accuracy test is 0.5298381251510027\n",
      "\n",
      "\n",
      "At random_state {78} the training accuracy test is 0.577856970282677\n",
      "At random_state {78} the testing accuracy test is 0.5312877506644117\n",
      "\n",
      "\n",
      "At random_state {79} the training accuracy test is 0.5817226383184344\n",
      "At random_state {79} the testing accuracy test is 0.5373278569702826\n",
      "\n",
      "\n",
      "At random_state {80} the training accuracy test is 0.5791857936699686\n",
      "At random_state {80} the testing accuracy test is 0.5247644358540711\n",
      "\n",
      "\n",
      "At random_state {81} the training accuracy test is 0.5793669968591447\n",
      "At random_state {81} the testing accuracy test is 0.5228316018361924\n",
      "\n",
      "\n",
      "At random_state {82} the training accuracy test is 0.5822058468229041\n",
      "At random_state {82} the testing accuracy test is 0.5310461464121768\n",
      "\n",
      "\n",
      "At random_state {83} the training accuracy test is 0.580152210678908\n",
      "At random_state {83} the testing accuracy test is 0.5320125634211162\n",
      "\n",
      "\n",
      "At random_state {84} the training accuracy test is 0.5819642425706693\n",
      "At random_state {84} the testing accuracy test is 0.5179995167914956\n",
      "\n",
      "\n",
      "At random_state {85} the training accuracy test is 0.5802126117419667\n",
      "At random_state {85} the testing accuracy test is 0.5240396230973665\n",
      "\n",
      "\n",
      "At random_state {86} the training accuracy test is 0.5827494563904325\n",
      "At random_state {86} the testing accuracy test is 0.5230732060884271\n",
      "\n",
      "\n",
      "At random_state {87} the training accuracy test is 0.581601836192317\n",
      "At random_state {87} the testing accuracy test is 0.5271804783764195\n",
      "\n",
      "\n",
      "At random_state {88} the training accuracy test is 0.5781589755979705\n",
      "At random_state {88} the testing accuracy test is 0.5279052911331239\n",
      "\n",
      "\n",
      "At random_state {89} the training accuracy test is 0.5827494563904325\n",
      "At random_state {89} the testing accuracy test is 0.5109929934766851\n",
      "\n",
      "\n",
      "At random_state {90} the training accuracy test is 0.5796086011113796\n",
      "At random_state {90} the testing accuracy test is 0.5237980188451317\n",
      "\n",
      "\n",
      "At random_state {91} the training accuracy test is 0.5803938149311428\n",
      "At random_state {91} the testing accuracy test is 0.5155834742691472\n",
      "\n",
      "\n",
      "At random_state {92} the training accuracy test is 0.5800918096158493\n",
      "At random_state {92} the testing accuracy test is 0.5199323508093743\n",
      "\n",
      "\n",
      "At random_state {93} the training accuracy test is 0.5813602319400821\n",
      "At random_state {93} the testing accuracy test is 0.5151002657646775\n",
      "\n",
      "\n",
      "At random_state {94} the training accuracy test is 0.5810582266247886\n",
      "At random_state {94} the testing accuracy test is 0.527663686880889\n",
      "\n",
      "\n",
      "At random_state {95} the training accuracy test is 0.5791857936699686\n",
      "At random_state {95} the testing accuracy test is 0.5344286059434646\n",
      "\n",
      "\n",
      "At random_state {96} the training accuracy test is 0.5785213819763227\n",
      "At random_state {96} the testing accuracy test is 0.5242812273496014\n",
      "\n",
      "\n",
      "At random_state {97} the training accuracy test is 0.581601836192317\n",
      "At random_state {97} the testing accuracy test is 0.5184827252959652\n",
      "\n",
      "\n",
      "At random_state {98} the training accuracy test is 0.579729403237497\n",
      "At random_state {98} the testing accuracy test is 0.5363614399613433\n",
      "\n",
      "\n",
      "At random_state {99} the training accuracy test is 0.5795482000483209\n",
      "At random_state {99} the testing accuracy test is 0.529354916646533\n",
      "\n",
      "\n"
     ]
    }
   ],
   "source": [
    "for i in range(0,100):\n",
    "    x_train,x_test,y_train,y_test=train_test_split(x1,y,test_size=0.20,random_state=i)\n",
    "    xgb.fit(x_train,y_train)\n",
    "    predxgb=xgb.predict(x_train)\n",
    "    predxgb1=xgb.predict(x_test)\n",
    "    print('At random_state' ,{i}, 'the training accuracy test is', accuracy_score(y_train,predxgb))\n",
    "    print('At random_state' ,{i}, 'the testing accuracy test is', accuracy_score(y_test,predxgb1))\n",
    "    print('\\n')"
   ]
  },
  {
   "cell_type": "markdown",
   "id": "154f8b34",
   "metadata": {},
   "source": [
    "## AT RANDOM STATE 28 WE HAVE THE HIGHEST ACCURACY 53.87%"
   ]
  },
  {
   "cell_type": "code",
   "execution_count": 89,
   "id": "7fe60e7e",
   "metadata": {},
   "outputs": [],
   "source": [
    "x_train,x_test,y_train,y_test=train_test_split(x1,y,test_size=0.20,random_state=28)"
   ]
  },
  {
   "cell_type": "code",
   "execution_count": 90,
   "id": "4a66f237",
   "metadata": {},
   "outputs": [
    {
     "data": {
      "text/html": [
       "<style>#sk-container-id-6 {color: black;background-color: white;}#sk-container-id-6 pre{padding: 0;}#sk-container-id-6 div.sk-toggleable {background-color: white;}#sk-container-id-6 label.sk-toggleable__label {cursor: pointer;display: block;width: 100%;margin-bottom: 0;padding: 0.3em;box-sizing: border-box;text-align: center;}#sk-container-id-6 label.sk-toggleable__label-arrow:before {content: \"▸\";float: left;margin-right: 0.25em;color: #696969;}#sk-container-id-6 label.sk-toggleable__label-arrow:hover:before {color: black;}#sk-container-id-6 div.sk-estimator:hover label.sk-toggleable__label-arrow:before {color: black;}#sk-container-id-6 div.sk-toggleable__content {max-height: 0;max-width: 0;overflow: hidden;text-align: left;background-color: #f0f8ff;}#sk-container-id-6 div.sk-toggleable__content pre {margin: 0.2em;color: black;border-radius: 0.25em;background-color: #f0f8ff;}#sk-container-id-6 input.sk-toggleable__control:checked~div.sk-toggleable__content {max-height: 200px;max-width: 100%;overflow: auto;}#sk-container-id-6 input.sk-toggleable__control:checked~label.sk-toggleable__label-arrow:before {content: \"▾\";}#sk-container-id-6 div.sk-estimator input.sk-toggleable__control:checked~label.sk-toggleable__label {background-color: #d4ebff;}#sk-container-id-6 div.sk-label input.sk-toggleable__control:checked~label.sk-toggleable__label {background-color: #d4ebff;}#sk-container-id-6 input.sk-hidden--visually {border: 0;clip: rect(1px 1px 1px 1px);clip: rect(1px, 1px, 1px, 1px);height: 1px;margin: -1px;overflow: hidden;padding: 0;position: absolute;width: 1px;}#sk-container-id-6 div.sk-estimator {font-family: monospace;background-color: #f0f8ff;border: 1px dotted black;border-radius: 0.25em;box-sizing: border-box;margin-bottom: 0.5em;}#sk-container-id-6 div.sk-estimator:hover {background-color: #d4ebff;}#sk-container-id-6 div.sk-parallel-item::after {content: \"\";width: 100%;border-bottom: 1px solid gray;flex-grow: 1;}#sk-container-id-6 div.sk-label:hover label.sk-toggleable__label {background-color: #d4ebff;}#sk-container-id-6 div.sk-serial::before {content: \"\";position: absolute;border-left: 1px solid gray;box-sizing: border-box;top: 0;bottom: 0;left: 50%;z-index: 0;}#sk-container-id-6 div.sk-serial {display: flex;flex-direction: column;align-items: center;background-color: white;padding-right: 0.2em;padding-left: 0.2em;position: relative;}#sk-container-id-6 div.sk-item {position: relative;z-index: 1;}#sk-container-id-6 div.sk-parallel {display: flex;align-items: stretch;justify-content: center;background-color: white;position: relative;}#sk-container-id-6 div.sk-item::before, #sk-container-id-6 div.sk-parallel-item::before {content: \"\";position: absolute;border-left: 1px solid gray;box-sizing: border-box;top: 0;bottom: 0;left: 50%;z-index: -1;}#sk-container-id-6 div.sk-parallel-item {display: flex;flex-direction: column;z-index: 1;position: relative;background-color: white;}#sk-container-id-6 div.sk-parallel-item:first-child::after {align-self: flex-end;width: 50%;}#sk-container-id-6 div.sk-parallel-item:last-child::after {align-self: flex-start;width: 50%;}#sk-container-id-6 div.sk-parallel-item:only-child::after {width: 0;}#sk-container-id-6 div.sk-dashed-wrapped {border: 1px dashed gray;margin: 0 0.4em 0.5em 0.4em;box-sizing: border-box;padding-bottom: 0.4em;background-color: white;}#sk-container-id-6 div.sk-label label {font-family: monospace;font-weight: bold;display: inline-block;line-height: 1.2em;}#sk-container-id-6 div.sk-label-container {text-align: center;}#sk-container-id-6 div.sk-container {/* jupyter's `normalize.less` sets `[hidden] { display: none; }` but bootstrap.min.css set `[hidden] { display: none !important; }` so we also need the `!important` here to be able to override the default hidden behavior on the sphinx rendered scikit-learn.org. See: https://github.com/scikit-learn/scikit-learn/issues/21755 */display: inline-block !important;position: relative;}#sk-container-id-6 div.sk-text-repr-fallback {display: none;}</style><div id=\"sk-container-id-6\" class=\"sk-top-container\"><div class=\"sk-text-repr-fallback\"><pre>GradientBoostingClassifier()</pre><b>In a Jupyter environment, please rerun this cell to show the HTML representation or trust the notebook. <br />On GitHub, the HTML representation is unable to render, please try loading this page with nbviewer.org.</b></div><div class=\"sk-container\" hidden><div class=\"sk-item\"><div class=\"sk-estimator sk-toggleable\"><input class=\"sk-toggleable__control sk-hidden--visually\" id=\"sk-estimator-id-6\" type=\"checkbox\" checked><label for=\"sk-estimator-id-6\" class=\"sk-toggleable__label sk-toggleable__label-arrow\">GradientBoostingClassifier</label><div class=\"sk-toggleable__content\"><pre>GradientBoostingClassifier()</pre></div></div></div></div></div>"
      ],
      "text/plain": [
       "GradientBoostingClassifier()"
      ]
     },
     "execution_count": 90,
     "metadata": {},
     "output_type": "execute_result"
    }
   ],
   "source": [
    "xgb.fit(x_train,y_train)"
   ]
  },
  {
   "cell_type": "code",
   "execution_count": 91,
   "id": "8f77ef1b",
   "metadata": {},
   "outputs": [],
   "source": [
    "PREXGB=xgb.predict(x_test)"
   ]
  },
  {
   "cell_type": "code",
   "execution_count": 92,
   "id": "5ba589e0",
   "metadata": {},
   "outputs": [
    {
     "name": "stdout",
     "output_type": "stream",
     "text": [
      "0.5385358782314569\n"
     ]
    }
   ],
   "source": [
    "print(accuracy_score(y_test,PREXGB))"
   ]
  },
  {
   "cell_type": "code",
   "execution_count": 93,
   "id": "1d50b8f5",
   "metadata": {},
   "outputs": [
    {
     "name": "stdout",
     "output_type": "stream",
     "text": [
      "[[567 180  61  30  26]\n",
      " [193 404 185  56  12]\n",
      " [117 223 266 150  39]\n",
      " [ 49  91  91 348 207]\n",
      " [ 14  46  24 116 644]]\n"
     ]
    }
   ],
   "source": [
    "print(confusion_matrix(y_test,PREXGB))"
   ]
  },
  {
   "cell_type": "code",
   "execution_count": 94,
   "id": "627ae78c",
   "metadata": {},
   "outputs": [
    {
     "name": "stdout",
     "output_type": "stream",
     "text": [
      "              precision    recall  f1-score   support\n",
      "\n",
      "           1       0.60      0.66      0.63       864\n",
      "           2       0.43      0.48      0.45       850\n",
      "           3       0.42      0.33      0.37       795\n",
      "           4       0.50      0.44      0.47       786\n",
      "           5       0.69      0.76      0.73       844\n",
      "\n",
      "    accuracy                           0.54      4139\n",
      "   macro avg       0.53      0.53      0.53      4139\n",
      "weighted avg       0.53      0.54      0.53      4139\n",
      "\n"
     ]
    }
   ],
   "source": [
    "print(classification_report(y_test,PREXGB))"
   ]
  },
  {
   "cell_type": "markdown",
   "id": "317613fe",
   "metadata": {},
   "source": [
    "## AUC ROC CURVE"
   ]
  },
  {
   "cell_type": "code",
   "execution_count": 95,
   "id": "2eeaff43",
   "metadata": {},
   "outputs": [],
   "source": [
    "y_prob_pred6=xgb.predict_proba(x_test)"
   ]
  },
  {
   "cell_type": "code",
   "execution_count": 96,
   "id": "e8e04c2d",
   "metadata": {},
   "outputs": [
    {
     "data": {
      "text/plain": [
       "Text(0, 0.5, 'True Positive rate')"
      ]
     },
     "execution_count": 96,
     "metadata": {},
     "output_type": "execute_result"
    },
    {
     "data": {
      "image/png": "[encoded data removed]",
      "text/plain": [
       "<Figure size 432x288 with 1 Axes>"
      ]
     },
     "metadata": {
      "needs_background": "light"
     },
     "output_type": "display_data"
    }
   ],
   "source": [
    "fpr={}\n",
    "tpr={}\n",
    "thresh={}\n",
    "\n",
    "n_class = 5\n",
    "for i in range(n_class):    \n",
    "    fpr[i],tpr[i],thresh[i]=roc_curve(y_test, y_prob_pred6[:,i], pos_label=i)\n",
    "    \n",
    "plt.plot(fpr[0],tpr[0],label='Class 0 vs Rest')\n",
    "plt.plot(fpr[1],tpr[1],label='Class 1 vs Rest')\n",
    "plt.plot(fpr[2],tpr[2],label='Class 2 vs Rest')\n",
    "plt.plot(fpr[3],tpr[3],label='Class 3 vs Rest')\n",
    "plt.plot(fpr[4],tpr[4],label='Class 4 vs Rest')\n",
    "plt.title('Multiclass ROC curve')\n",
    "plt.xlabel('False Positive Rate')\n",
    "plt.ylabel('True Positive rate')    "
   ]
  },
  {
   "cell_type": "markdown",
   "id": "4142c595",
   "metadata": {},
   "source": [
    "## MULTINOMIAL NB"
   ]
  },
  {
   "cell_type": "code",
   "execution_count": 75,
   "id": "f8ff235e",
   "metadata": {},
   "outputs": [],
   "source": [
    "mb=MultinomialNB()"
   ]
  },
  {
   "cell_type": "code",
   "execution_count": 76,
   "id": "0ac69354",
   "metadata": {},
   "outputs": [
    {
     "name": "stdout",
     "output_type": "stream",
     "text": [
      "At random_state {0} the training accuracy test is 0.6505194491423049\n",
      "At random_state {0} the testing accuracy test is 0.5305629379077071\n",
      "\n",
      "\n",
      "At random_state {1} the training accuracy test is 0.649673834259483\n",
      "At random_state {1} the testing accuracy test is 0.5291133123942982\n",
      "\n",
      "\n",
      "At random_state {2} the training accuracy test is 0.6463517757912539\n",
      "At random_state {2} the testing accuracy test is 0.5416767335105098\n",
      "\n",
      "\n",
      "At random_state {3} the training accuracy test is 0.6418820971249094\n",
      "At random_state {3} the testing accuracy test is 0.5484416525730853\n",
      "\n",
      "\n",
      "At random_state {4} the training accuracy test is 0.6473181928001933\n",
      "At random_state {4} the testing accuracy test is 0.5358782314568736\n",
      "\n",
      "\n",
      "At random_state {5} the training accuracy test is 0.6497946363856004\n",
      "At random_state {5} the testing accuracy test is 0.5479584440686156\n",
      "\n",
      "\n",
      "At random_state {6} the training accuracy test is 0.6468953853587823\n",
      "At random_state {6} the testing accuracy test is 0.5407103165015704\n",
      "\n",
      "\n",
      "At random_state {7} the training accuracy test is 0.6487678183136023\n",
      "At random_state {7} the testing accuracy test is 0.5305629379077071\n",
      "\n",
      "\n",
      "At random_state {8} the training accuracy test is 0.6421237013771443\n",
      "At random_state {8} the testing accuracy test is 0.541435129258275\n",
      "\n",
      "\n",
      "At random_state {9} the training accuracy test is 0.6464121768543126\n",
      "At random_state {9} the testing accuracy test is 0.5341870016912298\n",
      "\n",
      "\n",
      "At random_state {10} the training accuracy test is 0.6482242087460739\n",
      "At random_state {10} the testing accuracy test is 0.5339453974389949\n",
      "\n",
      "\n",
      "At random_state {11} the training accuracy test is 0.64653297898043\n",
      "At random_state {11} the testing accuracy test is 0.5424015462672143\n",
      "\n",
      "\n",
      "At random_state {12} the training accuracy test is 0.6467141821696062\n",
      "At random_state {12} the testing accuracy test is 0.5465088185552066\n",
      "\n",
      "\n",
      "At random_state {13} the training accuracy test is 0.6470161874848998\n",
      "At random_state {13} the testing accuracy test is 0.5421599420149794\n",
      "\n",
      "\n",
      "At random_state {14} the training accuracy test is 0.6465933800434888\n",
      "At random_state {14} the testing accuracy test is 0.5351534187001691\n",
      "\n",
      "\n",
      "At random_state {15} the training accuracy test is 0.6483450108721913\n",
      "At random_state {15} the testing accuracy test is 0.5356366272046388\n",
      "\n",
      "\n",
      "At random_state {16} the training accuracy test is 0.6455665619714906\n",
      "At random_state {16} the testing accuracy test is 0.5457840057985021\n",
      "\n",
      "\n",
      "At random_state {17} the training accuracy test is 0.6435129258274945\n",
      "At random_state {17} the testing accuracy test is 0.5530321333655472\n",
      "\n",
      "\n",
      "At random_state {18} the training accuracy test is 0.6440565353950229\n",
      "At random_state {18} the testing accuracy test is 0.5407103165015704\n",
      "\n",
      "\n",
      "At random_state {19} the training accuracy test is 0.6457477651606668\n",
      "At random_state {19} the testing accuracy test is 0.5443343802850931\n",
      "\n",
      "\n",
      "At random_state {20} the training accuracy test is 0.6450833534670211\n",
      "At random_state {20} the testing accuracy test is 0.5431263590239188\n",
      "\n",
      "\n",
      "At random_state {21} the training accuracy test is 0.6480430055568978\n",
      "At random_state {21} the testing accuracy test is 0.5496496738342594\n",
      "\n",
      "\n",
      "At random_state {22} the training accuracy test is 0.6451437545300798\n",
      "At random_state {22} the testing accuracy test is 0.5554481758878956\n",
      "\n",
      "\n",
      "At random_state {23} the training accuracy test is 0.6468953853587823\n",
      "At random_state {23} the testing accuracy test is 0.5419183377627447\n",
      "\n",
      "\n",
      "At random_state {24} the training accuracy test is 0.6451437545300798\n",
      "At random_state {24} the testing accuracy test is 0.5602802609325924\n",
      "\n",
      "\n",
      "At random_state {25} the training accuracy test is 0.6482242087460739\n",
      "At random_state {25} the testing accuracy test is 0.530804542159942\n",
      "\n",
      "\n",
      "At random_state {26} the training accuracy test is 0.6457477651606668\n",
      "At random_state {26} the testing accuracy test is 0.5462672143029718\n",
      "\n",
      "\n",
      "At random_state {27} the training accuracy test is 0.6447209470886688\n",
      "At random_state {27} the testing accuracy test is 0.5404687122493356\n",
      "\n",
      "\n",
      "At random_state {28} the training accuracy test is 0.6439961343319642\n",
      "At random_state {28} the testing accuracy test is 0.5527905291133124\n",
      "\n",
      "\n",
      "At random_state {29} the training accuracy test is 0.6437545300797294\n",
      "At random_state {29} the testing accuracy test is 0.5334621889345252\n",
      "\n",
      "\n",
      "At random_state {30} the training accuracy test is 0.6432713215752597\n",
      "At random_state {30} the testing accuracy test is 0.551824112104373\n",
      "\n",
      "\n",
      "At random_state {31} the training accuracy test is 0.6446001449625514\n",
      "At random_state {31} the testing accuracy test is 0.539743899492631\n",
      "\n",
      "\n",
      "At random_state {32} the training accuracy test is 0.6482846098091326\n",
      "At random_state {32} the testing accuracy test is 0.5378110654747523\n",
      "\n",
      "\n",
      "At random_state {33} the training accuracy test is 0.6470161874848998\n",
      "At random_state {33} the testing accuracy test is 0.5436095675283885\n",
      "\n",
      "\n",
      "At random_state {34} the training accuracy test is 0.6462309736651365\n",
      "At random_state {34} the testing accuracy test is 0.5375694612225175\n",
      "\n",
      "\n",
      "At random_state {35} the training accuracy test is 0.6502174438270114\n",
      "At random_state {35} the testing accuracy test is 0.5250060401063059\n",
      "\n",
      "\n",
      "At random_state {36} the training accuracy test is 0.6444189417733752\n",
      "At random_state {36} the testing accuracy test is 0.5337037931867601\n",
      "\n",
      "\n",
      "At random_state {37} the training accuracy test is 0.6450833534670211\n",
      "At random_state {37} the testing accuracy test is 0.5438511717806234\n",
      "\n",
      "\n",
      "At random_state {38} the training accuracy test is 0.6454457598453732\n",
      "At random_state {38} the testing accuracy test is 0.541435129258275\n",
      "\n",
      "\n",
      "At random_state {39} the training accuracy test is 0.6449625513409036\n",
      "At random_state {39} the testing accuracy test is 0.5486832568253202\n",
      "\n",
      "\n",
      "At random_state {40} the training accuracy test is 0.6447209470886688\n",
      "At random_state {40} the testing accuracy test is 0.5508576950954337\n",
      "\n",
      "\n",
      "At random_state {41} the training accuracy test is 0.6484658129983087\n",
      "At random_state {41} the testing accuracy test is 0.529354916646533\n",
      "\n",
      "\n",
      "At random_state {42} the training accuracy test is 0.6476201981154869\n",
      "At random_state {42} the testing accuracy test is 0.5385358782314569\n",
      "\n",
      "\n",
      "At random_state {43} the training accuracy test is 0.6475597970524282\n",
      "At random_state {43} the testing accuracy test is 0.5349118144479342\n",
      "\n",
      "\n",
      "At random_state {44} the training accuracy test is 0.647801401304663\n",
      "At random_state {44} the testing accuracy test is 0.5295965208987679\n",
      "\n",
      "\n",
      "At random_state {45} the training accuracy test is 0.648828219376661\n",
      "At random_state {45} the testing accuracy test is 0.5346702101956995\n",
      "\n",
      "\n",
      "At random_state {46} the training accuracy test is 0.6472577917371346\n",
      "At random_state {46} the testing accuracy test is 0.5320125634211162\n",
      "\n",
      "\n",
      "At random_state {47} the training accuracy test is 0.6481638076830152\n",
      "At random_state {47} the testing accuracy test is 0.5375694612225175\n",
      "\n",
      "\n",
      "At random_state {48} the training accuracy test is 0.6458685672867842\n",
      "At random_state {48} the testing accuracy test is 0.5312877506644117\n",
      "\n",
      "\n",
      "At random_state {49} the training accuracy test is 0.6459893694129016\n",
      "At random_state {49} the testing accuracy test is 0.529354916646533\n",
      "\n",
      "\n",
      "At random_state {50} the training accuracy test is 0.6448417492147862\n",
      "At random_state {50} the testing accuracy test is 0.5346702101956995\n",
      "\n",
      "\n",
      "At random_state {51} the training accuracy test is 0.6485262140613675\n",
      "At random_state {51} the testing accuracy test is 0.5370862527180479\n",
      "\n",
      "\n",
      "At random_state {52} the training accuracy test is 0.6454457598453732\n",
      "At random_state {52} the testing accuracy test is 0.5440927760328582\n",
      "\n",
      "\n",
      "At random_state {53} the training accuracy test is 0.6464121768543126\n",
      "At random_state {53} the testing accuracy test is 0.536844648465813\n",
      "\n",
      "\n",
      "At random_state {54} the training accuracy test is 0.6482846098091326\n",
      "At random_state {54} the testing accuracy test is 0.5407103165015704\n",
      "\n",
      "\n",
      "At random_state {55} the training accuracy test is 0.6460497704759603\n",
      "At random_state {55} the testing accuracy test is 0.5341870016912298\n",
      "\n",
      "\n",
      "At random_state {56} the training accuracy test is 0.6477410002416043\n",
      "At random_state {56} the testing accuracy test is 0.539743899492631\n",
      "\n",
      "\n",
      "At random_state {57} the training accuracy test is 0.647378593863252\n",
      "At random_state {57} the testing accuracy test is 0.5407103165015704\n",
      "\n",
      "\n",
      "At random_state {58} the training accuracy test is 0.649673834259483\n",
      "At random_state {58} the testing accuracy test is 0.538294273979222\n",
      "\n",
      "\n",
      "At random_state {59} the training accuracy test is 0.6491906257550133\n",
      "At random_state {59} the testing accuracy test is 0.5402271079971007\n",
      "\n",
      "\n",
      "At random_state {60} the training accuracy test is 0.6425465088185552\n",
      "At random_state {60} the testing accuracy test is 0.5448175887895627\n",
      "\n",
      "\n",
      "At random_state {61} the training accuracy test is 0.6497342353225417\n",
      "At random_state {61} the testing accuracy test is 0.536844648465813\n",
      "\n",
      "\n",
      "At random_state {62} the training accuracy test is 0.6460497704759603\n",
      "At random_state {62} the testing accuracy test is 0.5407103165015704\n",
      "\n",
      "\n",
      "At random_state {63} the training accuracy test is 0.6487678183136023\n",
      "At random_state {63} the testing accuracy test is 0.547233631311911\n",
      "\n",
      "\n",
      "At random_state {64} the training accuracy test is 0.6455061609084319\n",
      "At random_state {64} the testing accuracy test is 0.5402271079971007\n",
      "\n",
      "\n",
      "At random_state {65} the training accuracy test is 0.6452041555931385\n",
      "At random_state {65} the testing accuracy test is 0.5542401546267214\n",
      "\n",
      "\n",
      "At random_state {66} the training accuracy test is 0.6459289683498429\n",
      "At random_state {66} the testing accuracy test is 0.5486832568253202\n",
      "\n",
      "\n",
      "At random_state {67} the training accuracy test is 0.6456269630345494\n",
      "At random_state {67} the testing accuracy test is 0.5484416525730853\n",
      "\n",
      "\n",
      "At random_state {68} the training accuracy test is 0.6514858661512443\n",
      "At random_state {68} the testing accuracy test is 0.5300797294032374\n",
      "\n",
      "\n",
      "At random_state {69} the training accuracy test is 0.6462309736651365\n",
      "At random_state {69} the testing accuracy test is 0.5407103165015704\n",
      "\n",
      "\n",
      "At random_state {70} the training accuracy test is 0.6479222034307803\n",
      "At random_state {70} the testing accuracy test is 0.5411935250060401\n",
      "\n",
      "\n",
      "At random_state {71} the training accuracy test is 0.6502174438270114\n",
      "At random_state {71} the testing accuracy test is 0.5262140613674801\n",
      "\n",
      "\n",
      "At random_state {72} the training accuracy test is 0.6472577917371346\n",
      "At random_state {72} the testing accuracy test is 0.536844648465813\n",
      "\n",
      "\n",
      "At random_state {73} the training accuracy test is 0.6450833534670211\n",
      "At random_state {73} the testing accuracy test is 0.5298381251510027\n",
      "\n",
      "\n",
      "At random_state {74} the training accuracy test is 0.6476805991785456\n",
      "At random_state {74} the testing accuracy test is 0.5291133123942982\n",
      "\n",
      "\n",
      "At random_state {75} the training accuracy test is 0.6421237013771443\n",
      "At random_state {75} the testing accuracy test is 0.548924861077555\n",
      "\n",
      "\n",
      "At random_state {76} the training accuracy test is 0.6433921237013771\n",
      "At random_state {76} the testing accuracy test is 0.5525489248610775\n",
      "\n",
      "\n",
      "At random_state {77} the training accuracy test is 0.6478618023677216\n",
      "At random_state {77} the testing accuracy test is 0.5281468953853588\n",
      "\n",
      "\n",
      "At random_state {78} the training accuracy test is 0.6468953853587823\n",
      "At random_state {78} the testing accuracy test is 0.5453007972940324\n",
      "\n",
      "\n",
      "At random_state {79} the training accuracy test is 0.6447209470886688\n",
      "At random_state {79} the testing accuracy test is 0.5411935250060401\n",
      "\n",
      "\n",
      "At random_state {80} the training accuracy test is 0.6491302246919546\n",
      "At random_state {80} the testing accuracy test is 0.5339453974389949\n",
      "\n",
      "\n",
      "At random_state {81} the training accuracy test is 0.6458081662237255\n",
      "At random_state {81} the testing accuracy test is 0.5515825078521382\n",
      "\n",
      "\n",
      "At random_state {82} the training accuracy test is 0.6490698236288959\n",
      "At random_state {82} the testing accuracy test is 0.5402271079971007\n",
      "\n",
      "\n",
      "At random_state {83} the training accuracy test is 0.6457477651606668\n",
      "At random_state {83} the testing accuracy test is 0.5392606909881614\n",
      "\n",
      "\n",
      "At random_state {84} the training accuracy test is 0.6453249577192559\n",
      "At random_state {84} the testing accuracy test is 0.547233631311911\n",
      "\n",
      "\n",
      "At random_state {85} the training accuracy test is 0.6446001449625514\n",
      "At random_state {85} the testing accuracy test is 0.5305629379077071\n",
      "\n",
      "\n",
      "At random_state {86} the training accuracy test is 0.6458685672867842\n",
      "At random_state {86} the testing accuracy test is 0.5390190867359266\n",
      "\n",
      "\n",
      "At random_state {87} the training accuracy test is 0.6474993959893695\n",
      "At random_state {87} the testing accuracy test is 0.5431263590239188\n",
      "\n",
      "\n",
      "At random_state {88} the training accuracy test is 0.6491906257550133\n",
      "At random_state {88} the testing accuracy test is 0.547233631311911\n",
      "\n",
      "\n",
      "At random_state {89} the training accuracy test is 0.6468349842957236\n",
      "At random_state {89} the testing accuracy test is 0.5329789804300555\n",
      "\n",
      "\n",
      "At random_state {90} the training accuracy test is 0.6489490215027784\n",
      "At random_state {90} the testing accuracy test is 0.5271804783764195\n",
      "\n",
      "\n",
      "At random_state {91} the training accuracy test is 0.6467745832326649\n",
      "At random_state {91} the testing accuracy test is 0.5349118144479342\n",
      "\n",
      "\n",
      "At random_state {92} the training accuracy test is 0.6449021502778449\n",
      "At random_state {92} the testing accuracy test is 0.5421599420149794\n",
      "\n",
      "\n",
      "At random_state {93} the training accuracy test is 0.6482846098091326\n",
      "At random_state {93} the testing accuracy test is 0.529354916646533\n",
      "\n",
      "\n",
      "At random_state {94} the training accuracy test is 0.6433921237013771\n",
      "At random_state {94} the testing accuracy test is 0.5501328823387291\n",
      "\n",
      "\n",
      "At random_state {95} the training accuracy test is 0.6466537811065475\n",
      "At random_state {95} the testing accuracy test is 0.5419183377627447\n",
      "\n",
      "\n",
      "At random_state {96} the training accuracy test is 0.6480430055568978\n",
      "At random_state {96} the testing accuracy test is 0.5392606909881614\n",
      "\n",
      "\n",
      "At random_state {97} the training accuracy test is 0.6472577917371346\n",
      "At random_state {97} the testing accuracy test is 0.5433679632761537\n",
      "\n",
      "\n",
      "At random_state {98} the training accuracy test is 0.6444189417733752\n",
      "At random_state {98} the testing accuracy test is 0.5465088185552066\n",
      "\n",
      "\n",
      "At random_state {99} the training accuracy test is 0.6426673109446727\n",
      "At random_state {99} the testing accuracy test is 0.5455424015462672\n",
      "\n",
      "\n"
     ]
    }
   ],
   "source": [
    "for i in range(0,100):\n",
    "    x_train,x_test,y_train,y_test=train_test_split(x1,y,test_size=0.20,random_state=i)\n",
    "    mb.fit(x_train,y_train)\n",
    "    predmb=mb.predict(x_train)\n",
    "    predmb1=mb.predict(x_test)\n",
    "    print('At random_state' ,{i}, 'the training accuracy test is', accuracy_score(y_train,predmb))\n",
    "    print('At random_state' ,{i}, 'the testing accuracy test is', accuracy_score(y_test,predmb1))\n",
    "    print('\\n')"
   ]
  },
  {
   "cell_type": "markdown",
   "id": "a9099220",
   "metadata": {},
   "source": [
    "## AT RANDOM STATE 24, WE HAVE THE HIGHEST ACCURACY OF 56.02%"
   ]
  },
  {
   "cell_type": "code",
   "execution_count": 81,
   "id": "01198956",
   "metadata": {},
   "outputs": [],
   "source": [
    "x_train,x_test,y_train,y_test=train_test_split(x1,y,test_size=0.20,random_state=24)"
   ]
  },
  {
   "cell_type": "code",
   "execution_count": 82,
   "id": "0426bd41",
   "metadata": {},
   "outputs": [
    {
     "data": {
      "text/html": [
       "<style>#sk-container-id-5 {color: black;background-color: white;}#sk-container-id-5 pre{padding: 0;}#sk-container-id-5 div.sk-toggleable {background-color: white;}#sk-container-id-5 label.sk-toggleable__label {cursor: pointer;display: block;width: 100%;margin-bottom: 0;padding: 0.3em;box-sizing: border-box;text-align: center;}#sk-container-id-5 label.sk-toggleable__label-arrow:before {content: \"▸\";float: left;margin-right: 0.25em;color: #696969;}#sk-container-id-5 label.sk-toggleable__label-arrow:hover:before {color: black;}#sk-container-id-5 div.sk-estimator:hover label.sk-toggleable__label-arrow:before {color: black;}#sk-container-id-5 div.sk-toggleable__content {max-height: 0;max-width: 0;overflow: hidden;text-align: left;background-color: #f0f8ff;}#sk-container-id-5 div.sk-toggleable__content pre {margin: 0.2em;color: black;border-radius: 0.25em;background-color: #f0f8ff;}#sk-container-id-5 input.sk-toggleable__control:checked~div.sk-toggleable__content {max-height: 200px;max-width: 100%;overflow: auto;}#sk-container-id-5 input.sk-toggleable__control:checked~label.sk-toggleable__label-arrow:before {content: \"▾\";}#sk-container-id-5 div.sk-estimator input.sk-toggleable__control:checked~label.sk-toggleable__label {background-color: #d4ebff;}#sk-container-id-5 div.sk-label input.sk-toggleable__control:checked~label.sk-toggleable__label {background-color: #d4ebff;}#sk-container-id-5 input.sk-hidden--visually {border: 0;clip: rect(1px 1px 1px 1px);clip: rect(1px, 1px, 1px, 1px);height: 1px;margin: -1px;overflow: hidden;padding: 0;position: absolute;width: 1px;}#sk-container-id-5 div.sk-estimator {font-family: monospace;background-color: #f0f8ff;border: 1px dotted black;border-radius: 0.25em;box-sizing: border-box;margin-bottom: 0.5em;}#sk-container-id-5 div.sk-estimator:hover {background-color: #d4ebff;}#sk-container-id-5 div.sk-parallel-item::after {content: \"\";width: 100%;border-bottom: 1px solid gray;flex-grow: 1;}#sk-container-id-5 div.sk-label:hover label.sk-toggleable__label {background-color: #d4ebff;}#sk-container-id-5 div.sk-serial::before {content: \"\";position: absolute;border-left: 1px solid gray;box-sizing: border-box;top: 0;bottom: 0;left: 50%;z-index: 0;}#sk-container-id-5 div.sk-serial {display: flex;flex-direction: column;align-items: center;background-color: white;padding-right: 0.2em;padding-left: 0.2em;position: relative;}#sk-container-id-5 div.sk-item {position: relative;z-index: 1;}#sk-container-id-5 div.sk-parallel {display: flex;align-items: stretch;justify-content: center;background-color: white;position: relative;}#sk-container-id-5 div.sk-item::before, #sk-container-id-5 div.sk-parallel-item::before {content: \"\";position: absolute;border-left: 1px solid gray;box-sizing: border-box;top: 0;bottom: 0;left: 50%;z-index: -1;}#sk-container-id-5 div.sk-parallel-item {display: flex;flex-direction: column;z-index: 1;position: relative;background-color: white;}#sk-container-id-5 div.sk-parallel-item:first-child::after {align-self: flex-end;width: 50%;}#sk-container-id-5 div.sk-parallel-item:last-child::after {align-self: flex-start;width: 50%;}#sk-container-id-5 div.sk-parallel-item:only-child::after {width: 0;}#sk-container-id-5 div.sk-dashed-wrapped {border: 1px dashed gray;margin: 0 0.4em 0.5em 0.4em;box-sizing: border-box;padding-bottom: 0.4em;background-color: white;}#sk-container-id-5 div.sk-label label {font-family: monospace;font-weight: bold;display: inline-block;line-height: 1.2em;}#sk-container-id-5 div.sk-label-container {text-align: center;}#sk-container-id-5 div.sk-container {/* jupyter's `normalize.less` sets `[hidden] { display: none; }` but bootstrap.min.css set `[hidden] { display: none !important; }` so we also need the `!important` here to be able to override the default hidden behavior on the sphinx rendered scikit-learn.org. See: https://github.com/scikit-learn/scikit-learn/issues/21755 */display: inline-block !important;position: relative;}#sk-container-id-5 div.sk-text-repr-fallback {display: none;}</style><div id=\"sk-container-id-5\" class=\"sk-top-container\"><div class=\"sk-text-repr-fallback\"><pre>MultinomialNB()</pre><b>In a Jupyter environment, please rerun this cell to show the HTML representation or trust the notebook. <br />On GitHub, the HTML representation is unable to render, please try loading this page with nbviewer.org.</b></div><div class=\"sk-container\" hidden><div class=\"sk-item\"><div class=\"sk-estimator sk-toggleable\"><input class=\"sk-toggleable__control sk-hidden--visually\" id=\"sk-estimator-id-5\" type=\"checkbox\" checked><label for=\"sk-estimator-id-5\" class=\"sk-toggleable__label sk-toggleable__label-arrow\">MultinomialNB</label><div class=\"sk-toggleable__content\"><pre>MultinomialNB()</pre></div></div></div></div></div>"
      ],
      "text/plain": [
       "MultinomialNB()"
      ]
     },
     "execution_count": 82,
     "metadata": {},
     "output_type": "execute_result"
    }
   ],
   "source": [
    "mb.fit(x_train,y_train)"
   ]
  },
  {
   "cell_type": "code",
   "execution_count": 83,
   "id": "5aa35653",
   "metadata": {},
   "outputs": [],
   "source": [
    "PREMB=mb.predict(x_test)"
   ]
  },
  {
   "cell_type": "code",
   "execution_count": 84,
   "id": "34b59f5d",
   "metadata": {},
   "outputs": [
    {
     "name": "stdout",
     "output_type": "stream",
     "text": [
      "0.5602802609325924\n"
     ]
    }
   ],
   "source": [
    "print(accuracy_score(y_test,PREMB))"
   ]
  },
  {
   "cell_type": "code",
   "execution_count": 85,
   "id": "17dad6fe",
   "metadata": {},
   "outputs": [
    {
     "name": "stdout",
     "output_type": "stream",
     "text": [
      "[[556  76  85  26  45]\n",
      " [224 279 220  58  48]\n",
      " [148 132 328 114  92]\n",
      " [ 85  21 113 339 276]\n",
      " [  5   2   9  41 817]]\n"
     ]
    }
   ],
   "source": [
    "print(confusion_matrix(y_test,PREMB))"
   ]
  },
  {
   "cell_type": "code",
   "execution_count": 86,
   "id": "2c20fa17",
   "metadata": {},
   "outputs": [
    {
     "name": "stdout",
     "output_type": "stream",
     "text": [
      "              precision    recall  f1-score   support\n",
      "\n",
      "           1       0.55      0.71      0.62       788\n",
      "           2       0.55      0.34      0.42       829\n",
      "           3       0.43      0.40      0.42       814\n",
      "           4       0.59      0.41      0.48       834\n",
      "           5       0.64      0.93      0.76       874\n",
      "\n",
      "    accuracy                           0.56      4139\n",
      "   macro avg       0.55      0.56      0.54      4139\n",
      "weighted avg       0.55      0.56      0.54      4139\n",
      "\n"
     ]
    }
   ],
   "source": [
    "print(classification_report(y_test,PREMB))"
   ]
  },
  {
   "cell_type": "markdown",
   "id": "cfb8f57f",
   "metadata": {},
   "source": [
    "## AUC ROC CURVE"
   ]
  },
  {
   "cell_type": "code",
   "execution_count": 87,
   "id": "e561a6e2",
   "metadata": {},
   "outputs": [],
   "source": [
    "y_prob_pred1=mb.predict_proba(x_test)"
   ]
  },
  {
   "cell_type": "code",
   "execution_count": 88,
   "id": "ed3296e3",
   "metadata": {},
   "outputs": [
    {
     "data": {
      "text/plain": [
       "Text(0, 0.5, 'True Positive rate')"
      ]
     },
     "execution_count": 88,
     "metadata": {},
     "output_type": "execute_result"
    },
    {
     "data": {
      "image/png": "[encoded data removed]",
      "text/plain": [
       "<Figure size 432x288 with 1 Axes>"
      ]
     },
     "metadata": {
      "needs_background": "light"
     },
     "output_type": "display_data"
    }
   ],
   "source": [
    "fpr={}\n",
    "tpr={}\n",
    "thresh={}\n",
    "\n",
    "n_class = 5\n",
    "for i in range(n_class):    \n",
    "    fpr[i],tpr[i],thresh[i]=roc_curve(y_test, y_prob_pred1[:,i], pos_label=i)\n",
    "    \n",
    "plt.plot(fpr[0],tpr[0],label='Class 0 vs Rest')\n",
    "plt.plot(fpr[1],tpr[1],label='Class 1 vs Rest')\n",
    "plt.plot(fpr[2],tpr[2],label='Class 2 vs Rest')\n",
    "plt.plot(fpr[3],tpr[3],label='Class 3 vs Rest')\n",
    "plt.plot(fpr[4],tpr[4],label='Class 4 vs Rest')\n",
    "plt.title('Multiclass ROC curve')\n",
    "plt.xlabel('False Positive Rate')\n",
    "plt.ylabel('True Positive rate') "
   ]
  },
  {
   "cell_type": "markdown",
   "id": "59e77f3c",
   "metadata": {},
   "source": [
    "## CROSS VAL SCORE"
   ]
  },
  {
   "cell_type": "code",
   "execution_count": 97,
   "id": "5fb5271b",
   "metadata": {},
   "outputs": [
    {
     "name": "stdout",
     "output_type": "stream",
     "text": [
      "CV is 0.4021261174196666\n",
      "CV is 0.3459772892002899\n",
      "CV is 0.3430780381734718\n",
      "CV is 0.3931867600869775\n",
      "CV is 0.38439236530562937\n",
      "CV is 0.3732302488523799\n"
     ]
    }
   ],
   "source": [
    "for m in [svc,knn,dtc,rm,xgb,mb]:\n",
    "    cv=cross_val_score(m,x1,y,cv=5)\n",
    "    print('CV','is',(cv.mean()))"
   ]
  },
  {
   "cell_type": "markdown",
   "id": "15965d49",
   "metadata": {},
   "source": [
    "## THE DATA SET IS OVERFITTED"
   ]
  },
  {
   "cell_type": "raw",
   "id": "d702e135",
   "metadata": {},
   "source": [
    "SVC-56.65%\n",
    "KNN-42.15%\n",
    "DTC-44.02%\n",
    "RM-53.22%\n",
    "XGB-53.85%\n",
    "MB-56.02%"
   ]
  },
  {
   "cell_type": "code",
   "execution_count": 99,
   "id": "b531c610",
   "metadata": {},
   "outputs": [
    {
     "data": {
      "text/plain": [
       "16.439999999999998"
      ]
     },
     "execution_count": 99,
     "metadata": {},
     "output_type": "execute_result"
    }
   ],
   "source": [
    "56.65-40.21"
   ]
  },
  {
   "cell_type": "code",
   "execution_count": 100,
   "id": "3946e01c",
   "metadata": {},
   "outputs": [
    {
     "data": {
      "text/plain": [
       "7.559999999999995"
      ]
     },
     "execution_count": 100,
     "metadata": {},
     "output_type": "execute_result"
    }
   ],
   "source": [
    "42.15-34.59"
   ]
  },
  {
   "cell_type": "code",
   "execution_count": 101,
   "id": "16eb436a",
   "metadata": {},
   "outputs": [
    {
     "data": {
      "text/plain": [
       "9.720000000000006"
      ]
     },
     "execution_count": 101,
     "metadata": {},
     "output_type": "execute_result"
    }
   ],
   "source": [
    "44.02-34.30"
   ]
  },
  {
   "cell_type": "code",
   "execution_count": 102,
   "id": "a5bc8829",
   "metadata": {},
   "outputs": [
    {
     "data": {
      "text/plain": [
       "13.909999999999997"
      ]
     },
     "execution_count": 102,
     "metadata": {},
     "output_type": "execute_result"
    }
   ],
   "source": [
    "53.22-39.31"
   ]
  },
  {
   "cell_type": "code",
   "execution_count": 103,
   "id": "ef8439f7",
   "metadata": {},
   "outputs": [
    {
     "data": {
      "text/plain": [
       "15.420000000000002"
      ]
     },
     "execution_count": 103,
     "metadata": {},
     "output_type": "execute_result"
    }
   ],
   "source": [
    "53.85-38.43"
   ]
  },
  {
   "cell_type": "code",
   "execution_count": 104,
   "id": "fdc076e0",
   "metadata": {},
   "outputs": [
    {
     "data": {
      "text/plain": [
       "18.700000000000003"
      ]
     },
     "execution_count": 104,
     "metadata": {},
     "output_type": "execute_result"
    }
   ],
   "source": [
    "56.02-37.32"
   ]
  },
  {
   "cell_type": "markdown",
   "id": "a4f5d8e8",
   "metadata": {},
   "source": [
    "## WE WILL HYPER TUNE RANDOM FOREST CLASSIFIER"
   ]
  },
  {
   "cell_type": "code",
   "execution_count": 114,
   "id": "02b26444",
   "metadata": {},
   "outputs": [],
   "source": [
    "RM2=RandomForestClassifier()"
   ]
  },
  {
   "cell_type": "code",
   "execution_count": 115,
   "id": "a96d0138",
   "metadata": {},
   "outputs": [],
   "source": [
    "DD={'n_estimators':[50,100,150],'criterion':['gini','entropy','log_loss'],'min_samples_split':[2,3,4,],'min_samples_leaf':[1,2,3]}"
   ]
  },
  {
   "cell_type": "code",
   "execution_count": 116,
   "id": "93624164",
   "metadata": {},
   "outputs": [],
   "source": [
    "gd=GridSearchCV(RM2,DD,cv=5,scoring='accuracy')"
   ]
  },
  {
   "cell_type": "code",
   "execution_count": 117,
   "id": "1a1dfd6b",
   "metadata": {},
   "outputs": [
    {
     "data": {
      "text/html": [
       "<style>#sk-container-id-7 {color: black;background-color: white;}#sk-container-id-7 pre{padding: 0;}#sk-container-id-7 div.sk-toggleable {background-color: white;}#sk-container-id-7 label.sk-toggleable__label {cursor: pointer;display: block;width: 100%;margin-bottom: 0;padding: 0.3em;box-sizing: border-box;text-align: center;}#sk-container-id-7 label.sk-toggleable__label-arrow:before {content: \"▸\";float: left;margin-right: 0.25em;color: #696969;}#sk-container-id-7 label.sk-toggleable__label-arrow:hover:before {color: black;}#sk-container-id-7 div.sk-estimator:hover label.sk-toggleable__label-arrow:before {color: black;}#sk-container-id-7 div.sk-toggleable__content {max-height: 0;max-width: 0;overflow: hidden;text-align: left;background-color: #f0f8ff;}#sk-container-id-7 div.sk-toggleable__content pre {margin: 0.2em;color: black;border-radius: 0.25em;background-color: #f0f8ff;}#sk-container-id-7 input.sk-toggleable__control:checked~div.sk-toggleable__content {max-height: 200px;max-width: 100%;overflow: auto;}#sk-container-id-7 input.sk-toggleable__control:checked~label.sk-toggleable__label-arrow:before {content: \"▾\";}#sk-container-id-7 div.sk-estimator input.sk-toggleable__control:checked~label.sk-toggleable__label {background-color: #d4ebff;}#sk-container-id-7 div.sk-label input.sk-toggleable__control:checked~label.sk-toggleable__label {background-color: #d4ebff;}#sk-container-id-7 input.sk-hidden--visually {border: 0;clip: rect(1px 1px 1px 1px);clip: rect(1px, 1px, 1px, 1px);height: 1px;margin: -1px;overflow: hidden;padding: 0;position: absolute;width: 1px;}#sk-container-id-7 div.sk-estimator {font-family: monospace;background-color: #f0f8ff;border: 1px dotted black;border-radius: 0.25em;box-sizing: border-box;margin-bottom: 0.5em;}#sk-container-id-7 div.sk-estimator:hover {background-color: #d4ebff;}#sk-container-id-7 div.sk-parallel-item::after {content: \"\";width: 100%;border-bottom: 1px solid gray;flex-grow: 1;}#sk-container-id-7 div.sk-label:hover label.sk-toggleable__label {background-color: #d4ebff;}#sk-container-id-7 div.sk-serial::before {content: \"\";position: absolute;border-left: 1px solid gray;box-sizing: border-box;top: 0;bottom: 0;left: 50%;z-index: 0;}#sk-container-id-7 div.sk-serial {display: flex;flex-direction: column;align-items: center;background-color: white;padding-right: 0.2em;padding-left: 0.2em;position: relative;}#sk-container-id-7 div.sk-item {position: relative;z-index: 1;}#sk-container-id-7 div.sk-parallel {display: flex;align-items: stretch;justify-content: center;background-color: white;position: relative;}#sk-container-id-7 div.sk-item::before, #sk-container-id-7 div.sk-parallel-item::before {content: \"\";position: absolute;border-left: 1px solid gray;box-sizing: border-box;top: 0;bottom: 0;left: 50%;z-index: -1;}#sk-container-id-7 div.sk-parallel-item {display: flex;flex-direction: column;z-index: 1;position: relative;background-color: white;}#sk-container-id-7 div.sk-parallel-item:first-child::after {align-self: flex-end;width: 50%;}#sk-container-id-7 div.sk-parallel-item:last-child::after {align-self: flex-start;width: 50%;}#sk-container-id-7 div.sk-parallel-item:only-child::after {width: 0;}#sk-container-id-7 div.sk-dashed-wrapped {border: 1px dashed gray;margin: 0 0.4em 0.5em 0.4em;box-sizing: border-box;padding-bottom: 0.4em;background-color: white;}#sk-container-id-7 div.sk-label label {font-family: monospace;font-weight: bold;display: inline-block;line-height: 1.2em;}#sk-container-id-7 div.sk-label-container {text-align: center;}#sk-container-id-7 div.sk-container {/* jupyter's `normalize.less` sets `[hidden] { display: none; }` but bootstrap.min.css set `[hidden] { display: none !important; }` so we also need the `!important` here to be able to override the default hidden behavior on the sphinx rendered scikit-learn.org. See: https://github.com/scikit-learn/scikit-learn/issues/21755 */display: inline-block !important;position: relative;}#sk-container-id-7 div.sk-text-repr-fallback {display: none;}</style><div id=\"sk-container-id-7\" class=\"sk-top-container\"><div class=\"sk-text-repr-fallback\"><pre>GridSearchCV(cv=5, estimator=RandomForestClassifier(),\n",
       "             param_grid={&#x27;criterion&#x27;: [&#x27;gini&#x27;, &#x27;entropy&#x27;, &#x27;log_loss&#x27;],\n",
       "                         &#x27;min_samples_leaf&#x27;: [1, 2, 3],\n",
       "                         &#x27;min_samples_split&#x27;: [2, 3, 4],\n",
       "                         &#x27;n_estimators&#x27;: [50, 100, 150]},\n",
       "             scoring=&#x27;accuracy&#x27;)</pre><b>In a Jupyter environment, please rerun this cell to show the HTML representation or trust the notebook. <br />On GitHub, the HTML representation is unable to render, please try loading this page with nbviewer.org.</b></div><div class=\"sk-container\" hidden><div class=\"sk-item sk-dashed-wrapped\"><div class=\"sk-label-container\"><div class=\"sk-label sk-toggleable\"><input class=\"sk-toggleable__control sk-hidden--visually\" id=\"sk-estimator-id-7\" type=\"checkbox\" ><label for=\"sk-estimator-id-7\" class=\"sk-toggleable__label sk-toggleable__label-arrow\">GridSearchCV</label><div class=\"sk-toggleable__content\"><pre>GridSearchCV(cv=5, estimator=RandomForestClassifier(),\n",
       "             param_grid={&#x27;criterion&#x27;: [&#x27;gini&#x27;, &#x27;entropy&#x27;, &#x27;log_loss&#x27;],\n",
       "                         &#x27;min_samples_leaf&#x27;: [1, 2, 3],\n",
       "                         &#x27;min_samples_split&#x27;: [2, 3, 4],\n",
       "                         &#x27;n_estimators&#x27;: [50, 100, 150]},\n",
       "             scoring=&#x27;accuracy&#x27;)</pre></div></div></div><div class=\"sk-parallel\"><div class=\"sk-parallel-item\"><div class=\"sk-item\"><div class=\"sk-label-container\"><div class=\"sk-label sk-toggleable\"><input class=\"sk-toggleable__control sk-hidden--visually\" id=\"sk-estimator-id-8\" type=\"checkbox\" ><label for=\"sk-estimator-id-8\" class=\"sk-toggleable__label sk-toggleable__label-arrow\">estimator: RandomForestClassifier</label><div class=\"sk-toggleable__content\"><pre>RandomForestClassifier()</pre></div></div></div><div class=\"sk-serial\"><div class=\"sk-item\"><div class=\"sk-estimator sk-toggleable\"><input class=\"sk-toggleable__control sk-hidden--visually\" id=\"sk-estimator-id-9\" type=\"checkbox\" ><label for=\"sk-estimator-id-9\" class=\"sk-toggleable__label sk-toggleable__label-arrow\">RandomForestClassifier</label><div class=\"sk-toggleable__content\"><pre>RandomForestClassifier()</pre></div></div></div></div></div></div></div></div></div></div>"
      ],
      "text/plain": [
       "GridSearchCV(cv=5, estimator=RandomForestClassifier(),\n",
       "             param_grid={'criterion': ['gini', 'entropy', 'log_loss'],\n",
       "                         'min_samples_leaf': [1, 2, 3],\n",
       "                         'min_samples_split': [2, 3, 4],\n",
       "                         'n_estimators': [50, 100, 150]},\n",
       "             scoring='accuracy')"
      ]
     },
     "execution_count": 117,
     "metadata": {},
     "output_type": "execute_result"
    }
   ],
   "source": [
    "gd.fit(x_train,y_train)"
   ]
  },
  {
   "cell_type": "code",
   "execution_count": 118,
   "id": "bed7c6a4",
   "metadata": {},
   "outputs": [
    {
     "data": {
      "text/plain": [
       "{'criterion': 'gini',\n",
       " 'min_samples_leaf': 2,\n",
       " 'min_samples_split': 4,\n",
       " 'n_estimators': 150}"
      ]
     },
     "execution_count": 118,
     "metadata": {},
     "output_type": "execute_result"
    }
   ],
   "source": [
    "gd.best_params_"
   ]
  },
  {
   "cell_type": "code",
   "execution_count": 119,
   "id": "ae9ab028",
   "metadata": {},
   "outputs": [],
   "source": [
    "RM3=RandomForestClassifier(n_estimators=150,criterion='gini',min_samples_split=4,min_samples_leaf=2)"
   ]
  },
  {
   "cell_type": "code",
   "execution_count": 120,
   "id": "e0778218",
   "metadata": {},
   "outputs": [
    {
     "data": {
      "text/html": [
       "<style>#sk-container-id-8 {color: black;background-color: white;}#sk-container-id-8 pre{padding: 0;}#sk-container-id-8 div.sk-toggleable {background-color: white;}#sk-container-id-8 label.sk-toggleable__label {cursor: pointer;display: block;width: 100%;margin-bottom: 0;padding: 0.3em;box-sizing: border-box;text-align: center;}#sk-container-id-8 label.sk-toggleable__label-arrow:before {content: \"▸\";float: left;margin-right: 0.25em;color: #696969;}#sk-container-id-8 label.sk-toggleable__label-arrow:hover:before {color: black;}#sk-container-id-8 div.sk-estimator:hover label.sk-toggleable__label-arrow:before {color: black;}#sk-container-id-8 div.sk-toggleable__content {max-height: 0;max-width: 0;overflow: hidden;text-align: left;background-color: #f0f8ff;}#sk-container-id-8 div.sk-toggleable__content pre {margin: 0.2em;color: black;border-radius: 0.25em;background-color: #f0f8ff;}#sk-container-id-8 input.sk-toggleable__control:checked~div.sk-toggleable__content {max-height: 200px;max-width: 100%;overflow: auto;}#sk-container-id-8 input.sk-toggleable__control:checked~label.sk-toggleable__label-arrow:before {content: \"▾\";}#sk-container-id-8 div.sk-estimator input.sk-toggleable__control:checked~label.sk-toggleable__label {background-color: #d4ebff;}#sk-container-id-8 div.sk-label input.sk-toggleable__control:checked~label.sk-toggleable__label {background-color: #d4ebff;}#sk-container-id-8 input.sk-hidden--visually {border: 0;clip: rect(1px 1px 1px 1px);clip: rect(1px, 1px, 1px, 1px);height: 1px;margin: -1px;overflow: hidden;padding: 0;position: absolute;width: 1px;}#sk-container-id-8 div.sk-estimator {font-family: monospace;background-color: #f0f8ff;border: 1px dotted black;border-radius: 0.25em;box-sizing: border-box;margin-bottom: 0.5em;}#sk-container-id-8 div.sk-estimator:hover {background-color: #d4ebff;}#sk-container-id-8 div.sk-parallel-item::after {content: \"\";width: 100%;border-bottom: 1px solid gray;flex-grow: 1;}#sk-container-id-8 div.sk-label:hover label.sk-toggleable__label {background-color: #d4ebff;}#sk-container-id-8 div.sk-serial::before {content: \"\";position: absolute;border-left: 1px solid gray;box-sizing: border-box;top: 0;bottom: 0;left: 50%;z-index: 0;}#sk-container-id-8 div.sk-serial {display: flex;flex-direction: column;align-items: center;background-color: white;padding-right: 0.2em;padding-left: 0.2em;position: relative;}#sk-container-id-8 div.sk-item {position: relative;z-index: 1;}#sk-container-id-8 div.sk-parallel {display: flex;align-items: stretch;justify-content: center;background-color: white;position: relative;}#sk-container-id-8 div.sk-item::before, #sk-container-id-8 div.sk-parallel-item::before {content: \"\";position: absolute;border-left: 1px solid gray;box-sizing: border-box;top: 0;bottom: 0;left: 50%;z-index: -1;}#sk-container-id-8 div.sk-parallel-item {display: flex;flex-direction: column;z-index: 1;position: relative;background-color: white;}#sk-container-id-8 div.sk-parallel-item:first-child::after {align-self: flex-end;width: 50%;}#sk-container-id-8 div.sk-parallel-item:last-child::after {align-self: flex-start;width: 50%;}#sk-container-id-8 div.sk-parallel-item:only-child::after {width: 0;}#sk-container-id-8 div.sk-dashed-wrapped {border: 1px dashed gray;margin: 0 0.4em 0.5em 0.4em;box-sizing: border-box;padding-bottom: 0.4em;background-color: white;}#sk-container-id-8 div.sk-label label {font-family: monospace;font-weight: bold;display: inline-block;line-height: 1.2em;}#sk-container-id-8 div.sk-label-container {text-align: center;}#sk-container-id-8 div.sk-container {/* jupyter's `normalize.less` sets `[hidden] { display: none; }` but bootstrap.min.css set `[hidden] { display: none !important; }` so we also need the `!important` here to be able to override the default hidden behavior on the sphinx rendered scikit-learn.org. See: https://github.com/scikit-learn/scikit-learn/issues/21755 */display: inline-block !important;position: relative;}#sk-container-id-8 div.sk-text-repr-fallback {display: none;}</style><div id=\"sk-container-id-8\" class=\"sk-top-container\"><div class=\"sk-text-repr-fallback\"><pre>RandomForestClassifier(min_samples_leaf=2, min_samples_split=4,\n",
       "                       n_estimators=150)</pre><b>In a Jupyter environment, please rerun this cell to show the HTML representation or trust the notebook. <br />On GitHub, the HTML representation is unable to render, please try loading this page with nbviewer.org.</b></div><div class=\"sk-container\" hidden><div class=\"sk-item\"><div class=\"sk-estimator sk-toggleable\"><input class=\"sk-toggleable__control sk-hidden--visually\" id=\"sk-estimator-id-10\" type=\"checkbox\" checked><label for=\"sk-estimator-id-10\" class=\"sk-toggleable__label sk-toggleable__label-arrow\">RandomForestClassifier</label><div class=\"sk-toggleable__content\"><pre>RandomForestClassifier(min_samples_leaf=2, min_samples_split=4,\n",
       "                       n_estimators=150)</pre></div></div></div></div></div>"
      ],
      "text/plain": [
       "RandomForestClassifier(min_samples_leaf=2, min_samples_split=4,\n",
       "                       n_estimators=150)"
      ]
     },
     "execution_count": 120,
     "metadata": {},
     "output_type": "execute_result"
    }
   ],
   "source": [
    "RM3.fit(x_train,y_train)"
   ]
  },
  {
   "cell_type": "code",
   "execution_count": 121,
   "id": "ea984e91",
   "metadata": {},
   "outputs": [],
   "source": [
    "PRERM3=RM3.predict(x_test)"
   ]
  },
  {
   "cell_type": "code",
   "execution_count": 122,
   "id": "9c08d52d",
   "metadata": {},
   "outputs": [
    {
     "name": "stdout",
     "output_type": "stream",
     "text": [
      "0.5583474269147137\n"
     ]
    }
   ],
   "source": [
    "print(accuracy_score(y_test,PRERM3))"
   ]
  },
  {
   "cell_type": "code",
   "execution_count": 123,
   "id": "a46bf21b",
   "metadata": {},
   "outputs": [
    {
     "name": "stdout",
     "output_type": "stream",
     "text": [
      "[[644  98  54  27  41]\n",
      " [228 334 204  35  49]\n",
      " [164 170 270 102  89]\n",
      " [ 66  32 108 294 286]\n",
      " [  4   5   8  58 769]]\n"
     ]
    }
   ],
   "source": [
    "print(confusion_matrix(y_test,PRERM3))"
   ]
  },
  {
   "cell_type": "code",
   "execution_count": 124,
   "id": "148e49ad",
   "metadata": {},
   "outputs": [
    {
     "name": "stdout",
     "output_type": "stream",
     "text": [
      "              precision    recall  f1-score   support\n",
      "\n",
      "           1       0.58      0.75      0.65       864\n",
      "           2       0.52      0.39      0.45       850\n",
      "           3       0.42      0.34      0.38       795\n",
      "           4       0.57      0.37      0.45       786\n",
      "           5       0.62      0.91      0.74       844\n",
      "\n",
      "    accuracy                           0.56      4139\n",
      "   macro avg       0.54      0.55      0.53      4139\n",
      "weighted avg       0.54      0.56      0.54      4139\n",
      "\n"
     ]
    }
   ],
   "source": [
    "print(classification_report(y_test,PRERM3))"
   ]
  },
  {
   "cell_type": "markdown",
   "id": "cc0a2c14",
   "metadata": {},
   "source": [
    "## AUC ROC CURVE"
   ]
  },
  {
   "cell_type": "code",
   "execution_count": 125,
   "id": "5d3ea4c3",
   "metadata": {},
   "outputs": [],
   "source": [
    "y_prob_pred8=RM3.predict_proba(x_test)"
   ]
  },
  {
   "cell_type": "code",
   "execution_count": 126,
   "id": "424cb13c",
   "metadata": {},
   "outputs": [
    {
     "data": {
      "text/plain": [
       "Text(0, 0.5, 'True Positive rate')"
      ]
     },
     "execution_count": 126,
     "metadata": {},
     "output_type": "execute_result"
    },
    {
     "data": {
      "image/png": "[encoded data removed]",
      "text/plain": [
       "<Figure size 432x288 with 1 Axes>"
      ]
     },
     "metadata": {
      "needs_background": "light"
     },
     "output_type": "display_data"
    }
   ],
   "source": [
    "fpr={}\n",
    "tpr={}\n",
    "thresh={}\n",
    "\n",
    "n_class = 5\n",
    "for i in range(n_class):    \n",
    "    fpr[i],tpr[i],thresh[i]=roc_curve(y_test, y_prob_pred8[:,i], pos_label=i)\n",
    "    \n",
    "plt.plot(fpr[0],tpr[0],label='Class 0 vs Rest')\n",
    "plt.plot(fpr[1],tpr[1],label='Class 1 vs Rest')\n",
    "plt.plot(fpr[2],tpr[2],label='Class 2 vs Rest')\n",
    "plt.plot(fpr[3],tpr[3],label='Class 3 vs Rest')\n",
    "plt.plot(fpr[4],tpr[4],label='Class 4 vs Rest')\n",
    "plt.title('Multiclass ROC curve')\n",
    "plt.xlabel('False Positive Rate')\n",
    "plt.ylabel('True Positive rate') "
   ]
  },
  {
   "cell_type": "markdown",
   "id": "a33287ba",
   "metadata": {},
   "source": [
    "## SAVING THE BEST MODEL - RM3"
   ]
  },
  {
   "cell_type": "code",
   "execution_count": 127,
   "id": "9a23e744",
   "metadata": {},
   "outputs": [],
   "source": [
    "import pickle"
   ]
  },
  {
   "cell_type": "code",
   "execution_count": 128,
   "id": "3fff811b",
   "metadata": {},
   "outputs": [],
   "source": [
    "filename='ratings.pkl'\n",
    "pickle.dump(RM3,open(filename,'wb'))"
   ]
  },
  {
   "cell_type": "code",
   "execution_count": 129,
   "id": "29d6e0a5",
   "metadata": {},
   "outputs": [],
   "source": [
    "loaded_model8=pickle.load(open('ratings.pkl','rb'))"
   ]
  },
  {
   "cell_type": "code",
   "execution_count": 130,
   "id": "b8458df1",
   "metadata": {},
   "outputs": [],
   "source": [
    "conclusion8=pd.DataFrame([loaded_model8.predict(x_test)[:],y_test[:]],index=['PREDICTED','ORIGINAL'])"
   ]
  },
  {
   "cell_type": "code",
   "execution_count": 131,
   "id": "9f78ce16",
   "metadata": {},
   "outputs": [
    {
     "data": {
      "text/html": [
       "<div>\n",
       "<style scoped>\n",
       "    .dataframe tbody tr th:only-of-type {\n",
       "        vertical-align: middle;\n",
       "    }\n",
       "\n",
       "    .dataframe tbody tr th {\n",
       "        vertical-align: top;\n",
       "    }\n",
       "\n",
       "    .dataframe thead th {\n",
       "        text-align: right;\n",
       "    }\n",
       "</style>\n",
       "<table border=\"1\" class=\"dataframe\">\n",
       "  <thead>\n",
       "    <tr style=\"text-align: right;\">\n",
       "      <th></th>\n",
       "      <th>0</th>\n",
       "      <th>1</th>\n",
       "      <th>2</th>\n",
       "      <th>3</th>\n",
       "      <th>4</th>\n",
       "      <th>5</th>\n",
       "      <th>6</th>\n",
       "      <th>7</th>\n",
       "      <th>8</th>\n",
       "      <th>9</th>\n",
       "      <th>...</th>\n",
       "      <th>4129</th>\n",
       "      <th>4130</th>\n",
       "      <th>4131</th>\n",
       "      <th>4132</th>\n",
       "      <th>4133</th>\n",
       "      <th>4134</th>\n",
       "      <th>4135</th>\n",
       "      <th>4136</th>\n",
       "      <th>4137</th>\n",
       "      <th>4138</th>\n",
       "    </tr>\n",
       "  </thead>\n",
       "  <tbody>\n",
       "    <tr>\n",
       "      <th>PREDICTED</th>\n",
       "      <td>1</td>\n",
       "      <td>4</td>\n",
       "      <td>5</td>\n",
       "      <td>5</td>\n",
       "      <td>3</td>\n",
       "      <td>2</td>\n",
       "      <td>3</td>\n",
       "      <td>1</td>\n",
       "      <td>1</td>\n",
       "      <td>2</td>\n",
       "      <td>...</td>\n",
       "      <td>5</td>\n",
       "      <td>1</td>\n",
       "      <td>3</td>\n",
       "      <td>5</td>\n",
       "      <td>5</td>\n",
       "      <td>2</td>\n",
       "      <td>2</td>\n",
       "      <td>3</td>\n",
       "      <td>3</td>\n",
       "      <td>2</td>\n",
       "    </tr>\n",
       "    <tr>\n",
       "      <th>ORIGINAL</th>\n",
       "      <td>1</td>\n",
       "      <td>4</td>\n",
       "      <td>5</td>\n",
       "      <td>5</td>\n",
       "      <td>2</td>\n",
       "      <td>2</td>\n",
       "      <td>2</td>\n",
       "      <td>2</td>\n",
       "      <td>1</td>\n",
       "      <td>2</td>\n",
       "      <td>...</td>\n",
       "      <td>5</td>\n",
       "      <td>3</td>\n",
       "      <td>3</td>\n",
       "      <td>4</td>\n",
       "      <td>5</td>\n",
       "      <td>2</td>\n",
       "      <td>3</td>\n",
       "      <td>1</td>\n",
       "      <td>3</td>\n",
       "      <td>2</td>\n",
       "    </tr>\n",
       "  </tbody>\n",
       "</table>\n",
       "<p>2 rows × 4139 columns</p>\n",
       "</div>"
      ],
      "text/plain": [
       "           0     1     2     3     4     5     6     7     8     9     ...  \\\n",
       "PREDICTED     1     4     5     5     3     2     3     1     1     2  ...   \n",
       "ORIGINAL      1     4     5     5     2     2     2     2     1     2  ...   \n",
       "\n",
       "           4129  4130  4131  4132  4133  4134  4135  4136  4137  4138  \n",
       "PREDICTED     5     1     3     5     5     2     2     3     3     2  \n",
       "ORIGINAL      5     3     3     4     5     2     3     1     3     2  \n",
       "\n",
       "[2 rows x 4139 columns]"
      ]
     },
     "execution_count": 131,
     "metadata": {},
     "output_type": "execute_result"
    }
   ],
   "source": [
    "conclusion8"
   ]
  },
  {
   "cell_type": "code",
   "execution_count": null,
   "id": "ad7ee002",
   "metadata": {},
   "outputs": [],
   "source": []
  }
 ],
 "metadata": {
  "kernelspec": {
   "display_name": "Python 3 (ipykernel)",
   "language": "python",
   "name": "python3"
  },
  "language_info": {
   "codemirror_mode": {
    "name": "ipython",
    "version": 3
   },
   "file_extension": ".py",
   "mimetype": "text/x-python",
   "name": "python",
   "nbconvert_exporter": "python",
   "pygments_lexer": "ipython3",
   "version": "3.9.12"
  }
 },
 "nbformat": 4,
 "nbformat_minor": 5
}
